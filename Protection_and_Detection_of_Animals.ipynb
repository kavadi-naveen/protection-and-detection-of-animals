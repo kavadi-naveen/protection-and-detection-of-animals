{
  "nbformat": 4,
  "nbformat_minor": 0,
  "metadata": {
    "colab": {
      "name": "Protection and Detection of Animals.ipynb",
      "provenance": [],
      "collapsed_sections": []
    },
    "kernelspec": {
      "name": "python3",
      "display_name": "Python 3"
    },
    "language_info": {
      "name": "python"
    },
    "accelerator": "GPU"
  },
  "cells": [
    {
      "cell_type": "markdown",
      "source": [
        "### Image Classification"
      ],
      "metadata": {
        "id": "_-HKxUaKreq7"
      }
    },
    {
      "cell_type": "code",
      "execution_count": null,
      "metadata": {
        "id": "GkdEQoAFynbW"
      },
      "outputs": [],
      "source": [
        "import pandas as pd\n",
        "import numpy as np\n",
        "import matplotlib.pyplot as plt\n",
        "import glob"
      ]
    },
    {
      "cell_type": "code",
      "source": [
        "!pip install tensorflow"
      ],
      "metadata": {
        "id": "3lWyID1KfoQk"
      },
      "execution_count": null,
      "outputs": []
    },
    {
      "cell_type": "code",
      "source": [
        "!pip install keras"
      ],
      "metadata": {
        "colab": {
          "base_uri": "https://localhost:8080/"
        },
        "id": "3Xd_7CNyg_uL",
        "outputId": "391bb1ee-c7b5-4c4d-9bef-761a6b78499d"
      },
      "execution_count": null,
      "outputs": [
        {
          "output_type": "stream",
          "name": "stdout",
          "text": [
            "Requirement already satisfied: keras in /usr/local/lib/python3.7/dist-packages (2.8.0)\n"
          ]
        }
      ]
    },
    {
      "cell_type": "code",
      "source": [
        "import tensorflow as tf\n",
        "from keras.applications.vgg16 import VGG16\n",
        "from keras.layers import Dense, Input, Flatten\n",
        "from keras.preprocessing import image\n",
        "from keras.models import Model"
      ],
      "metadata": {
        "id": "D85hg3mdfkYv"
      },
      "execution_count": null,
      "outputs": []
    },
    {
      "cell_type": "code",
      "source": [
        "import warnings\n",
        "warnings.filterwarnings('ignore')"
      ],
      "metadata": {
        "id": "fJL3jpVVgdtc"
      },
      "execution_count": null,
      "outputs": []
    },
    {
      "cell_type": "code",
      "source": [
        "from IPython.display import Image, display"
      ],
      "metadata": {
        "id": "_514YQioggqo"
      },
      "execution_count": null,
      "outputs": []
    },
    {
      "cell_type": "code",
      "source": [
        "!nvidia-smi"
      ],
      "metadata": {
        "colab": {
          "base_uri": "https://localhost:8080/"
        },
        "id": "vtBfPa3ogiV5",
        "outputId": "e6823bef-91af-4fd3-a2dd-4b1af90a75ec"
      },
      "execution_count": null,
      "outputs": [
        {
          "output_type": "stream",
          "name": "stdout",
          "text": [
            "Fri May  6 17:39:15 2022       \n",
            "+-----------------------------------------------------------------------------+\n",
            "| NVIDIA-SMI 460.32.03    Driver Version: 460.32.03    CUDA Version: 11.2     |\n",
            "|-------------------------------+----------------------+----------------------+\n",
            "| GPU  Name        Persistence-M| Bus-Id        Disp.A | Volatile Uncorr. ECC |\n",
            "| Fan  Temp  Perf  Pwr:Usage/Cap|         Memory-Usage | GPU-Util  Compute M. |\n",
            "|                               |                      |               MIG M. |\n",
            "|===============================+======================+======================|\n",
            "|   0  Tesla K80           Off  | 00000000:00:04.0 Off |                    0 |\n",
            "| N/A   30C    P8    28W / 149W |      0MiB / 11441MiB |      0%      Default |\n",
            "|                               |                      |                  N/A |\n",
            "+-------------------------------+----------------------+----------------------+\n",
            "                                                                               \n",
            "+-----------------------------------------------------------------------------+\n",
            "| Processes:                                                                  |\n",
            "|  GPU   GI   CI        PID   Type   Process name                  GPU Memory |\n",
            "|        ID   ID                                                   Usage      |\n",
            "|=============================================================================|\n",
            "|  No running processes found                                                 |\n",
            "+-----------------------------------------------------------------------------+\n"
          ]
        }
      ]
    },
    {
      "cell_type": "code",
      "source": [
        "# Dog Image\n",
        "display(Image('/content/drive/MyDrive/Naveen Images/Train/Dogs/image_1.jpeg'))"
      ],
      "metadata": {
        "colab": {
          "base_uri": "https://localhost:8080/",
          "height": 737
        },
        "id": "gFunjVaSgkJE",
        "outputId": "2626f4c7-8146-4317-ac62-808f9dba4885"
      },
      "execution_count": null,
      "outputs": [
        {
          "output_type": "display_data",
          "data": {
            "text/plain": [
              "<IPython.core.display.Image object>"
            ],
            "image/jpeg": "[encoded data removed]"
          },
          "metadata": {}
        }
      ]
    },
    {
      "cell_type": "code",
      "source": [
        "IMAGE_SIZE = [224, 224]\n",
        "\n",
        "train_path = '/content/drive/MyDrive/Naveen Images/Train'\n",
        "test_path = '/content/drive/MyDrive/Naveen Images/Test'"
      ],
      "metadata": {
        "id": "erw2jNEvgutt"
      },
      "execution_count": null,
      "outputs": []
    },
    {
      "cell_type": "code",
      "source": [
        "train_datagen = image.ImageDataGenerator(rescale = 1./255)\n",
        "test_datagen = image.ImageDataGenerator(rescale = 1./255)\n",
        "\n",
        "# Make sure you provide the same target size as initialied for the image size\n",
        "train_set = train_datagen.flow_from_directory(train_path,\n",
        "                                                 target_size = (224, 224),\n",
        "                                                 batch_size = 64,\n",
        "                                                 class_mode = 'categorical')\n",
        "\n",
        "test_set = test_datagen.flow_from_directory(test_path,\n",
        "                                            target_size = (224, 224),\n",
        "                                            batch_size = 64,\n",
        "                                            class_mode = 'categorical')"
      ],
      "metadata": {
        "colab": {
          "base_uri": "https://localhost:8080/"
        },
        "id": "U19VTiMBg202",
        "outputId": "f2382024-215c-495b-8e4f-e10130e75841"
      },
      "execution_count": null,
      "outputs": [
        {
          "output_type": "stream",
          "name": "stdout",
          "text": [
            "Found 94 images belonging to 4 classes.\n",
            "Found 24 images belonging to 4 classes.\n"
          ]
        }
      ]
    },
    {
      "cell_type": "code",
      "source": [
        "vgg = VGG16(input_shape=IMAGE_SIZE + [3], weights='imagenet', include_top=False)"
      ],
      "metadata": {
        "colab": {
          "base_uri": "https://localhost:8080/"
        },
        "id": "TH0z-Wqwg7z8",
        "outputId": "a6c440d2-d0e5-4a3e-cfd3-2613aaaab7b1"
      },
      "execution_count": null,
      "outputs": [
        {
          "output_type": "stream",
          "name": "stdout",
          "text": [
            "Downloading data from https://storage.googleapis.com/tensorflow/keras-applications/vgg16/vgg16_weights_tf_dim_ordering_tf_kernels_notop.h5\n",
            "58892288/58889256 [==============================] - 1s 0us/step\n",
            "58900480/58889256 [==============================] - 1s 0us/step\n"
          ]
        }
      ]
    },
    {
      "cell_type": "code",
      "source": [
        "for layer in vgg.layers:\n",
        "    layer.trainable = False"
      ],
      "metadata": {
        "id": "dIMJSou7hh88"
      },
      "execution_count": null,
      "outputs": []
    },
    {
      "cell_type": "code",
      "source": [
        "folders = 4\n",
        "x = Flatten()(vgg.output)"
      ],
      "metadata": {
        "id": "e1172gTOhkmZ"
      },
      "execution_count": null,
      "outputs": []
    },
    {
      "cell_type": "code",
      "source": [
        "prediction = Dense(4, activation='softmax')(x)\n",
        "model = Model(inputs=vgg.input, outputs=prediction)"
      ],
      "metadata": {
        "id": "o_jBLDDOhmFf"
      },
      "execution_count": null,
      "outputs": []
    },
    {
      "cell_type": "code",
      "source": [
        "model.summary()"
      ],
      "metadata": {
        "colab": {
          "base_uri": "https://localhost:8080/"
        },
        "id": "EQtLG87Sh0pt",
        "outputId": "fb86b8a3-fc60-4ba7-b8d8-40979bf1f1ae"
      },
      "execution_count": null,
      "outputs": [
        {
          "output_type": "stream",
          "name": "stdout",
          "text": [
            "Model: \"model\"\n",
            "_________________________________________________________________\n",
            " Layer (type)                Output Shape              Param #   \n",
            "=================================================================\n",
            " input_1 (InputLayer)        [(None, 224, 224, 3)]     0         \n",
            "                                                                 \n",
            " block1_conv1 (Conv2D)       (None, 224, 224, 64)      1792      \n",
            "                                                                 \n",
            " block1_conv2 (Conv2D)       (None, 224, 224, 64)      36928     \n",
            "                                                                 \n",
            " block1_pool (MaxPooling2D)  (None, 112, 112, 64)      0         \n",
            "                                                                 \n",
            " block2_conv1 (Conv2D)       (None, 112, 112, 128)     73856     \n",
            "                                                                 \n",
            " block2_conv2 (Conv2D)       (None, 112, 112, 128)     147584    \n",
            "                                                                 \n",
            " block2_pool (MaxPooling2D)  (None, 56, 56, 128)       0         \n",
            "                                                                 \n",
            " block3_conv1 (Conv2D)       (None, 56, 56, 256)       295168    \n",
            "                                                                 \n",
            " block3_conv2 (Conv2D)       (None, 56, 56, 256)       590080    \n",
            "                                                                 \n",
            " block3_conv3 (Conv2D)       (None, 56, 56, 256)       590080    \n",
            "                                                                 \n",
            " block3_pool (MaxPooling2D)  (None, 28, 28, 256)       0         \n",
            "                                                                 \n",
            " block4_conv1 (Conv2D)       (None, 28, 28, 512)       1180160   \n",
            "                                                                 \n",
            " block4_conv2 (Conv2D)       (None, 28, 28, 512)       2359808   \n",
            "                                                                 \n",
            " block4_conv3 (Conv2D)       (None, 28, 28, 512)       2359808   \n",
            "                                                                 \n",
            " block4_pool (MaxPooling2D)  (None, 14, 14, 512)       0         \n",
            "                                                                 \n",
            " block5_conv1 (Conv2D)       (None, 14, 14, 512)       2359808   \n",
            "                                                                 \n",
            " block5_conv2 (Conv2D)       (None, 14, 14, 512)       2359808   \n",
            "                                                                 \n",
            " block5_conv3 (Conv2D)       (None, 14, 14, 512)       2359808   \n",
            "                                                                 \n",
            " block5_pool (MaxPooling2D)  (None, 7, 7, 512)         0         \n",
            "                                                                 \n",
            " flatten (Flatten)           (None, 25088)             0         \n",
            "                                                                 \n",
            " dense (Dense)               (None, 4)                 100356    \n",
            "                                                                 \n",
            "=================================================================\n",
            "Total params: 14,815,044\n",
            "Trainable params: 100,356\n",
            "Non-trainable params: 14,714,688\n",
            "_________________________________________________________________\n"
          ]
        }
      ]
    },
    {
      "cell_type": "code",
      "source": [
        "model.compile(\n",
        "  loss='categorical_crossentropy',\n",
        "  optimizer='adam',\n",
        "  metrics=['accuracy']\n",
        ")"
      ],
      "metadata": {
        "id": "rMt08FKxiB3r"
      },
      "execution_count": null,
      "outputs": []
    },
    {
      "cell_type": "code",
      "source": [
        "steps, valid_steps = len(train_set), len(test_set)\n",
        "steps, valid_steps"
      ],
      "metadata": {
        "colab": {
          "base_uri": "https://localhost:8080/"
        },
        "id": "36piIpuliT_d",
        "outputId": "04822b90-c80b-4d42-e6aa-5f005eb56d13"
      },
      "execution_count": null,
      "outputs": [
        {
          "output_type": "execute_result",
          "data": {
            "text/plain": [
              "(2, 1)"
            ]
          },
          "metadata": {},
          "execution_count": 17
        }
      ]
    },
    {
      "cell_type": "code",
      "source": [
        "history = model.fit(train_set, validation_data=test_set, epochs=25)"
      ],
      "metadata": {
        "colab": {
          "base_uri": "https://localhost:8080/"
        },
        "id": "1ITagiwpiEbt",
        "outputId": "5205a73c-bdf2-4f7e-ee2f-f4898c8adabc"
      },
      "execution_count": null,
      "outputs": [
        {
          "output_type": "stream",
          "name": "stdout",
          "text": [
            "Epoch 1/25\n",
            "2/2 [==============================] - 32s 17s/step - loss: 2.1391 - accuracy: 0.3191 - val_loss: 1.0465 - val_accuracy: 0.5417\n",
            "Epoch 2/25\n",
            "2/2 [==============================] - 2s 1s/step - loss: 0.9215 - accuracy: 0.7021 - val_loss: 1.6844 - val_accuracy: 0.4583\n",
            "Epoch 3/25\n",
            "2/2 [==============================] - 2s 2s/step - loss: 0.8032 - accuracy: 0.6489 - val_loss: 0.7182 - val_accuracy: 0.7500\n",
            "Epoch 4/25\n",
            "2/2 [==============================] - 2s 1s/step - loss: 0.3380 - accuracy: 0.9362 - val_loss: 1.1653 - val_accuracy: 0.5417\n",
            "Epoch 5/25\n",
            "2/2 [==============================] - 2s 1s/step - loss: 0.4973 - accuracy: 0.8191 - val_loss: 0.8465 - val_accuracy: 0.7083\n",
            "Epoch 6/25\n",
            "2/2 [==============================] - 2s 1s/step - loss: 0.2164 - accuracy: 0.9149 - val_loss: 0.7268 - val_accuracy: 0.7500\n",
            "Epoch 7/25\n",
            "2/2 [==============================] - 2s 1s/step - loss: 0.0889 - accuracy: 0.9894 - val_loss: 0.8721 - val_accuracy: 0.6250\n",
            "Epoch 8/25\n",
            "2/2 [==============================] - 2s 2s/step - loss: 0.0987 - accuracy: 0.9894 - val_loss: 0.8969 - val_accuracy: 0.6667\n",
            "Epoch 9/25\n",
            "2/2 [==============================] - 2s 2s/step - loss: 0.0841 - accuracy: 0.9894 - val_loss: 0.8534 - val_accuracy: 0.6667\n",
            "Epoch 10/25\n",
            "2/2 [==============================] - 2s 2s/step - loss: 0.0537 - accuracy: 1.0000 - val_loss: 0.7882 - val_accuracy: 0.6667\n",
            "Epoch 11/25\n",
            "2/2 [==============================] - 2s 1s/step - loss: 0.0373 - accuracy: 1.0000 - val_loss: 0.7409 - val_accuracy: 0.6667\n",
            "Epoch 12/25\n",
            "2/2 [==============================] - 2s 2s/step - loss: 0.0247 - accuracy: 1.0000 - val_loss: 0.7176 - val_accuracy: 0.7083\n",
            "Epoch 13/25\n",
            "2/2 [==============================] - 2s 2s/step - loss: 0.0198 - accuracy: 1.0000 - val_loss: 0.6904 - val_accuracy: 0.7500\n",
            "Epoch 14/25\n",
            "2/2 [==============================] - 2s 1s/step - loss: 0.0156 - accuracy: 1.0000 - val_loss: 0.6721 - val_accuracy: 0.7500\n",
            "Epoch 15/25\n",
            "2/2 [==============================] - 2s 1s/step - loss: 0.0129 - accuracy: 1.0000 - val_loss: 0.6678 - val_accuracy: 0.7500\n",
            "Epoch 16/25\n",
            "2/2 [==============================] - 2s 1s/step - loss: 0.0115 - accuracy: 1.0000 - val_loss: 0.6781 - val_accuracy: 0.7500\n",
            "Epoch 17/25\n",
            "2/2 [==============================] - 2s 1s/step - loss: 0.0104 - accuracy: 1.0000 - val_loss: 0.6972 - val_accuracy: 0.7500\n",
            "Epoch 18/25\n",
            "2/2 [==============================] - 2s 2s/step - loss: 0.0097 - accuracy: 1.0000 - val_loss: 0.7182 - val_accuracy: 0.7500\n",
            "Epoch 19/25\n",
            "2/2 [==============================] - 2s 1s/step - loss: 0.0092 - accuracy: 1.0000 - val_loss: 0.7322 - val_accuracy: 0.7500\n",
            "Epoch 20/25\n",
            "2/2 [==============================] - 2s 1s/step - loss: 0.0082 - accuracy: 1.0000 - val_loss: 0.7350 - val_accuracy: 0.7500\n",
            "Epoch 21/25\n",
            "2/2 [==============================] - 3s 1s/step - loss: 0.0072 - accuracy: 1.0000 - val_loss: 0.7288 - val_accuracy: 0.7500\n",
            "Epoch 22/25\n",
            "2/2 [==============================] - 2s 2s/step - loss: 0.0059 - accuracy: 1.0000 - val_loss: 0.7223 - val_accuracy: 0.7500\n",
            "Epoch 23/25\n",
            "2/2 [==============================] - 2s 1s/step - loss: 0.0053 - accuracy: 1.0000 - val_loss: 0.7140 - val_accuracy: 0.7500\n",
            "Epoch 24/25\n",
            "2/2 [==============================] - 2s 2s/step - loss: 0.0045 - accuracy: 1.0000 - val_loss: 0.7081 - val_accuracy: 0.7500\n",
            "Epoch 25/25\n",
            "2/2 [==============================] - 2s 1s/step - loss: 0.0042 - accuracy: 1.0000 - val_loss: 0.7038 - val_accuracy: 0.7500\n"
          ]
        }
      ]
    },
    {
      "cell_type": "code",
      "source": [
        "import matplotlib.pyplot as plt"
      ],
      "metadata": {
        "id": "NLiczDW2iZRq"
      },
      "execution_count": null,
      "outputs": []
    },
    {
      "cell_type": "code",
      "source": [
        "# Training loss and validation loss\n",
        "loss = history.history['loss']\n",
        "val_loss = history.history['val_loss']\n",
        "epochs = range(1, 26)\n",
        "\n",
        "plt.figure(figsize=(10, 5))\n",
        "plt.plot(epochs, loss, 'b',label='training_loss')\n",
        "plt.plot(epochs, val_loss, 'r', label='valid_loss')\n",
        "plt.xlabel('epochs')\n",
        "plt.legend()\n",
        "plt.show()"
      ],
      "metadata": {
        "colab": {
          "base_uri": "https://localhost:8080/",
          "height": 334
        },
        "id": "3jUHL9u9jO7Q",
        "outputId": "884e4e43-6a58-494c-fc69-f10dad2e7323"
      },
      "execution_count": null,
      "outputs": [
        {
          "output_type": "display_data",
          "data": {
            "text/plain": [
              "<Figure size 720x360 with 1 Axes>"
            ],
            "image/png": "[encoded data removed]"
          },
          "metadata": {
            "needs_background": "light"
          }
        }
      ]
    },
    {
      "cell_type": "code",
      "source": [
        "# Training accuracy and validation accuracy\n",
        "accuracy = history.history['accuracy']\n",
        "val_accuracy = history.history['val_accuracy']\n",
        "\n",
        "plt.figure(figsize=(10, 6))\n",
        "plt.plot(epochs, accuracy, 'b',label='train_accuracy')\n",
        "plt.plot(epochs, val_accuracy, 'r', label='val_accuracy')\n",
        "plt.xlabel('epochs')\n",
        "plt.legend()\n",
        "plt.show()"
      ],
      "metadata": {
        "colab": {
          "base_uri": "https://localhost:8080/",
          "height": 388
        },
        "id": "HnaeDikWjTau",
        "outputId": "9da73fc0-5b97-433d-d7a6-62318eb36cbe"
      },
      "execution_count": null,
      "outputs": [
        {
          "output_type": "display_data",
          "data": {
            "text/plain": [
              "<Figure size 720x432 with 1 Axes>"
            ],
            "image/png": "[encoded data removed]"
          },
          "metadata": {
            "needs_background": "light"
          }
        }
      ]
    },
    {
      "cell_type": "code",
      "source": [
        "# test predictions\n",
        "len(test_set)"
      ],
      "metadata": {
        "colab": {
          "base_uri": "https://localhost:8080/"
        },
        "id": "HTZh7AlTjY58",
        "outputId": "60edb0cc-7f55-4cde-cdfa-9eab88310e05"
      },
      "execution_count": null,
      "outputs": [
        {
          "output_type": "execute_result",
          "data": {
            "text/plain": [
              "1"
            ]
          },
          "metadata": {},
          "execution_count": 22
        }
      ]
    },
    {
      "cell_type": "code",
      "source": [
        "y_true = []\n",
        "y_pred = []"
      ],
      "metadata": {
        "id": "mwQ0teTCjfbw"
      },
      "execution_count": null,
      "outputs": []
    },
    {
      "cell_type": "code",
      "source": [
        "for i in range(1):\n",
        "  x, y = test_set[i]\n",
        "  y_true.extend([np.argmax(i) for i in y])\n",
        "  y_pred.extend([np.argmax(i) for i in model.predict(x)])"
      ],
      "metadata": {
        "id": "iWvOPXUkjj9s"
      },
      "execution_count": null,
      "outputs": []
    },
    {
      "cell_type": "code",
      "source": [
        "len(y_true), len(y_pred)"
      ],
      "metadata": {
        "colab": {
          "base_uri": "https://localhost:8080/"
        },
        "id": "fVMwMANfjmun",
        "outputId": "1522e65c-21d9-4bbe-8e1f-8fb57198c143"
      },
      "execution_count": null,
      "outputs": [
        {
          "output_type": "execute_result",
          "data": {
            "text/plain": [
              "(24, 24)"
            ]
          },
          "metadata": {},
          "execution_count": 25
        }
      ]
    },
    {
      "cell_type": "code",
      "source": [
        "labels = list(train_set.class_indices.keys())\n",
        "labels"
      ],
      "metadata": {
        "colab": {
          "base_uri": "https://localhost:8080/"
        },
        "id": "MuFivrCNjpAa",
        "outputId": "9b3f105e-d1c3-409a-d525-896b9f9f1bb7"
      },
      "execution_count": null,
      "outputs": [
        {
          "output_type": "execute_result",
          "data": {
            "text/plain": [
              "['Cows', 'Deers', 'Dogs', 'Leopards']"
            ]
          },
          "metadata": {},
          "execution_count": 26
        }
      ]
    },
    {
      "cell_type": "code",
      "source": [
        "from sklearn.metrics import classification_report, confusion_matrix\n",
        "pd.DataFrame(confusion_matrix(y_true, y_pred), index=['Cows', 'Deers', 'Dogs', 'Leopards'], columns=labels)"
      ],
      "metadata": {
        "colab": {
          "base_uri": "https://localhost:8080/",
          "height": 175
        },
        "id": "Jey6Mu_rjsBu",
        "outputId": "ab41c39a-ae69-471d-cca6-3fc8f024d66b"
      },
      "execution_count": null,
      "outputs": [
        {
          "output_type": "execute_result",
          "data": {
            "text/plain": [
              "          Cows  Deers  Dogs  Leopards\n",
              "Cows         4      1     0         1\n",
              "Deers        1      4     0         1\n",
              "Dogs         1      0     4         1\n",
              "Leopards     0      0     0         6"
            ],
            "text/html": [
              "\n",
              "  <div id=\"df-1d5e6373-ea48-4c3c-8639-4c9b53867006\">\n",
              "    <div class=\"colab-df-container\">\n",
              "      <div>\n",
              "<style scoped>\n",
              "    .dataframe tbody tr th:only-of-type {\n",
              "        vertical-align: middle;\n",
              "    }\n",
              "\n",
              "    .dataframe tbody tr th {\n",
              "        vertical-align: top;\n",
              "    }\n",
              "\n",
              "    .dataframe thead th {\n",
              "        text-align: right;\n",
              "    }\n",
              "</style>\n",
              "<table border=\"1\" class=\"dataframe\">\n",
              "  <thead>\n",
              "    <tr style=\"text-align: right;\">\n",
              "      <th></th>\n",
              "      <th>Cows</th>\n",
              "      <th>Deers</th>\n",
              "      <th>Dogs</th>\n",
              "      <th>Leopards</th>\n",
              "    </tr>\n",
              "  </thead>\n",
              "  <tbody>\n",
              "    <tr>\n",
              "      <th>Cows</th>\n",
              "      <td>4</td>\n",
              "      <td>1</td>\n",
              "      <td>0</td>\n",
              "      <td>1</td>\n",
              "    </tr>\n",
              "    <tr>\n",
              "      <th>Deers</th>\n",
              "      <td>1</td>\n",
              "      <td>4</td>\n",
              "      <td>0</td>\n",
              "      <td>1</td>\n",
              "    </tr>\n",
              "    <tr>\n",
              "      <th>Dogs</th>\n",
              "      <td>1</td>\n",
              "      <td>0</td>\n",
              "      <td>4</td>\n",
              "      <td>1</td>\n",
              "    </tr>\n",
              "    <tr>\n",
              "      <th>Leopards</th>\n",
              "      <td>0</td>\n",
              "      <td>0</td>\n",
              "      <td>0</td>\n",
              "      <td>6</td>\n",
              "    </tr>\n",
              "  </tbody>\n",
              "</table>\n",
              "</div>\n",
              "      <button class=\"colab-df-convert\" onclick=\"convertToInteractive('df-1d5e6373-ea48-4c3c-8639-4c9b53867006')\"\n",
              "              title=\"Convert this dataframe to an interactive table.\"\n",
              "              style=\"display:none;\">\n",
              "        \n",
              "  <svg xmlns=\"http://www.w3.org/2000/svg\" height=\"24px\"viewBox=\"0 0 24 24\"\n",
              "       width=\"24px\">\n",
              "    <path d=\"M0 0h24v24H0V0z\" fill=\"none\"/>\n",
              "    <path d=\"M18.56 5.44l.94 2.06.94-2.06 2.06-.94-2.06-.94-.94-2.06-.94 2.06-2.06.94zm-11 1L8.5 8.5l.94-2.06 2.06-.94-2.06-.94L8.5 2.5l-.94 2.06-2.06.94zm10 10l.94 2.06.94-2.06 2.06-.94-2.06-.94-.94-2.06-.94 2.06-2.06.94z\"/><path d=\"M17.41 7.96l-1.37-1.37c-.4-.4-.92-.59-1.43-.59-.52 0-1.04.2-1.43.59L10.3 9.45l-7.72 7.72c-.78.78-.78 2.05 0 2.83L4 21.41c.39.39.9.59 1.41.59.51 0 1.02-.2 1.41-.59l7.78-7.78 2.81-2.81c.8-.78.8-2.07 0-2.86zM5.41 20L4 18.59l7.72-7.72 1.47 1.35L5.41 20z\"/>\n",
              "  </svg>\n",
              "      </button>\n",
              "      \n",
              "  <style>\n",
              "    .colab-df-container {\n",
              "      display:flex;\n",
              "      flex-wrap:wrap;\n",
              "      gap: 12px;\n",
              "    }\n",
              "\n",
              "    .colab-df-convert {\n",
              "      background-color: #E8F0FE;\n",
              "      border: none;\n",
              "      border-radius: 50%;\n",
              "      cursor: pointer;\n",
              "      display: none;\n",
              "      fill: #1967D2;\n",
              "      height: 32px;\n",
              "      padding: 0 0 0 0;\n",
              "      width: 32px;\n",
              "    }\n",
              "\n",
              "    .colab-df-convert:hover {\n",
              "      background-color: #E2EBFA;\n",
              "      box-shadow: 0px 1px 2px rgba(60, 64, 67, 0.3), 0px 1px 3px 1px rgba(60, 64, 67, 0.15);\n",
              "      fill: #174EA6;\n",
              "    }\n",
              "\n",
              "    [theme=dark] .colab-df-convert {\n",
              "      background-color: #3B4455;\n",
              "      fill: #D2E3FC;\n",
              "    }\n",
              "\n",
              "    [theme=dark] .colab-df-convert:hover {\n",
              "      background-color: #434B5C;\n",
              "      box-shadow: 0px 1px 3px 1px rgba(0, 0, 0, 0.15);\n",
              "      filter: drop-shadow(0px 1px 2px rgba(0, 0, 0, 0.3));\n",
              "      fill: #FFFFFF;\n",
              "    }\n",
              "  </style>\n",
              "\n",
              "      <script>\n",
              "        const buttonEl =\n",
              "          document.querySelector('#df-1d5e6373-ea48-4c3c-8639-4c9b53867006 button.colab-df-convert');\n",
              "        buttonEl.style.display =\n",
              "          google.colab.kernel.accessAllowed ? 'block' : 'none';\n",
              "\n",
              "        async function convertToInteractive(key) {\n",
              "          const element = document.querySelector('#df-1d5e6373-ea48-4c3c-8639-4c9b53867006');\n",
              "          const dataTable =\n",
              "            await google.colab.kernel.invokeFunction('convertToInteractive',\n",
              "                                                     [key], {});\n",
              "          if (!dataTable) return;\n",
              "\n",
              "          const docLinkHtml = 'Like what you see? Visit the ' +\n",
              "            '<a target=\"_blank\" href=https://colab.research.google.com/notebooks/data_table.ipynb>data table notebook</a>'\n",
              "            + ' to learn more about interactive tables.';\n",
              "          element.innerHTML = '';\n",
              "          dataTable['output_type'] = 'display_data';\n",
              "          await google.colab.output.renderOutput(dataTable, element);\n",
              "          const docLink = document.createElement('div');\n",
              "          docLink.innerHTML = docLinkHtml;\n",
              "          element.appendChild(docLink);\n",
              "        }\n",
              "      </script>\n",
              "    </div>\n",
              "  </div>\n",
              "  "
            ]
          },
          "metadata": {},
          "execution_count": 27
        }
      ]
    },
    {
      "cell_type": "code",
      "source": [
        "from sklearn.metrics import precision_score, recall_score\n",
        "recall_score(y_true, y_pred,average=None)"
      ],
      "metadata": {
        "colab": {
          "base_uri": "https://localhost:8080/"
        },
        "id": "TCymUMSvj0KP",
        "outputId": "dd9209d4-ef84-4e8b-cd2f-082f78264fe6"
      },
      "execution_count": null,
      "outputs": [
        {
          "output_type": "execute_result",
          "data": {
            "text/plain": [
              "array([0.66666667, 0.66666667, 0.66666667, 1.        ])"
            ]
          },
          "metadata": {},
          "execution_count": 28
        }
      ]
    },
    {
      "cell_type": "code",
      "source": [
        "print(classification_report(y_true, y_pred,target_names=labels))"
      ],
      "metadata": {
        "id": "bYHDpghRj3B3",
        "outputId": "cb6c515b-cc8f-42e7-f17b-72a136309483",
        "colab": {
          "base_uri": "https://localhost:8080/"
        }
      },
      "execution_count": null,
      "outputs": [
        {
          "output_type": "stream",
          "name": "stdout",
          "text": [
            "              precision    recall  f1-score   support\n",
            "\n",
            "        Cows       0.67      0.67      0.67         6\n",
            "       Deers       0.80      0.67      0.73         6\n",
            "        Dogs       1.00      0.67      0.80         6\n",
            "    Leopards       0.67      1.00      0.80         6\n",
            "\n",
            "    accuracy                           0.75        24\n",
            "   macro avg       0.78      0.75      0.75        24\n",
            "weighted avg       0.78      0.75      0.75        24\n",
            "\n"
          ]
        }
      ]
    },
    {
      "cell_type": "code",
      "source": [
        "from keras.applications.vgg16 import preprocess_input"
      ],
      "metadata": {
        "id": "c_eZ_lgqeG-5"
      },
      "execution_count": null,
      "outputs": []
    },
    {
      "cell_type": "code",
      "source": [
        "def predict_class(img_path):\n",
        "  img=image.load_img(img_path,target_size=(224,224))\n",
        "  x=image.img_to_array(img)\n",
        "  x=np.expand_dims(x, axis=0)\n",
        "  img_data=preprocess_input(x)\n",
        "  classes=model.predict(img_data)\n",
        "  return classes"
      ],
      "metadata": {
        "id": "82uTZ7BUj5eC"
      },
      "execution_count": null,
      "outputs": []
    },
    {
      "cell_type": "code",
      "source": [
        "predict_class('/content/drive/MyDrive/Images/Test/Dogs/image_10.jpeg')"
      ],
      "metadata": {
        "colab": {
          "base_uri": "https://localhost:8080/"
        },
        "id": "Qux5PWyad2DJ",
        "outputId": "a9f5961f-756b-4062-e72e-d55402d48443"
      },
      "execution_count": null,
      "outputs": [
        {
          "output_type": "execute_result",
          "data": {
            "text/plain": [
              "array([[1.0000000e+00, 0.0000000e+00, 2.2376785e-15, 0.0000000e+00]],\n",
              "      dtype=float32)"
            ]
          },
          "metadata": {},
          "execution_count": 34
        }
      ]
    },
    {
      "cell_type": "code",
      "source": [
        "model.save('/content/drive/MyDrive/Images/Models/model.h5')"
      ],
      "metadata": {
        "id": "K5MGgFwxeAkK"
      },
      "execution_count": null,
      "outputs": []
    },
    {
      "cell_type": "markdown",
      "source": [
        "## Object Detection"
      ],
      "metadata": {
        "id": "3trBNHigJH-6"
      }
    },
    {
      "cell_type": "code",
      "source": [
        "train_annotation = pd.read_csv('/content/drive/MyDrive/Naveen Images/Annotations/train_annotations.csv')\n",
        "test_annotations = pd.read_csv('/content/drive/MyDrive/Naveen Images/Annotations/test_annotations.csv')"
      ],
      "metadata": {
        "id": "EjaTmREGewDz"
      },
      "execution_count": null,
      "outputs": []
    },
    {
      "cell_type": "code",
      "source": [
        "train_annotation.head()"
      ],
      "metadata": {
        "colab": {
          "base_uri": "https://localhost:8080/",
          "height": 206
        },
        "id": "eu18VSACJN5X",
        "outputId": "1729863b-d90c-48ab-b3fb-cb3ebd2113bb"
      },
      "execution_count": null,
      "outputs": [
        {
          "output_type": "execute_result",
          "data": {
            "text/plain": [
              "   Dog  236  58  187  281  image_29.jpeg  540  360\n",
              "0  Dog    7  14  209  204  image_28.jpeg  224  225\n",
              "1  Dog   57  13  168  148  image_27.jpeg  309  163\n",
              "2  Dog   86   2  116  166  image_26.jpeg  299  168\n",
              "3  Dog   44   4  179  176  image_25.jpeg  275  183\n",
              "4  Dog   16  17  424  351  image_22.jpeg  500  371"
            ],
            "text/html": [
              "\n",
              "  <div id=\"df-ad98505d-0c94-41e6-a941-d726a3c7150f\">\n",
              "    <div class=\"colab-df-container\">\n",
              "      <div>\n",
              "<style scoped>\n",
              "    .dataframe tbody tr th:only-of-type {\n",
              "        vertical-align: middle;\n",
              "    }\n",
              "\n",
              "    .dataframe tbody tr th {\n",
              "        vertical-align: top;\n",
              "    }\n",
              "\n",
              "    .dataframe thead th {\n",
              "        text-align: right;\n",
              "    }\n",
              "</style>\n",
              "<table border=\"1\" class=\"dataframe\">\n",
              "  <thead>\n",
              "    <tr style=\"text-align: right;\">\n",
              "      <th></th>\n",
              "      <th>Dog</th>\n",
              "      <th>236</th>\n",
              "      <th>58</th>\n",
              "      <th>187</th>\n",
              "      <th>281</th>\n",
              "      <th>image_29.jpeg</th>\n",
              "      <th>540</th>\n",
              "      <th>360</th>\n",
              "    </tr>\n",
              "  </thead>\n",
              "  <tbody>\n",
              "    <tr>\n",
              "      <th>0</th>\n",
              "      <td>Dog</td>\n",
              "      <td>7</td>\n",
              "      <td>14</td>\n",
              "      <td>209</td>\n",
              "      <td>204</td>\n",
              "      <td>image_28.jpeg</td>\n",
              "      <td>224</td>\n",
              "      <td>225</td>\n",
              "    </tr>\n",
              "    <tr>\n",
              "      <th>1</th>\n",
              "      <td>Dog</td>\n",
              "      <td>57</td>\n",
              "      <td>13</td>\n",
              "      <td>168</td>\n",
              "      <td>148</td>\n",
              "      <td>image_27.jpeg</td>\n",
              "      <td>309</td>\n",
              "      <td>163</td>\n",
              "    </tr>\n",
              "    <tr>\n",
              "      <th>2</th>\n",
              "      <td>Dog</td>\n",
              "      <td>86</td>\n",
              "      <td>2</td>\n",
              "      <td>116</td>\n",
              "      <td>166</td>\n",
              "      <td>image_26.jpeg</td>\n",
              "      <td>299</td>\n",
              "      <td>168</td>\n",
              "    </tr>\n",
              "    <tr>\n",
              "      <th>3</th>\n",
              "      <td>Dog</td>\n",
              "      <td>44</td>\n",
              "      <td>4</td>\n",
              "      <td>179</td>\n",
              "      <td>176</td>\n",
              "      <td>image_25.jpeg</td>\n",
              "      <td>275</td>\n",
              "      <td>183</td>\n",
              "    </tr>\n",
              "    <tr>\n",
              "      <th>4</th>\n",
              "      <td>Dog</td>\n",
              "      <td>16</td>\n",
              "      <td>17</td>\n",
              "      <td>424</td>\n",
              "      <td>351</td>\n",
              "      <td>image_22.jpeg</td>\n",
              "      <td>500</td>\n",
              "      <td>371</td>\n",
              "    </tr>\n",
              "  </tbody>\n",
              "</table>\n",
              "</div>\n",
              "      <button class=\"colab-df-convert\" onclick=\"convertToInteractive('df-ad98505d-0c94-41e6-a941-d726a3c7150f')\"\n",
              "              title=\"Convert this dataframe to an interactive table.\"\n",
              "              style=\"display:none;\">\n",
              "        \n",
              "  <svg xmlns=\"http://www.w3.org/2000/svg\" height=\"24px\"viewBox=\"0 0 24 24\"\n",
              "       width=\"24px\">\n",
              "    <path d=\"M0 0h24v24H0V0z\" fill=\"none\"/>\n",
              "    <path d=\"M18.56 5.44l.94 2.06.94-2.06 2.06-.94-2.06-.94-.94-2.06-.94 2.06-2.06.94zm-11 1L8.5 8.5l.94-2.06 2.06-.94-2.06-.94L8.5 2.5l-.94 2.06-2.06.94zm10 10l.94 2.06.94-2.06 2.06-.94-2.06-.94-.94-2.06-.94 2.06-2.06.94z\"/><path d=\"M17.41 7.96l-1.37-1.37c-.4-.4-.92-.59-1.43-.59-.52 0-1.04.2-1.43.59L10.3 9.45l-7.72 7.72c-.78.78-.78 2.05 0 2.83L4 21.41c.39.39.9.59 1.41.59.51 0 1.02-.2 1.41-.59l7.78-7.78 2.81-2.81c.8-.78.8-2.07 0-2.86zM5.41 20L4 18.59l7.72-7.72 1.47 1.35L5.41 20z\"/>\n",
              "  </svg>\n",
              "      </button>\n",
              "      \n",
              "  <style>\n",
              "    .colab-df-container {\n",
              "      display:flex;\n",
              "      flex-wrap:wrap;\n",
              "      gap: 12px;\n",
              "    }\n",
              "\n",
              "    .colab-df-convert {\n",
              "      background-color: #E8F0FE;\n",
              "      border: none;\n",
              "      border-radius: 50%;\n",
              "      cursor: pointer;\n",
              "      display: none;\n",
              "      fill: #1967D2;\n",
              "      height: 32px;\n",
              "      padding: 0 0 0 0;\n",
              "      width: 32px;\n",
              "    }\n",
              "\n",
              "    .colab-df-convert:hover {\n",
              "      background-color: #E2EBFA;\n",
              "      box-shadow: 0px 1px 2px rgba(60, 64, 67, 0.3), 0px 1px 3px 1px rgba(60, 64, 67, 0.15);\n",
              "      fill: #174EA6;\n",
              "    }\n",
              "\n",
              "    [theme=dark] .colab-df-convert {\n",
              "      background-color: #3B4455;\n",
              "      fill: #D2E3FC;\n",
              "    }\n",
              "\n",
              "    [theme=dark] .colab-df-convert:hover {\n",
              "      background-color: #434B5C;\n",
              "      box-shadow: 0px 1px 3px 1px rgba(0, 0, 0, 0.15);\n",
              "      filter: drop-shadow(0px 1px 2px rgba(0, 0, 0, 0.3));\n",
              "      fill: #FFFFFF;\n",
              "    }\n",
              "  </style>\n",
              "\n",
              "      <script>\n",
              "        const buttonEl =\n",
              "          document.querySelector('#df-ad98505d-0c94-41e6-a941-d726a3c7150f button.colab-df-convert');\n",
              "        buttonEl.style.display =\n",
              "          google.colab.kernel.accessAllowed ? 'block' : 'none';\n",
              "\n",
              "        async function convertToInteractive(key) {\n",
              "          const element = document.querySelector('#df-ad98505d-0c94-41e6-a941-d726a3c7150f');\n",
              "          const dataTable =\n",
              "            await google.colab.kernel.invokeFunction('convertToInteractive',\n",
              "                                                     [key], {});\n",
              "          if (!dataTable) return;\n",
              "\n",
              "          const docLinkHtml = 'Like what you see? Visit the ' +\n",
              "            '<a target=\"_blank\" href=https://colab.research.google.com/notebooks/data_table.ipynb>data table notebook</a>'\n",
              "            + ' to learn more about interactive tables.';\n",
              "          element.innerHTML = '';\n",
              "          dataTable['output_type'] = 'display_data';\n",
              "          await google.colab.output.renderOutput(dataTable, element);\n",
              "          const docLink = document.createElement('div');\n",
              "          docLink.innerHTML = docLinkHtml;\n",
              "          element.appendChild(docLink);\n",
              "        }\n",
              "      </script>\n",
              "    </div>\n",
              "  </div>\n",
              "  "
            ]
          },
          "metadata": {},
          "execution_count": 3
        }
      ]
    },
    {
      "cell_type": "code",
      "source": [
        "train_annotation.columns = ['Label', 'x1', 'y1', 'x2', 'y2', 'file_path', 'image_resolution_x', 'image_resolution_y']"
      ],
      "metadata": {
        "id": "a91rFzKJJV8_"
      },
      "execution_count": null,
      "outputs": []
    },
    {
      "cell_type": "code",
      "source": [
        "train_annotation['Data_type'] = 'TRAIN'"
      ],
      "metadata": {
        "id": "HE2XAx1iJ9JL"
      },
      "execution_count": null,
      "outputs": []
    },
    {
      "cell_type": "code",
      "source": [
        "print(train_annotation.shape)\n",
        "train_annotation.head()"
      ],
      "metadata": {
        "colab": {
          "base_uri": "https://localhost:8080/",
          "height": 224
        },
        "id": "LZFlVQgdJ7i5",
        "outputId": "92450184-613a-4951-8f88-f285c81fb8b5"
      },
      "execution_count": null,
      "outputs": [
        {
          "output_type": "stream",
          "name": "stdout",
          "text": [
            "(145, 9)\n"
          ]
        },
        {
          "output_type": "execute_result",
          "data": {
            "text/plain": [
              "  Label  x1  y1   x2   y2      file_path  image_resolution_x  \\\n",
              "0   Dog   7  14  209  204  image_28.jpeg                 224   \n",
              "1   Dog  57  13  168  148  image_27.jpeg                 309   \n",
              "2   Dog  86   2  116  166  image_26.jpeg                 299   \n",
              "3   Dog  44   4  179  176  image_25.jpeg                 275   \n",
              "4   Dog  16  17  424  351  image_22.jpeg                 500   \n",
              "\n",
              "   image_resolution_y Data_type  \n",
              "0                 225     TRAIN  \n",
              "1                 163     TRAIN  \n",
              "2                 168     TRAIN  \n",
              "3                 183     TRAIN  \n",
              "4                 371     TRAIN  "
            ],
            "text/html": [
              "\n",
              "  <div id=\"df-06ece45d-97a2-4964-b2d7-3b1f974372b2\">\n",
              "    <div class=\"colab-df-container\">\n",
              "      <div>\n",
              "<style scoped>\n",
              "    .dataframe tbody tr th:only-of-type {\n",
              "        vertical-align: middle;\n",
              "    }\n",
              "\n",
              "    .dataframe tbody tr th {\n",
              "        vertical-align: top;\n",
              "    }\n",
              "\n",
              "    .dataframe thead th {\n",
              "        text-align: right;\n",
              "    }\n",
              "</style>\n",
              "<table border=\"1\" class=\"dataframe\">\n",
              "  <thead>\n",
              "    <tr style=\"text-align: right;\">\n",
              "      <th></th>\n",
              "      <th>Label</th>\n",
              "      <th>x1</th>\n",
              "      <th>y1</th>\n",
              "      <th>x2</th>\n",
              "      <th>y2</th>\n",
              "      <th>file_path</th>\n",
              "      <th>image_resolution_x</th>\n",
              "      <th>image_resolution_y</th>\n",
              "      <th>Data_type</th>\n",
              "    </tr>\n",
              "  </thead>\n",
              "  <tbody>\n",
              "    <tr>\n",
              "      <th>0</th>\n",
              "      <td>Dog</td>\n",
              "      <td>7</td>\n",
              "      <td>14</td>\n",
              "      <td>209</td>\n",
              "      <td>204</td>\n",
              "      <td>image_28.jpeg</td>\n",
              "      <td>224</td>\n",
              "      <td>225</td>\n",
              "      <td>TRAIN</td>\n",
              "    </tr>\n",
              "    <tr>\n",
              "      <th>1</th>\n",
              "      <td>Dog</td>\n",
              "      <td>57</td>\n",
              "      <td>13</td>\n",
              "      <td>168</td>\n",
              "      <td>148</td>\n",
              "      <td>image_27.jpeg</td>\n",
              "      <td>309</td>\n",
              "      <td>163</td>\n",
              "      <td>TRAIN</td>\n",
              "    </tr>\n",
              "    <tr>\n",
              "      <th>2</th>\n",
              "      <td>Dog</td>\n",
              "      <td>86</td>\n",
              "      <td>2</td>\n",
              "      <td>116</td>\n",
              "      <td>166</td>\n",
              "      <td>image_26.jpeg</td>\n",
              "      <td>299</td>\n",
              "      <td>168</td>\n",
              "      <td>TRAIN</td>\n",
              "    </tr>\n",
              "    <tr>\n",
              "      <th>3</th>\n",
              "      <td>Dog</td>\n",
              "      <td>44</td>\n",
              "      <td>4</td>\n",
              "      <td>179</td>\n",
              "      <td>176</td>\n",
              "      <td>image_25.jpeg</td>\n",
              "      <td>275</td>\n",
              "      <td>183</td>\n",
              "      <td>TRAIN</td>\n",
              "    </tr>\n",
              "    <tr>\n",
              "      <th>4</th>\n",
              "      <td>Dog</td>\n",
              "      <td>16</td>\n",
              "      <td>17</td>\n",
              "      <td>424</td>\n",
              "      <td>351</td>\n",
              "      <td>image_22.jpeg</td>\n",
              "      <td>500</td>\n",
              "      <td>371</td>\n",
              "      <td>TRAIN</td>\n",
              "    </tr>\n",
              "  </tbody>\n",
              "</table>\n",
              "</div>\n",
              "      <button class=\"colab-df-convert\" onclick=\"convertToInteractive('df-06ece45d-97a2-4964-b2d7-3b1f974372b2')\"\n",
              "              title=\"Convert this dataframe to an interactive table.\"\n",
              "              style=\"display:none;\">\n",
              "        \n",
              "  <svg xmlns=\"http://www.w3.org/2000/svg\" height=\"24px\"viewBox=\"0 0 24 24\"\n",
              "       width=\"24px\">\n",
              "    <path d=\"M0 0h24v24H0V0z\" fill=\"none\"/>\n",
              "    <path d=\"M18.56 5.44l.94 2.06.94-2.06 2.06-.94-2.06-.94-.94-2.06-.94 2.06-2.06.94zm-11 1L8.5 8.5l.94-2.06 2.06-.94-2.06-.94L8.5 2.5l-.94 2.06-2.06.94zm10 10l.94 2.06.94-2.06 2.06-.94-2.06-.94-.94-2.06-.94 2.06-2.06.94z\"/><path d=\"M17.41 7.96l-1.37-1.37c-.4-.4-.92-.59-1.43-.59-.52 0-1.04.2-1.43.59L10.3 9.45l-7.72 7.72c-.78.78-.78 2.05 0 2.83L4 21.41c.39.39.9.59 1.41.59.51 0 1.02-.2 1.41-.59l7.78-7.78 2.81-2.81c.8-.78.8-2.07 0-2.86zM5.41 20L4 18.59l7.72-7.72 1.47 1.35L5.41 20z\"/>\n",
              "  </svg>\n",
              "      </button>\n",
              "      \n",
              "  <style>\n",
              "    .colab-df-container {\n",
              "      display:flex;\n",
              "      flex-wrap:wrap;\n",
              "      gap: 12px;\n",
              "    }\n",
              "\n",
              "    .colab-df-convert {\n",
              "      background-color: #E8F0FE;\n",
              "      border: none;\n",
              "      border-radius: 50%;\n",
              "      cursor: pointer;\n",
              "      display: none;\n",
              "      fill: #1967D2;\n",
              "      height: 32px;\n",
              "      padding: 0 0 0 0;\n",
              "      width: 32px;\n",
              "    }\n",
              "\n",
              "    .colab-df-convert:hover {\n",
              "      background-color: #E2EBFA;\n",
              "      box-shadow: 0px 1px 2px rgba(60, 64, 67, 0.3), 0px 1px 3px 1px rgba(60, 64, 67, 0.15);\n",
              "      fill: #174EA6;\n",
              "    }\n",
              "\n",
              "    [theme=dark] .colab-df-convert {\n",
              "      background-color: #3B4455;\n",
              "      fill: #D2E3FC;\n",
              "    }\n",
              "\n",
              "    [theme=dark] .colab-df-convert:hover {\n",
              "      background-color: #434B5C;\n",
              "      box-shadow: 0px 1px 3px 1px rgba(0, 0, 0, 0.15);\n",
              "      filter: drop-shadow(0px 1px 2px rgba(0, 0, 0, 0.3));\n",
              "      fill: #FFFFFF;\n",
              "    }\n",
              "  </style>\n",
              "\n",
              "      <script>\n",
              "        const buttonEl =\n",
              "          document.querySelector('#df-06ece45d-97a2-4964-b2d7-3b1f974372b2 button.colab-df-convert');\n",
              "        buttonEl.style.display =\n",
              "          google.colab.kernel.accessAllowed ? 'block' : 'none';\n",
              "\n",
              "        async function convertToInteractive(key) {\n",
              "          const element = document.querySelector('#df-06ece45d-97a2-4964-b2d7-3b1f974372b2');\n",
              "          const dataTable =\n",
              "            await google.colab.kernel.invokeFunction('convertToInteractive',\n",
              "                                                     [key], {});\n",
              "          if (!dataTable) return;\n",
              "\n",
              "          const docLinkHtml = 'Like what you see? Visit the ' +\n",
              "            '<a target=\"_blank\" href=https://colab.research.google.com/notebooks/data_table.ipynb>data table notebook</a>'\n",
              "            + ' to learn more about interactive tables.';\n",
              "          element.innerHTML = '';\n",
              "          dataTable['output_type'] = 'display_data';\n",
              "          await google.colab.output.renderOutput(dataTable, element);\n",
              "          const docLink = document.createElement('div');\n",
              "          docLink.innerHTML = docLinkHtml;\n",
              "          element.appendChild(docLink);\n",
              "        }\n",
              "      </script>\n",
              "    </div>\n",
              "  </div>\n",
              "  "
            ]
          },
          "metadata": {},
          "execution_count": 6
        }
      ]
    },
    {
      "cell_type": "code",
      "source": [
        "x1_coordinate = []\n",
        "y1_coordinate = []\n",
        "x2_coordinate = []\n",
        "y2_coordinate = []\n",
        "for i in range(train_annotation.shape[0]):\n",
        "  x1 = train_annotation['x1'].iloc[i]\n",
        "  y1 = train_annotation['y1'].iloc[i]\n",
        "  x2 = train_annotation['x2'].iloc[i]\n",
        "  y2 = train_annotation['y2'].iloc[i]\n",
        "  image_resolution_x = train_annotation['image_resolution_x'].iloc[i]\n",
        "  image_resolution_y = train_annotation['image_resolution_y'].iloc[i]\n",
        "\n",
        "  new_x2 = x1 + x2\n",
        "  new_y2 = y1 + y2\n",
        "\n",
        "  #new_x2 = x2\n",
        "  #new_y2 = y2\n",
        "\n",
        "  x1_coordinate.append(x1/image_resolution_x)\n",
        "  y1_coordinate.append(y1/image_resolution_y)\n",
        "  x2_coordinate.append(new_x2/image_resolution_x)\n",
        "  y2_coordinate.append(new_y2/image_resolution_y)"
      ],
      "metadata": {
        "id": "awWyalljQrXU"
      },
      "execution_count": null,
      "outputs": []
    },
    {
      "cell_type": "code",
      "source": [
        "train_annotation['x1'] = x1_coordinate\n",
        "train_annotation['y1'] = y1_coordinate\n",
        "train_annotation['x2'] = x2_coordinate\n",
        "train_annotation['y2'] = y2_coordinate"
      ],
      "metadata": {
        "id": "_AAKd1vARaOb"
      },
      "execution_count": null,
      "outputs": []
    },
    {
      "cell_type": "code",
      "source": [
        "print(train_annotation.shape)\n",
        "train_annotation.head()"
      ],
      "metadata": {
        "colab": {
          "base_uri": "https://localhost:8080/",
          "height": 224
        },
        "id": "6moJt1CjRgaN",
        "outputId": "44af5a90-ff49-44a7-cd37-427f68a98e00"
      },
      "execution_count": null,
      "outputs": [
        {
          "output_type": "stream",
          "name": "stdout",
          "text": [
            "(145, 9)\n"
          ]
        },
        {
          "output_type": "execute_result",
          "data": {
            "text/plain": [
              "  Label        x1        y1        x2        y2      file_path  \\\n",
              "0   Dog  0.031250  0.062222  0.964286  0.968889  image_28.jpeg   \n",
              "1   Dog  0.184466  0.079755  0.728155  0.987730  image_27.jpeg   \n",
              "2   Dog  0.287625  0.011905  0.675585  1.000000  image_26.jpeg   \n",
              "3   Dog  0.160000  0.021858  0.810909  0.983607  image_25.jpeg   \n",
              "4   Dog  0.032000  0.045822  0.880000  0.991914  image_22.jpeg   \n",
              "\n",
              "   image_resolution_x  image_resolution_y Data_type  \n",
              "0                 224                 225     TRAIN  \n",
              "1                 309                 163     TRAIN  \n",
              "2                 299                 168     TRAIN  \n",
              "3                 275                 183     TRAIN  \n",
              "4                 500                 371     TRAIN  "
            ],
            "text/html": [
              "\n",
              "  <div id=\"df-29a12962-818b-41a3-bfbb-8096ca64bc8d\">\n",
              "    <div class=\"colab-df-container\">\n",
              "      <div>\n",
              "<style scoped>\n",
              "    .dataframe tbody tr th:only-of-type {\n",
              "        vertical-align: middle;\n",
              "    }\n",
              "\n",
              "    .dataframe tbody tr th {\n",
              "        vertical-align: top;\n",
              "    }\n",
              "\n",
              "    .dataframe thead th {\n",
              "        text-align: right;\n",
              "    }\n",
              "</style>\n",
              "<table border=\"1\" class=\"dataframe\">\n",
              "  <thead>\n",
              "    <tr style=\"text-align: right;\">\n",
              "      <th></th>\n",
              "      <th>Label</th>\n",
              "      <th>x1</th>\n",
              "      <th>y1</th>\n",
              "      <th>x2</th>\n",
              "      <th>y2</th>\n",
              "      <th>file_path</th>\n",
              "      <th>image_resolution_x</th>\n",
              "      <th>image_resolution_y</th>\n",
              "      <th>Data_type</th>\n",
              "    </tr>\n",
              "  </thead>\n",
              "  <tbody>\n",
              "    <tr>\n",
              "      <th>0</th>\n",
              "      <td>Dog</td>\n",
              "      <td>0.031250</td>\n",
              "      <td>0.062222</td>\n",
              "      <td>0.964286</td>\n",
              "      <td>0.968889</td>\n",
              "      <td>image_28.jpeg</td>\n",
              "      <td>224</td>\n",
              "      <td>225</td>\n",
              "      <td>TRAIN</td>\n",
              "    </tr>\n",
              "    <tr>\n",
              "      <th>1</th>\n",
              "      <td>Dog</td>\n",
              "      <td>0.184466</td>\n",
              "      <td>0.079755</td>\n",
              "      <td>0.728155</td>\n",
              "      <td>0.987730</td>\n",
              "      <td>image_27.jpeg</td>\n",
              "      <td>309</td>\n",
              "      <td>163</td>\n",
              "      <td>TRAIN</td>\n",
              "    </tr>\n",
              "    <tr>\n",
              "      <th>2</th>\n",
              "      <td>Dog</td>\n",
              "      <td>0.287625</td>\n",
              "      <td>0.011905</td>\n",
              "      <td>0.675585</td>\n",
              "      <td>1.000000</td>\n",
              "      <td>image_26.jpeg</td>\n",
              "      <td>299</td>\n",
              "      <td>168</td>\n",
              "      <td>TRAIN</td>\n",
              "    </tr>\n",
              "    <tr>\n",
              "      <th>3</th>\n",
              "      <td>Dog</td>\n",
              "      <td>0.160000</td>\n",
              "      <td>0.021858</td>\n",
              "      <td>0.810909</td>\n",
              "      <td>0.983607</td>\n",
              "      <td>image_25.jpeg</td>\n",
              "      <td>275</td>\n",
              "      <td>183</td>\n",
              "      <td>TRAIN</td>\n",
              "    </tr>\n",
              "    <tr>\n",
              "      <th>4</th>\n",
              "      <td>Dog</td>\n",
              "      <td>0.032000</td>\n",
              "      <td>0.045822</td>\n",
              "      <td>0.880000</td>\n",
              "      <td>0.991914</td>\n",
              "      <td>image_22.jpeg</td>\n",
              "      <td>500</td>\n",
              "      <td>371</td>\n",
              "      <td>TRAIN</td>\n",
              "    </tr>\n",
              "  </tbody>\n",
              "</table>\n",
              "</div>\n",
              "      <button class=\"colab-df-convert\" onclick=\"convertToInteractive('df-29a12962-818b-41a3-bfbb-8096ca64bc8d')\"\n",
              "              title=\"Convert this dataframe to an interactive table.\"\n",
              "              style=\"display:none;\">\n",
              "        \n",
              "  <svg xmlns=\"http://www.w3.org/2000/svg\" height=\"24px\"viewBox=\"0 0 24 24\"\n",
              "       width=\"24px\">\n",
              "    <path d=\"M0 0h24v24H0V0z\" fill=\"none\"/>\n",
              "    <path d=\"M18.56 5.44l.94 2.06.94-2.06 2.06-.94-2.06-.94-.94-2.06-.94 2.06-2.06.94zm-11 1L8.5 8.5l.94-2.06 2.06-.94-2.06-.94L8.5 2.5l-.94 2.06-2.06.94zm10 10l.94 2.06.94-2.06 2.06-.94-2.06-.94-.94-2.06-.94 2.06-2.06.94z\"/><path d=\"M17.41 7.96l-1.37-1.37c-.4-.4-.92-.59-1.43-.59-.52 0-1.04.2-1.43.59L10.3 9.45l-7.72 7.72c-.78.78-.78 2.05 0 2.83L4 21.41c.39.39.9.59 1.41.59.51 0 1.02-.2 1.41-.59l7.78-7.78 2.81-2.81c.8-.78.8-2.07 0-2.86zM5.41 20L4 18.59l7.72-7.72 1.47 1.35L5.41 20z\"/>\n",
              "  </svg>\n",
              "      </button>\n",
              "      \n",
              "  <style>\n",
              "    .colab-df-container {\n",
              "      display:flex;\n",
              "      flex-wrap:wrap;\n",
              "      gap: 12px;\n",
              "    }\n",
              "\n",
              "    .colab-df-convert {\n",
              "      background-color: #E8F0FE;\n",
              "      border: none;\n",
              "      border-radius: 50%;\n",
              "      cursor: pointer;\n",
              "      display: none;\n",
              "      fill: #1967D2;\n",
              "      height: 32px;\n",
              "      padding: 0 0 0 0;\n",
              "      width: 32px;\n",
              "    }\n",
              "\n",
              "    .colab-df-convert:hover {\n",
              "      background-color: #E2EBFA;\n",
              "      box-shadow: 0px 1px 2px rgba(60, 64, 67, 0.3), 0px 1px 3px 1px rgba(60, 64, 67, 0.15);\n",
              "      fill: #174EA6;\n",
              "    }\n",
              "\n",
              "    [theme=dark] .colab-df-convert {\n",
              "      background-color: #3B4455;\n",
              "      fill: #D2E3FC;\n",
              "    }\n",
              "\n",
              "    [theme=dark] .colab-df-convert:hover {\n",
              "      background-color: #434B5C;\n",
              "      box-shadow: 0px 1px 3px 1px rgba(0, 0, 0, 0.15);\n",
              "      filter: drop-shadow(0px 1px 2px rgba(0, 0, 0, 0.3));\n",
              "      fill: #FFFFFF;\n",
              "    }\n",
              "  </style>\n",
              "\n",
              "      <script>\n",
              "        const buttonEl =\n",
              "          document.querySelector('#df-29a12962-818b-41a3-bfbb-8096ca64bc8d button.colab-df-convert');\n",
              "        buttonEl.style.display =\n",
              "          google.colab.kernel.accessAllowed ? 'block' : 'none';\n",
              "\n",
              "        async function convertToInteractive(key) {\n",
              "          const element = document.querySelector('#df-29a12962-818b-41a3-bfbb-8096ca64bc8d');\n",
              "          const dataTable =\n",
              "            await google.colab.kernel.invokeFunction('convertToInteractive',\n",
              "                                                     [key], {});\n",
              "          if (!dataTable) return;\n",
              "\n",
              "          const docLinkHtml = 'Like what you see? Visit the ' +\n",
              "            '<a target=\"_blank\" href=https://colab.research.google.com/notebooks/data_table.ipynb>data table notebook</a>'\n",
              "            + ' to learn more about interactive tables.';\n",
              "          element.innerHTML = '';\n",
              "          dataTable['output_type'] = 'display_data';\n",
              "          await google.colab.output.renderOutput(dataTable, element);\n",
              "          const docLink = document.createElement('div');\n",
              "          docLink.innerHTML = docLinkHtml;\n",
              "          element.appendChild(docLink);\n",
              "        }\n",
              "      </script>\n",
              "    </div>\n",
              "  </div>\n",
              "  "
            ]
          },
          "metadata": {},
          "execution_count": 9
        }
      ]
    },
    {
      "cell_type": "code",
      "source": [
        "train_annotation['Label'].value_counts()"
      ],
      "metadata": {
        "colab": {
          "base_uri": "https://localhost:8080/"
        },
        "id": "9A_rI9xgL1SS",
        "outputId": "7737f312-4263-424f-cd84-47b840f2d4bb"
      },
      "execution_count": null,
      "outputs": [
        {
          "output_type": "execute_result",
          "data": {
            "text/plain": [
              "Cow        58\n",
              "Deer       30\n",
              "Dog        29\n",
              "Leopard    28\n",
              "Name: Label, dtype: int64"
            ]
          },
          "metadata": {},
          "execution_count": 10
        }
      ]
    },
    {
      "cell_type": "code",
      "source": [
        "outputs = []\n",
        "folder_path = \"/content/drive/MyDrive/Naveen Images/Train/\"\n",
        "for i in range(train_annotation.shape[0]):\n",
        "  label = train_annotation['Label'].iloc[i]\n",
        "  file_path = train_annotation['file_path'].iloc[i]\n",
        "  new_file_path = folder_path + f'{label}s/'+ file_path \n",
        "  outputs.append(new_file_path)"
      ],
      "metadata": {
        "id": "tjePNghnLifV"
      },
      "execution_count": null,
      "outputs": []
    },
    {
      "cell_type": "code",
      "source": [
        "outputs[:2]"
      ],
      "metadata": {
        "colab": {
          "base_uri": "https://localhost:8080/"
        },
        "id": "_wvxWlDiMM2V",
        "outputId": "f4e39e70-4ef0-4b6b-9f7c-ff91471926f2"
      },
      "execution_count": null,
      "outputs": [
        {
          "output_type": "execute_result",
          "data": {
            "text/plain": [
              "['/content/drive/MyDrive/Naveen Images/Train/Dogs/image_28.jpeg',\n",
              " '/content/drive/MyDrive/Naveen Images/Train/Dogs/image_27.jpeg']"
            ]
          },
          "metadata": {},
          "execution_count": 12
        }
      ]
    },
    {
      "cell_type": "code",
      "source": [
        "train_annotation['file_path'] = outputs"
      ],
      "metadata": {
        "id": "f5yRJR8_LU6W"
      },
      "execution_count": null,
      "outputs": []
    },
    {
      "cell_type": "code",
      "source": [
        "print(train_annotation.shape)\n",
        "train_annotation.head()"
      ],
      "metadata": {
        "colab": {
          "base_uri": "https://localhost:8080/",
          "height": 355
        },
        "id": "qDEe-DPvMbrU",
        "outputId": "2fa2a254-643b-49a2-87fa-6fefcbeed204"
      },
      "execution_count": null,
      "outputs": [
        {
          "output_type": "stream",
          "name": "stdout",
          "text": [
            "(145, 9)\n"
          ]
        },
        {
          "output_type": "execute_result",
          "data": {
            "text/plain": [
              "  Label        x1        y1        x2        y2  \\\n",
              "0   Dog  0.031250  0.062222  0.964286  0.968889   \n",
              "1   Dog  0.184466  0.079755  0.728155  0.987730   \n",
              "2   Dog  0.287625  0.011905  0.675585  1.000000   \n",
              "3   Dog  0.160000  0.021858  0.810909  0.983607   \n",
              "4   Dog  0.032000  0.045822  0.880000  0.991914   \n",
              "\n",
              "                                           file_path  image_resolution_x  \\\n",
              "0  /content/drive/MyDrive/Naveen Images/Train/Dog...                 224   \n",
              "1  /content/drive/MyDrive/Naveen Images/Train/Dog...                 309   \n",
              "2  /content/drive/MyDrive/Naveen Images/Train/Dog...                 299   \n",
              "3  /content/drive/MyDrive/Naveen Images/Train/Dog...                 275   \n",
              "4  /content/drive/MyDrive/Naveen Images/Train/Dog...                 500   \n",
              "\n",
              "   image_resolution_y Data_type  \n",
              "0                 225     TRAIN  \n",
              "1                 163     TRAIN  \n",
              "2                 168     TRAIN  \n",
              "3                 183     TRAIN  \n",
              "4                 371     TRAIN  "
            ],
            "text/html": [
              "\n",
              "  <div id=\"df-b5b6dfa1-b4e5-4335-a079-2f6fd9e90e22\">\n",
              "    <div class=\"colab-df-container\">\n",
              "      <div>\n",
              "<style scoped>\n",
              "    .dataframe tbody tr th:only-of-type {\n",
              "        vertical-align: middle;\n",
              "    }\n",
              "\n",
              "    .dataframe tbody tr th {\n",
              "        vertical-align: top;\n",
              "    }\n",
              "\n",
              "    .dataframe thead th {\n",
              "        text-align: right;\n",
              "    }\n",
              "</style>\n",
              "<table border=\"1\" class=\"dataframe\">\n",
              "  <thead>\n",
              "    <tr style=\"text-align: right;\">\n",
              "      <th></th>\n",
              "      <th>Label</th>\n",
              "      <th>x1</th>\n",
              "      <th>y1</th>\n",
              "      <th>x2</th>\n",
              "      <th>y2</th>\n",
              "      <th>file_path</th>\n",
              "      <th>image_resolution_x</th>\n",
              "      <th>image_resolution_y</th>\n",
              "      <th>Data_type</th>\n",
              "    </tr>\n",
              "  </thead>\n",
              "  <tbody>\n",
              "    <tr>\n",
              "      <th>0</th>\n",
              "      <td>Dog</td>\n",
              "      <td>0.031250</td>\n",
              "      <td>0.062222</td>\n",
              "      <td>0.964286</td>\n",
              "      <td>0.968889</td>\n",
              "      <td>/content/drive/MyDrive/Naveen Images/Train/Dog...</td>\n",
              "      <td>224</td>\n",
              "      <td>225</td>\n",
              "      <td>TRAIN</td>\n",
              "    </tr>\n",
              "    <tr>\n",
              "      <th>1</th>\n",
              "      <td>Dog</td>\n",
              "      <td>0.184466</td>\n",
              "      <td>0.079755</td>\n",
              "      <td>0.728155</td>\n",
              "      <td>0.987730</td>\n",
              "      <td>/content/drive/MyDrive/Naveen Images/Train/Dog...</td>\n",
              "      <td>309</td>\n",
              "      <td>163</td>\n",
              "      <td>TRAIN</td>\n",
              "    </tr>\n",
              "    <tr>\n",
              "      <th>2</th>\n",
              "      <td>Dog</td>\n",
              "      <td>0.287625</td>\n",
              "      <td>0.011905</td>\n",
              "      <td>0.675585</td>\n",
              "      <td>1.000000</td>\n",
              "      <td>/content/drive/MyDrive/Naveen Images/Train/Dog...</td>\n",
              "      <td>299</td>\n",
              "      <td>168</td>\n",
              "      <td>TRAIN</td>\n",
              "    </tr>\n",
              "    <tr>\n",
              "      <th>3</th>\n",
              "      <td>Dog</td>\n",
              "      <td>0.160000</td>\n",
              "      <td>0.021858</td>\n",
              "      <td>0.810909</td>\n",
              "      <td>0.983607</td>\n",
              "      <td>/content/drive/MyDrive/Naveen Images/Train/Dog...</td>\n",
              "      <td>275</td>\n",
              "      <td>183</td>\n",
              "      <td>TRAIN</td>\n",
              "    </tr>\n",
              "    <tr>\n",
              "      <th>4</th>\n",
              "      <td>Dog</td>\n",
              "      <td>0.032000</td>\n",
              "      <td>0.045822</td>\n",
              "      <td>0.880000</td>\n",
              "      <td>0.991914</td>\n",
              "      <td>/content/drive/MyDrive/Naveen Images/Train/Dog...</td>\n",
              "      <td>500</td>\n",
              "      <td>371</td>\n",
              "      <td>TRAIN</td>\n",
              "    </tr>\n",
              "  </tbody>\n",
              "</table>\n",
              "</div>\n",
              "      <button class=\"colab-df-convert\" onclick=\"convertToInteractive('df-b5b6dfa1-b4e5-4335-a079-2f6fd9e90e22')\"\n",
              "              title=\"Convert this dataframe to an interactive table.\"\n",
              "              style=\"display:none;\">\n",
              "        \n",
              "  <svg xmlns=\"http://www.w3.org/2000/svg\" height=\"24px\"viewBox=\"0 0 24 24\"\n",
              "       width=\"24px\">\n",
              "    <path d=\"M0 0h24v24H0V0z\" fill=\"none\"/>\n",
              "    <path d=\"M18.56 5.44l.94 2.06.94-2.06 2.06-.94-2.06-.94-.94-2.06-.94 2.06-2.06.94zm-11 1L8.5 8.5l.94-2.06 2.06-.94-2.06-.94L8.5 2.5l-.94 2.06-2.06.94zm10 10l.94 2.06.94-2.06 2.06-.94-2.06-.94-.94-2.06-.94 2.06-2.06.94z\"/><path d=\"M17.41 7.96l-1.37-1.37c-.4-.4-.92-.59-1.43-.59-.52 0-1.04.2-1.43.59L10.3 9.45l-7.72 7.72c-.78.78-.78 2.05 0 2.83L4 21.41c.39.39.9.59 1.41.59.51 0 1.02-.2 1.41-.59l7.78-7.78 2.81-2.81c.8-.78.8-2.07 0-2.86zM5.41 20L4 18.59l7.72-7.72 1.47 1.35L5.41 20z\"/>\n",
              "  </svg>\n",
              "      </button>\n",
              "      \n",
              "  <style>\n",
              "    .colab-df-container {\n",
              "      display:flex;\n",
              "      flex-wrap:wrap;\n",
              "      gap: 12px;\n",
              "    }\n",
              "\n",
              "    .colab-df-convert {\n",
              "      background-color: #E8F0FE;\n",
              "      border: none;\n",
              "      border-radius: 50%;\n",
              "      cursor: pointer;\n",
              "      display: none;\n",
              "      fill: #1967D2;\n",
              "      height: 32px;\n",
              "      padding: 0 0 0 0;\n",
              "      width: 32px;\n",
              "    }\n",
              "\n",
              "    .colab-df-convert:hover {\n",
              "      background-color: #E2EBFA;\n",
              "      box-shadow: 0px 1px 2px rgba(60, 64, 67, 0.3), 0px 1px 3px 1px rgba(60, 64, 67, 0.15);\n",
              "      fill: #174EA6;\n",
              "    }\n",
              "\n",
              "    [theme=dark] .colab-df-convert {\n",
              "      background-color: #3B4455;\n",
              "      fill: #D2E3FC;\n",
              "    }\n",
              "\n",
              "    [theme=dark] .colab-df-convert:hover {\n",
              "      background-color: #434B5C;\n",
              "      box-shadow: 0px 1px 3px 1px rgba(0, 0, 0, 0.15);\n",
              "      filter: drop-shadow(0px 1px 2px rgba(0, 0, 0, 0.3));\n",
              "      fill: #FFFFFF;\n",
              "    }\n",
              "  </style>\n",
              "\n",
              "      <script>\n",
              "        const buttonEl =\n",
              "          document.querySelector('#df-b5b6dfa1-b4e5-4335-a079-2f6fd9e90e22 button.colab-df-convert');\n",
              "        buttonEl.style.display =\n",
              "          google.colab.kernel.accessAllowed ? 'block' : 'none';\n",
              "\n",
              "        async function convertToInteractive(key) {\n",
              "          const element = document.querySelector('#df-b5b6dfa1-b4e5-4335-a079-2f6fd9e90e22');\n",
              "          const dataTable =\n",
              "            await google.colab.kernel.invokeFunction('convertToInteractive',\n",
              "                                                     [key], {});\n",
              "          if (!dataTable) return;\n",
              "\n",
              "          const docLinkHtml = 'Like what you see? Visit the ' +\n",
              "            '<a target=\"_blank\" href=https://colab.research.google.com/notebooks/data_table.ipynb>data table notebook</a>'\n",
              "            + ' to learn more about interactive tables.';\n",
              "          element.innerHTML = '';\n",
              "          dataTable['output_type'] = 'display_data';\n",
              "          await google.colab.output.renderOutput(dataTable, element);\n",
              "          const docLink = document.createElement('div');\n",
              "          docLink.innerHTML = docLinkHtml;\n",
              "          element.appendChild(docLink);\n",
              "        }\n",
              "      </script>\n",
              "    </div>\n",
              "  </div>\n",
              "  "
            ]
          },
          "metadata": {},
          "execution_count": 14
        }
      ]
    },
    {
      "cell_type": "code",
      "source": [
        "train = train_annotation[['Data_type', 'file_path', 'Label', 'x1', 'y1', 'x2', 'y2']].copy()"
      ],
      "metadata": {
        "id": "gbdo9DcyMeIy"
      },
      "execution_count": null,
      "outputs": []
    },
    {
      "cell_type": "code",
      "source": [
        "print(train.shape)\n",
        "train.head()"
      ],
      "metadata": {
        "colab": {
          "base_uri": "https://localhost:8080/",
          "height": 224
        },
        "id": "siW388xUMuPf",
        "outputId": "00a11574-3af9-42a3-8455-b8eab14157d5"
      },
      "execution_count": null,
      "outputs": [
        {
          "output_type": "stream",
          "name": "stdout",
          "text": [
            "(145, 7)\n"
          ]
        },
        {
          "output_type": "execute_result",
          "data": {
            "text/plain": [
              "  Data_type                                          file_path Label  \\\n",
              "0     TRAIN  /content/drive/MyDrive/Naveen Images/Train/Dog...   Dog   \n",
              "1     TRAIN  /content/drive/MyDrive/Naveen Images/Train/Dog...   Dog   \n",
              "2     TRAIN  /content/drive/MyDrive/Naveen Images/Train/Dog...   Dog   \n",
              "3     TRAIN  /content/drive/MyDrive/Naveen Images/Train/Dog...   Dog   \n",
              "4     TRAIN  /content/drive/MyDrive/Naveen Images/Train/Dog...   Dog   \n",
              "\n",
              "         x1        y1        x2        y2  \n",
              "0  0.031250  0.062222  0.964286  0.968889  \n",
              "1  0.184466  0.079755  0.728155  0.987730  \n",
              "2  0.287625  0.011905  0.675585  1.000000  \n",
              "3  0.160000  0.021858  0.810909  0.983607  \n",
              "4  0.032000  0.045822  0.880000  0.991914  "
            ],
            "text/html": [
              "\n",
              "  <div id=\"df-2c283be0-16ac-4a33-a2f8-9ceb7abe0520\">\n",
              "    <div class=\"colab-df-container\">\n",
              "      <div>\n",
              "<style scoped>\n",
              "    .dataframe tbody tr th:only-of-type {\n",
              "        vertical-align: middle;\n",
              "    }\n",
              "\n",
              "    .dataframe tbody tr th {\n",
              "        vertical-align: top;\n",
              "    }\n",
              "\n",
              "    .dataframe thead th {\n",
              "        text-align: right;\n",
              "    }\n",
              "</style>\n",
              "<table border=\"1\" class=\"dataframe\">\n",
              "  <thead>\n",
              "    <tr style=\"text-align: right;\">\n",
              "      <th></th>\n",
              "      <th>Data_type</th>\n",
              "      <th>file_path</th>\n",
              "      <th>Label</th>\n",
              "      <th>x1</th>\n",
              "      <th>y1</th>\n",
              "      <th>x2</th>\n",
              "      <th>y2</th>\n",
              "    </tr>\n",
              "  </thead>\n",
              "  <tbody>\n",
              "    <tr>\n",
              "      <th>0</th>\n",
              "      <td>TRAIN</td>\n",
              "      <td>/content/drive/MyDrive/Naveen Images/Train/Dog...</td>\n",
              "      <td>Dog</td>\n",
              "      <td>0.031250</td>\n",
              "      <td>0.062222</td>\n",
              "      <td>0.964286</td>\n",
              "      <td>0.968889</td>\n",
              "    </tr>\n",
              "    <tr>\n",
              "      <th>1</th>\n",
              "      <td>TRAIN</td>\n",
              "      <td>/content/drive/MyDrive/Naveen Images/Train/Dog...</td>\n",
              "      <td>Dog</td>\n",
              "      <td>0.184466</td>\n",
              "      <td>0.079755</td>\n",
              "      <td>0.728155</td>\n",
              "      <td>0.987730</td>\n",
              "    </tr>\n",
              "    <tr>\n",
              "      <th>2</th>\n",
              "      <td>TRAIN</td>\n",
              "      <td>/content/drive/MyDrive/Naveen Images/Train/Dog...</td>\n",
              "      <td>Dog</td>\n",
              "      <td>0.287625</td>\n",
              "      <td>0.011905</td>\n",
              "      <td>0.675585</td>\n",
              "      <td>1.000000</td>\n",
              "    </tr>\n",
              "    <tr>\n",
              "      <th>3</th>\n",
              "      <td>TRAIN</td>\n",
              "      <td>/content/drive/MyDrive/Naveen Images/Train/Dog...</td>\n",
              "      <td>Dog</td>\n",
              "      <td>0.160000</td>\n",
              "      <td>0.021858</td>\n",
              "      <td>0.810909</td>\n",
              "      <td>0.983607</td>\n",
              "    </tr>\n",
              "    <tr>\n",
              "      <th>4</th>\n",
              "      <td>TRAIN</td>\n",
              "      <td>/content/drive/MyDrive/Naveen Images/Train/Dog...</td>\n",
              "      <td>Dog</td>\n",
              "      <td>0.032000</td>\n",
              "      <td>0.045822</td>\n",
              "      <td>0.880000</td>\n",
              "      <td>0.991914</td>\n",
              "    </tr>\n",
              "  </tbody>\n",
              "</table>\n",
              "</div>\n",
              "      <button class=\"colab-df-convert\" onclick=\"convertToInteractive('df-2c283be0-16ac-4a33-a2f8-9ceb7abe0520')\"\n",
              "              title=\"Convert this dataframe to an interactive table.\"\n",
              "              style=\"display:none;\">\n",
              "        \n",
              "  <svg xmlns=\"http://www.w3.org/2000/svg\" height=\"24px\"viewBox=\"0 0 24 24\"\n",
              "       width=\"24px\">\n",
              "    <path d=\"M0 0h24v24H0V0z\" fill=\"none\"/>\n",
              "    <path d=\"M18.56 5.44l.94 2.06.94-2.06 2.06-.94-2.06-.94-.94-2.06-.94 2.06-2.06.94zm-11 1L8.5 8.5l.94-2.06 2.06-.94-2.06-.94L8.5 2.5l-.94 2.06-2.06.94zm10 10l.94 2.06.94-2.06 2.06-.94-2.06-.94-.94-2.06-.94 2.06-2.06.94z\"/><path d=\"M17.41 7.96l-1.37-1.37c-.4-.4-.92-.59-1.43-.59-.52 0-1.04.2-1.43.59L10.3 9.45l-7.72 7.72c-.78.78-.78 2.05 0 2.83L4 21.41c.39.39.9.59 1.41.59.51 0 1.02-.2 1.41-.59l7.78-7.78 2.81-2.81c.8-.78.8-2.07 0-2.86zM5.41 20L4 18.59l7.72-7.72 1.47 1.35L5.41 20z\"/>\n",
              "  </svg>\n",
              "      </button>\n",
              "      \n",
              "  <style>\n",
              "    .colab-df-container {\n",
              "      display:flex;\n",
              "      flex-wrap:wrap;\n",
              "      gap: 12px;\n",
              "    }\n",
              "\n",
              "    .colab-df-convert {\n",
              "      background-color: #E8F0FE;\n",
              "      border: none;\n",
              "      border-radius: 50%;\n",
              "      cursor: pointer;\n",
              "      display: none;\n",
              "      fill: #1967D2;\n",
              "      height: 32px;\n",
              "      padding: 0 0 0 0;\n",
              "      width: 32px;\n",
              "    }\n",
              "\n",
              "    .colab-df-convert:hover {\n",
              "      background-color: #E2EBFA;\n",
              "      box-shadow: 0px 1px 2px rgba(60, 64, 67, 0.3), 0px 1px 3px 1px rgba(60, 64, 67, 0.15);\n",
              "      fill: #174EA6;\n",
              "    }\n",
              "\n",
              "    [theme=dark] .colab-df-convert {\n",
              "      background-color: #3B4455;\n",
              "      fill: #D2E3FC;\n",
              "    }\n",
              "\n",
              "    [theme=dark] .colab-df-convert:hover {\n",
              "      background-color: #434B5C;\n",
              "      box-shadow: 0px 1px 3px 1px rgba(0, 0, 0, 0.15);\n",
              "      filter: drop-shadow(0px 1px 2px rgba(0, 0, 0, 0.3));\n",
              "      fill: #FFFFFF;\n",
              "    }\n",
              "  </style>\n",
              "\n",
              "      <script>\n",
              "        const buttonEl =\n",
              "          document.querySelector('#df-2c283be0-16ac-4a33-a2f8-9ceb7abe0520 button.colab-df-convert');\n",
              "        buttonEl.style.display =\n",
              "          google.colab.kernel.accessAllowed ? 'block' : 'none';\n",
              "\n",
              "        async function convertToInteractive(key) {\n",
              "          const element = document.querySelector('#df-2c283be0-16ac-4a33-a2f8-9ceb7abe0520');\n",
              "          const dataTable =\n",
              "            await google.colab.kernel.invokeFunction('convertToInteractive',\n",
              "                                                     [key], {});\n",
              "          if (!dataTable) return;\n",
              "\n",
              "          const docLinkHtml = 'Like what you see? Visit the ' +\n",
              "            '<a target=\"_blank\" href=https://colab.research.google.com/notebooks/data_table.ipynb>data table notebook</a>'\n",
              "            + ' to learn more about interactive tables.';\n",
              "          element.innerHTML = '';\n",
              "          dataTable['output_type'] = 'display_data';\n",
              "          await google.colab.output.renderOutput(dataTable, element);\n",
              "          const docLink = document.createElement('div');\n",
              "          docLink.innerHTML = docLinkHtml;\n",
              "          element.appendChild(docLink);\n",
              "        }\n",
              "      </script>\n",
              "    </div>\n",
              "  </div>\n",
              "  "
            ]
          },
          "metadata": {},
          "execution_count": 16
        }
      ]
    },
    {
      "cell_type": "code",
      "source": [
        "test_annotations.head()"
      ],
      "metadata": {
        "colab": {
          "base_uri": "https://localhost:8080/",
          "height": 206
        },
        "outputId": "043f9dbd-b082-411d-bec7-ed811d062be2",
        "id": "MvhPo0hRM7jq"
      },
      "execution_count": null,
      "outputs": [
        {
          "output_type": "execute_result",
          "data": {
            "text/plain": [
              "   Dog  540  439  88  54  image_10.jpeg  1280  960\n",
              "0  Dog  642  444  32  57  image_10.jpeg  1280  960\n",
              "1  Dog  661  454  49  43  image_10.jpeg  1280  960\n",
              "2  Dog  750  436  43  55  image_10.jpeg  1280  960\n",
              "3  Dog  316  446  64  90  image_10.jpeg  1280  960\n",
              "4  Dog  206  430  55  67  image_10.jpeg  1280  960"
            ],
            "text/html": [
              "\n",
              "  <div id=\"df-27c09fcc-3f10-4f20-9f8d-fcb71c2a69b6\">\n",
              "    <div class=\"colab-df-container\">\n",
              "      <div>\n",
              "<style scoped>\n",
              "    .dataframe tbody tr th:only-of-type {\n",
              "        vertical-align: middle;\n",
              "    }\n",
              "\n",
              "    .dataframe tbody tr th {\n",
              "        vertical-align: top;\n",
              "    }\n",
              "\n",
              "    .dataframe thead th {\n",
              "        text-align: right;\n",
              "    }\n",
              "</style>\n",
              "<table border=\"1\" class=\"dataframe\">\n",
              "  <thead>\n",
              "    <tr style=\"text-align: right;\">\n",
              "      <th></th>\n",
              "      <th>Dog</th>\n",
              "      <th>540</th>\n",
              "      <th>439</th>\n",
              "      <th>88</th>\n",
              "      <th>54</th>\n",
              "      <th>image_10.jpeg</th>\n",
              "      <th>1280</th>\n",
              "      <th>960</th>\n",
              "    </tr>\n",
              "  </thead>\n",
              "  <tbody>\n",
              "    <tr>\n",
              "      <th>0</th>\n",
              "      <td>Dog</td>\n",
              "      <td>642</td>\n",
              "      <td>444</td>\n",
              "      <td>32</td>\n",
              "      <td>57</td>\n",
              "      <td>image_10.jpeg</td>\n",
              "      <td>1280</td>\n",
              "      <td>960</td>\n",
              "    </tr>\n",
              "    <tr>\n",
              "      <th>1</th>\n",
              "      <td>Dog</td>\n",
              "      <td>661</td>\n",
              "      <td>454</td>\n",
              "      <td>49</td>\n",
              "      <td>43</td>\n",
              "      <td>image_10.jpeg</td>\n",
              "      <td>1280</td>\n",
              "      <td>960</td>\n",
              "    </tr>\n",
              "    <tr>\n",
              "      <th>2</th>\n",
              "      <td>Dog</td>\n",
              "      <td>750</td>\n",
              "      <td>436</td>\n",
              "      <td>43</td>\n",
              "      <td>55</td>\n",
              "      <td>image_10.jpeg</td>\n",
              "      <td>1280</td>\n",
              "      <td>960</td>\n",
              "    </tr>\n",
              "    <tr>\n",
              "      <th>3</th>\n",
              "      <td>Dog</td>\n",
              "      <td>316</td>\n",
              "      <td>446</td>\n",
              "      <td>64</td>\n",
              "      <td>90</td>\n",
              "      <td>image_10.jpeg</td>\n",
              "      <td>1280</td>\n",
              "      <td>960</td>\n",
              "    </tr>\n",
              "    <tr>\n",
              "      <th>4</th>\n",
              "      <td>Dog</td>\n",
              "      <td>206</td>\n",
              "      <td>430</td>\n",
              "      <td>55</td>\n",
              "      <td>67</td>\n",
              "      <td>image_10.jpeg</td>\n",
              "      <td>1280</td>\n",
              "      <td>960</td>\n",
              "    </tr>\n",
              "  </tbody>\n",
              "</table>\n",
              "</div>\n",
              "      <button class=\"colab-df-convert\" onclick=\"convertToInteractive('df-27c09fcc-3f10-4f20-9f8d-fcb71c2a69b6')\"\n",
              "              title=\"Convert this dataframe to an interactive table.\"\n",
              "              style=\"display:none;\">\n",
              "        \n",
              "  <svg xmlns=\"http://www.w3.org/2000/svg\" height=\"24px\"viewBox=\"0 0 24 24\"\n",
              "       width=\"24px\">\n",
              "    <path d=\"M0 0h24v24H0V0z\" fill=\"none\"/>\n",
              "    <path d=\"M18.56 5.44l.94 2.06.94-2.06 2.06-.94-2.06-.94-.94-2.06-.94 2.06-2.06.94zm-11 1L8.5 8.5l.94-2.06 2.06-.94-2.06-.94L8.5 2.5l-.94 2.06-2.06.94zm10 10l.94 2.06.94-2.06 2.06-.94-2.06-.94-.94-2.06-.94 2.06-2.06.94z\"/><path d=\"M17.41 7.96l-1.37-1.37c-.4-.4-.92-.59-1.43-.59-.52 0-1.04.2-1.43.59L10.3 9.45l-7.72 7.72c-.78.78-.78 2.05 0 2.83L4 21.41c.39.39.9.59 1.41.59.51 0 1.02-.2 1.41-.59l7.78-7.78 2.81-2.81c.8-.78.8-2.07 0-2.86zM5.41 20L4 18.59l7.72-7.72 1.47 1.35L5.41 20z\"/>\n",
              "  </svg>\n",
              "      </button>\n",
              "      \n",
              "  <style>\n",
              "    .colab-df-container {\n",
              "      display:flex;\n",
              "      flex-wrap:wrap;\n",
              "      gap: 12px;\n",
              "    }\n",
              "\n",
              "    .colab-df-convert {\n",
              "      background-color: #E8F0FE;\n",
              "      border: none;\n",
              "      border-radius: 50%;\n",
              "      cursor: pointer;\n",
              "      display: none;\n",
              "      fill: #1967D2;\n",
              "      height: 32px;\n",
              "      padding: 0 0 0 0;\n",
              "      width: 32px;\n",
              "    }\n",
              "\n",
              "    .colab-df-convert:hover {\n",
              "      background-color: #E2EBFA;\n",
              "      box-shadow: 0px 1px 2px rgba(60, 64, 67, 0.3), 0px 1px 3px 1px rgba(60, 64, 67, 0.15);\n",
              "      fill: #174EA6;\n",
              "    }\n",
              "\n",
              "    [theme=dark] .colab-df-convert {\n",
              "      background-color: #3B4455;\n",
              "      fill: #D2E3FC;\n",
              "    }\n",
              "\n",
              "    [theme=dark] .colab-df-convert:hover {\n",
              "      background-color: #434B5C;\n",
              "      box-shadow: 0px 1px 3px 1px rgba(0, 0, 0, 0.15);\n",
              "      filter: drop-shadow(0px 1px 2px rgba(0, 0, 0, 0.3));\n",
              "      fill: #FFFFFF;\n",
              "    }\n",
              "  </style>\n",
              "\n",
              "      <script>\n",
              "        const buttonEl =\n",
              "          document.querySelector('#df-27c09fcc-3f10-4f20-9f8d-fcb71c2a69b6 button.colab-df-convert');\n",
              "        buttonEl.style.display =\n",
              "          google.colab.kernel.accessAllowed ? 'block' : 'none';\n",
              "\n",
              "        async function convertToInteractive(key) {\n",
              "          const element = document.querySelector('#df-27c09fcc-3f10-4f20-9f8d-fcb71c2a69b6');\n",
              "          const dataTable =\n",
              "            await google.colab.kernel.invokeFunction('convertToInteractive',\n",
              "                                                     [key], {});\n",
              "          if (!dataTable) return;\n",
              "\n",
              "          const docLinkHtml = 'Like what you see? Visit the ' +\n",
              "            '<a target=\"_blank\" href=https://colab.research.google.com/notebooks/data_table.ipynb>data table notebook</a>'\n",
              "            + ' to learn more about interactive tables.';\n",
              "          element.innerHTML = '';\n",
              "          dataTable['output_type'] = 'display_data';\n",
              "          await google.colab.output.renderOutput(dataTable, element);\n",
              "          const docLink = document.createElement('div');\n",
              "          docLink.innerHTML = docLinkHtml;\n",
              "          element.appendChild(docLink);\n",
              "        }\n",
              "      </script>\n",
              "    </div>\n",
              "  </div>\n",
              "  "
            ]
          },
          "metadata": {},
          "execution_count": 17
        }
      ]
    },
    {
      "cell_type": "code",
      "source": [
        "test_annotations.columns = ['Label', 'x1', 'y1', 'x2', 'y2', 'file_path', 'image_resolution_x', 'image_resolution_y']"
      ],
      "metadata": {
        "id": "V3v0yMupM7jq"
      },
      "execution_count": null,
      "outputs": []
    },
    {
      "cell_type": "code",
      "source": [
        "x1_coordinate = []\n",
        "y1_coordinate = []\n",
        "x2_coordinate = []\n",
        "y2_coordinate = []\n",
        "for i in range(test_annotations.shape[0]):\n",
        "  x1 = test_annotations['x1'].iloc[i]\n",
        "  y1 = test_annotations['y1'].iloc[i]\n",
        "  x2 = test_annotations['x2'].iloc[i]\n",
        "  y2 = test_annotations['y2'].iloc[i]\n",
        "  image_resolution_x = test_annotations['image_resolution_x'].iloc[i]\n",
        "  image_resolution_y = test_annotations['image_resolution_y'].iloc[i]\n",
        "\n",
        "  new_x2 = x1 + x2\n",
        "  new_y2 = y1 + y2\n",
        "\n",
        "  #new_x2 = x2\n",
        "  #new_y2 = y2\n",
        "\n",
        "  x1_coordinate.append(x1/image_resolution_x)\n",
        "  y1_coordinate.append(y1/image_resolution_y)\n",
        "  x2_coordinate.append(new_x2/image_resolution_x)\n",
        "  y2_coordinate.append(new_y2/image_resolution_y)"
      ],
      "metadata": {
        "id": "GpKUBGLyRqRD"
      },
      "execution_count": null,
      "outputs": []
    },
    {
      "cell_type": "code",
      "source": [
        "test_annotations['x1'] = x1_coordinate\n",
        "test_annotations['y1'] = y1_coordinate\n",
        "test_annotations['x2'] = x2_coordinate\n",
        "test_annotations['y2'] = y2_coordinate"
      ],
      "metadata": {
        "id": "CUMYEf8LRwo-"
      },
      "execution_count": null,
      "outputs": []
    },
    {
      "cell_type": "code",
      "source": [
        "test_annotations['Data_type'] = 'TEST'"
      ],
      "metadata": {
        "id": "CpMULRAYM7jr"
      },
      "execution_count": null,
      "outputs": []
    },
    {
      "cell_type": "code",
      "source": [
        "print(test_annotations.shape)\n",
        "test_annotations.head()"
      ],
      "metadata": {
        "colab": {
          "base_uri": "https://localhost:8080/",
          "height": 224
        },
        "outputId": "de61e098-e2b7-4203-9ac2-11b14c892a0e",
        "id": "4k54WPacM7jr"
      },
      "execution_count": null,
      "outputs": [
        {
          "output_type": "stream",
          "name": "stdout",
          "text": [
            "(37, 9)\n"
          ]
        },
        {
          "output_type": "execute_result",
          "data": {
            "text/plain": [
              "  Label        x1        y1        x2        y2      file_path  \\\n",
              "0   Dog  0.501563  0.462500  0.526563  0.521875  image_10.jpeg   \n",
              "1   Dog  0.516406  0.472917  0.554688  0.517708  image_10.jpeg   \n",
              "2   Dog  0.585938  0.454167  0.619531  0.511458  image_10.jpeg   \n",
              "3   Dog  0.246875  0.464583  0.296875  0.558333  image_10.jpeg   \n",
              "4   Dog  0.160938  0.447917  0.203906  0.517708  image_10.jpeg   \n",
              "\n",
              "   image_resolution_x  image_resolution_y Data_type  \n",
              "0                1280                 960      TEST  \n",
              "1                1280                 960      TEST  \n",
              "2                1280                 960      TEST  \n",
              "3                1280                 960      TEST  \n",
              "4                1280                 960      TEST  "
            ],
            "text/html": [
              "\n",
              "  <div id=\"df-559bb96f-d252-464c-af9b-26a863f8bd05\">\n",
              "    <div class=\"colab-df-container\">\n",
              "      <div>\n",
              "<style scoped>\n",
              "    .dataframe tbody tr th:only-of-type {\n",
              "        vertical-align: middle;\n",
              "    }\n",
              "\n",
              "    .dataframe tbody tr th {\n",
              "        vertical-align: top;\n",
              "    }\n",
              "\n",
              "    .dataframe thead th {\n",
              "        text-align: right;\n",
              "    }\n",
              "</style>\n",
              "<table border=\"1\" class=\"dataframe\">\n",
              "  <thead>\n",
              "    <tr style=\"text-align: right;\">\n",
              "      <th></th>\n",
              "      <th>Label</th>\n",
              "      <th>x1</th>\n",
              "      <th>y1</th>\n",
              "      <th>x2</th>\n",
              "      <th>y2</th>\n",
              "      <th>file_path</th>\n",
              "      <th>image_resolution_x</th>\n",
              "      <th>image_resolution_y</th>\n",
              "      <th>Data_type</th>\n",
              "    </tr>\n",
              "  </thead>\n",
              "  <tbody>\n",
              "    <tr>\n",
              "      <th>0</th>\n",
              "      <td>Dog</td>\n",
              "      <td>0.501563</td>\n",
              "      <td>0.462500</td>\n",
              "      <td>0.526563</td>\n",
              "      <td>0.521875</td>\n",
              "      <td>image_10.jpeg</td>\n",
              "      <td>1280</td>\n",
              "      <td>960</td>\n",
              "      <td>TEST</td>\n",
              "    </tr>\n",
              "    <tr>\n",
              "      <th>1</th>\n",
              "      <td>Dog</td>\n",
              "      <td>0.516406</td>\n",
              "      <td>0.472917</td>\n",
              "      <td>0.554688</td>\n",
              "      <td>0.517708</td>\n",
              "      <td>image_10.jpeg</td>\n",
              "      <td>1280</td>\n",
              "      <td>960</td>\n",
              "      <td>TEST</td>\n",
              "    </tr>\n",
              "    <tr>\n",
              "      <th>2</th>\n",
              "      <td>Dog</td>\n",
              "      <td>0.585938</td>\n",
              "      <td>0.454167</td>\n",
              "      <td>0.619531</td>\n",
              "      <td>0.511458</td>\n",
              "      <td>image_10.jpeg</td>\n",
              "      <td>1280</td>\n",
              "      <td>960</td>\n",
              "      <td>TEST</td>\n",
              "    </tr>\n",
              "    <tr>\n",
              "      <th>3</th>\n",
              "      <td>Dog</td>\n",
              "      <td>0.246875</td>\n",
              "      <td>0.464583</td>\n",
              "      <td>0.296875</td>\n",
              "      <td>0.558333</td>\n",
              "      <td>image_10.jpeg</td>\n",
              "      <td>1280</td>\n",
              "      <td>960</td>\n",
              "      <td>TEST</td>\n",
              "    </tr>\n",
              "    <tr>\n",
              "      <th>4</th>\n",
              "      <td>Dog</td>\n",
              "      <td>0.160938</td>\n",
              "      <td>0.447917</td>\n",
              "      <td>0.203906</td>\n",
              "      <td>0.517708</td>\n",
              "      <td>image_10.jpeg</td>\n",
              "      <td>1280</td>\n",
              "      <td>960</td>\n",
              "      <td>TEST</td>\n",
              "    </tr>\n",
              "  </tbody>\n",
              "</table>\n",
              "</div>\n",
              "      <button class=\"colab-df-convert\" onclick=\"convertToInteractive('df-559bb96f-d252-464c-af9b-26a863f8bd05')\"\n",
              "              title=\"Convert this dataframe to an interactive table.\"\n",
              "              style=\"display:none;\">\n",
              "        \n",
              "  <svg xmlns=\"http://www.w3.org/2000/svg\" height=\"24px\"viewBox=\"0 0 24 24\"\n",
              "       width=\"24px\">\n",
              "    <path d=\"M0 0h24v24H0V0z\" fill=\"none\"/>\n",
              "    <path d=\"M18.56 5.44l.94 2.06.94-2.06 2.06-.94-2.06-.94-.94-2.06-.94 2.06-2.06.94zm-11 1L8.5 8.5l.94-2.06 2.06-.94-2.06-.94L8.5 2.5l-.94 2.06-2.06.94zm10 10l.94 2.06.94-2.06 2.06-.94-2.06-.94-.94-2.06-.94 2.06-2.06.94z\"/><path d=\"M17.41 7.96l-1.37-1.37c-.4-.4-.92-.59-1.43-.59-.52 0-1.04.2-1.43.59L10.3 9.45l-7.72 7.72c-.78.78-.78 2.05 0 2.83L4 21.41c.39.39.9.59 1.41.59.51 0 1.02-.2 1.41-.59l7.78-7.78 2.81-2.81c.8-.78.8-2.07 0-2.86zM5.41 20L4 18.59l7.72-7.72 1.47 1.35L5.41 20z\"/>\n",
              "  </svg>\n",
              "      </button>\n",
              "      \n",
              "  <style>\n",
              "    .colab-df-container {\n",
              "      display:flex;\n",
              "      flex-wrap:wrap;\n",
              "      gap: 12px;\n",
              "    }\n",
              "\n",
              "    .colab-df-convert {\n",
              "      background-color: #E8F0FE;\n",
              "      border: none;\n",
              "      border-radius: 50%;\n",
              "      cursor: pointer;\n",
              "      display: none;\n",
              "      fill: #1967D2;\n",
              "      height: 32px;\n",
              "      padding: 0 0 0 0;\n",
              "      width: 32px;\n",
              "    }\n",
              "\n",
              "    .colab-df-convert:hover {\n",
              "      background-color: #E2EBFA;\n",
              "      box-shadow: 0px 1px 2px rgba(60, 64, 67, 0.3), 0px 1px 3px 1px rgba(60, 64, 67, 0.15);\n",
              "      fill: #174EA6;\n",
              "    }\n",
              "\n",
              "    [theme=dark] .colab-df-convert {\n",
              "      background-color: #3B4455;\n",
              "      fill: #D2E3FC;\n",
              "    }\n",
              "\n",
              "    [theme=dark] .colab-df-convert:hover {\n",
              "      background-color: #434B5C;\n",
              "      box-shadow: 0px 1px 3px 1px rgba(0, 0, 0, 0.15);\n",
              "      filter: drop-shadow(0px 1px 2px rgba(0, 0, 0, 0.3));\n",
              "      fill: #FFFFFF;\n",
              "    }\n",
              "  </style>\n",
              "\n",
              "      <script>\n",
              "        const buttonEl =\n",
              "          document.querySelector('#df-559bb96f-d252-464c-af9b-26a863f8bd05 button.colab-df-convert');\n",
              "        buttonEl.style.display =\n",
              "          google.colab.kernel.accessAllowed ? 'block' : 'none';\n",
              "\n",
              "        async function convertToInteractive(key) {\n",
              "          const element = document.querySelector('#df-559bb96f-d252-464c-af9b-26a863f8bd05');\n",
              "          const dataTable =\n",
              "            await google.colab.kernel.invokeFunction('convertToInteractive',\n",
              "                                                     [key], {});\n",
              "          if (!dataTable) return;\n",
              "\n",
              "          const docLinkHtml = 'Like what you see? Visit the ' +\n",
              "            '<a target=\"_blank\" href=https://colab.research.google.com/notebooks/data_table.ipynb>data table notebook</a>'\n",
              "            + ' to learn more about interactive tables.';\n",
              "          element.innerHTML = '';\n",
              "          dataTable['output_type'] = 'display_data';\n",
              "          await google.colab.output.renderOutput(dataTable, element);\n",
              "          const docLink = document.createElement('div');\n",
              "          docLink.innerHTML = docLinkHtml;\n",
              "          element.appendChild(docLink);\n",
              "        }\n",
              "      </script>\n",
              "    </div>\n",
              "  </div>\n",
              "  "
            ]
          },
          "metadata": {},
          "execution_count": 22
        }
      ]
    },
    {
      "cell_type": "code",
      "source": [
        "test_annotations['Label'].value_counts()"
      ],
      "metadata": {
        "colab": {
          "base_uri": "https://localhost:8080/"
        },
        "outputId": "dec379a0-fac7-4013-cb01-676d84baf757",
        "id": "C1JL8UpWM7jr"
      },
      "execution_count": null,
      "outputs": [
        {
          "output_type": "execute_result",
          "data": {
            "text/plain": [
              "Cow        13\n",
              "Dog        10\n",
              "Deer        8\n",
              "Leopard     6\n",
              "Name: Label, dtype: int64"
            ]
          },
          "metadata": {},
          "execution_count": 23
        }
      ]
    },
    {
      "cell_type": "code",
      "source": [
        "outputs = []\n",
        "folder_path = \"/content/drive/MyDrive/Naveen Images/Test/\"\n",
        "for i in range(test_annotations.shape[0]):\n",
        "  label = test_annotations['Label'].iloc[i]\n",
        "  file_path = test_annotations['file_path'].iloc[i]\n",
        "  new_file_path = folder_path + f'{label}s/'+ file_path \n",
        "  outputs.append(new_file_path)"
      ],
      "metadata": {
        "id": "PDuHkzjQM7jr"
      },
      "execution_count": null,
      "outputs": []
    },
    {
      "cell_type": "code",
      "source": [
        "outputs[:2]"
      ],
      "metadata": {
        "colab": {
          "base_uri": "https://localhost:8080/"
        },
        "outputId": "19119eef-f2ba-49a2-80e9-4dc2f57ff9ee",
        "id": "zugy_BFbM7jr"
      },
      "execution_count": null,
      "outputs": [
        {
          "output_type": "execute_result",
          "data": {
            "text/plain": [
              "['/content/drive/MyDrive/Naveen Images/Test/Dogs/image_10.jpeg',\n",
              " '/content/drive/MyDrive/Naveen Images/Test/Dogs/image_10.jpeg']"
            ]
          },
          "metadata": {},
          "execution_count": 25
        }
      ]
    },
    {
      "cell_type": "code",
      "source": [
        "test_annotations['file_path'] = outputs"
      ],
      "metadata": {
        "id": "7sR-3Up2M7jr"
      },
      "execution_count": null,
      "outputs": []
    },
    {
      "cell_type": "code",
      "source": [
        "print(test_annotations.shape)\n",
        "test_annotations.head()"
      ],
      "metadata": {
        "colab": {
          "base_uri": "https://localhost:8080/",
          "height": 355
        },
        "outputId": "f1134791-8741-428a-b7d1-7d54e93576f6",
        "id": "MufCOPdFM7js"
      },
      "execution_count": null,
      "outputs": [
        {
          "output_type": "stream",
          "name": "stdout",
          "text": [
            "(37, 9)\n"
          ]
        },
        {
          "output_type": "execute_result",
          "data": {
            "text/plain": [
              "  Label        x1        y1        x2        y2  \\\n",
              "0   Dog  0.501563  0.462500  0.526563  0.521875   \n",
              "1   Dog  0.516406  0.472917  0.554688  0.517708   \n",
              "2   Dog  0.585938  0.454167  0.619531  0.511458   \n",
              "3   Dog  0.246875  0.464583  0.296875  0.558333   \n",
              "4   Dog  0.160938  0.447917  0.203906  0.517708   \n",
              "\n",
              "                                           file_path  image_resolution_x  \\\n",
              "0  /content/drive/MyDrive/Naveen Images/Test/Dogs...                1280   \n",
              "1  /content/drive/MyDrive/Naveen Images/Test/Dogs...                1280   \n",
              "2  /content/drive/MyDrive/Naveen Images/Test/Dogs...                1280   \n",
              "3  /content/drive/MyDrive/Naveen Images/Test/Dogs...                1280   \n",
              "4  /content/drive/MyDrive/Naveen Images/Test/Dogs...                1280   \n",
              "\n",
              "   image_resolution_y Data_type  \n",
              "0                 960      TEST  \n",
              "1                 960      TEST  \n",
              "2                 960      TEST  \n",
              "3                 960      TEST  \n",
              "4                 960      TEST  "
            ],
            "text/html": [
              "\n",
              "  <div id=\"df-163aa831-f0f3-4780-9f11-da9d211e58dc\">\n",
              "    <div class=\"colab-df-container\">\n",
              "      <div>\n",
              "<style scoped>\n",
              "    .dataframe tbody tr th:only-of-type {\n",
              "        vertical-align: middle;\n",
              "    }\n",
              "\n",
              "    .dataframe tbody tr th {\n",
              "        vertical-align: top;\n",
              "    }\n",
              "\n",
              "    .dataframe thead th {\n",
              "        text-align: right;\n",
              "    }\n",
              "</style>\n",
              "<table border=\"1\" class=\"dataframe\">\n",
              "  <thead>\n",
              "    <tr style=\"text-align: right;\">\n",
              "      <th></th>\n",
              "      <th>Label</th>\n",
              "      <th>x1</th>\n",
              "      <th>y1</th>\n",
              "      <th>x2</th>\n",
              "      <th>y2</th>\n",
              "      <th>file_path</th>\n",
              "      <th>image_resolution_x</th>\n",
              "      <th>image_resolution_y</th>\n",
              "      <th>Data_type</th>\n",
              "    </tr>\n",
              "  </thead>\n",
              "  <tbody>\n",
              "    <tr>\n",
              "      <th>0</th>\n",
              "      <td>Dog</td>\n",
              "      <td>0.501563</td>\n",
              "      <td>0.462500</td>\n",
              "      <td>0.526563</td>\n",
              "      <td>0.521875</td>\n",
              "      <td>/content/drive/MyDrive/Naveen Images/Test/Dogs...</td>\n",
              "      <td>1280</td>\n",
              "      <td>960</td>\n",
              "      <td>TEST</td>\n",
              "    </tr>\n",
              "    <tr>\n",
              "      <th>1</th>\n",
              "      <td>Dog</td>\n",
              "      <td>0.516406</td>\n",
              "      <td>0.472917</td>\n",
              "      <td>0.554688</td>\n",
              "      <td>0.517708</td>\n",
              "      <td>/content/drive/MyDrive/Naveen Images/Test/Dogs...</td>\n",
              "      <td>1280</td>\n",
              "      <td>960</td>\n",
              "      <td>TEST</td>\n",
              "    </tr>\n",
              "    <tr>\n",
              "      <th>2</th>\n",
              "      <td>Dog</td>\n",
              "      <td>0.585938</td>\n",
              "      <td>0.454167</td>\n",
              "      <td>0.619531</td>\n",
              "      <td>0.511458</td>\n",
              "      <td>/content/drive/MyDrive/Naveen Images/Test/Dogs...</td>\n",
              "      <td>1280</td>\n",
              "      <td>960</td>\n",
              "      <td>TEST</td>\n",
              "    </tr>\n",
              "    <tr>\n",
              "      <th>3</th>\n",
              "      <td>Dog</td>\n",
              "      <td>0.246875</td>\n",
              "      <td>0.464583</td>\n",
              "      <td>0.296875</td>\n",
              "      <td>0.558333</td>\n",
              "      <td>/content/drive/MyDrive/Naveen Images/Test/Dogs...</td>\n",
              "      <td>1280</td>\n",
              "      <td>960</td>\n",
              "      <td>TEST</td>\n",
              "    </tr>\n",
              "    <tr>\n",
              "      <th>4</th>\n",
              "      <td>Dog</td>\n",
              "      <td>0.160938</td>\n",
              "      <td>0.447917</td>\n",
              "      <td>0.203906</td>\n",
              "      <td>0.517708</td>\n",
              "      <td>/content/drive/MyDrive/Naveen Images/Test/Dogs...</td>\n",
              "      <td>1280</td>\n",
              "      <td>960</td>\n",
              "      <td>TEST</td>\n",
              "    </tr>\n",
              "  </tbody>\n",
              "</table>\n",
              "</div>\n",
              "      <button class=\"colab-df-convert\" onclick=\"convertToInteractive('df-163aa831-f0f3-4780-9f11-da9d211e58dc')\"\n",
              "              title=\"Convert this dataframe to an interactive table.\"\n",
              "              style=\"display:none;\">\n",
              "        \n",
              "  <svg xmlns=\"http://www.w3.org/2000/svg\" height=\"24px\"viewBox=\"0 0 24 24\"\n",
              "       width=\"24px\">\n",
              "    <path d=\"M0 0h24v24H0V0z\" fill=\"none\"/>\n",
              "    <path d=\"M18.56 5.44l.94 2.06.94-2.06 2.06-.94-2.06-.94-.94-2.06-.94 2.06-2.06.94zm-11 1L8.5 8.5l.94-2.06 2.06-.94-2.06-.94L8.5 2.5l-.94 2.06-2.06.94zm10 10l.94 2.06.94-2.06 2.06-.94-2.06-.94-.94-2.06-.94 2.06-2.06.94z\"/><path d=\"M17.41 7.96l-1.37-1.37c-.4-.4-.92-.59-1.43-.59-.52 0-1.04.2-1.43.59L10.3 9.45l-7.72 7.72c-.78.78-.78 2.05 0 2.83L4 21.41c.39.39.9.59 1.41.59.51 0 1.02-.2 1.41-.59l7.78-7.78 2.81-2.81c.8-.78.8-2.07 0-2.86zM5.41 20L4 18.59l7.72-7.72 1.47 1.35L5.41 20z\"/>\n",
              "  </svg>\n",
              "      </button>\n",
              "      \n",
              "  <style>\n",
              "    .colab-df-container {\n",
              "      display:flex;\n",
              "      flex-wrap:wrap;\n",
              "      gap: 12px;\n",
              "    }\n",
              "\n",
              "    .colab-df-convert {\n",
              "      background-color: #E8F0FE;\n",
              "      border: none;\n",
              "      border-radius: 50%;\n",
              "      cursor: pointer;\n",
              "      display: none;\n",
              "      fill: #1967D2;\n",
              "      height: 32px;\n",
              "      padding: 0 0 0 0;\n",
              "      width: 32px;\n",
              "    }\n",
              "\n",
              "    .colab-df-convert:hover {\n",
              "      background-color: #E2EBFA;\n",
              "      box-shadow: 0px 1px 2px rgba(60, 64, 67, 0.3), 0px 1px 3px 1px rgba(60, 64, 67, 0.15);\n",
              "      fill: #174EA6;\n",
              "    }\n",
              "\n",
              "    [theme=dark] .colab-df-convert {\n",
              "      background-color: #3B4455;\n",
              "      fill: #D2E3FC;\n",
              "    }\n",
              "\n",
              "    [theme=dark] .colab-df-convert:hover {\n",
              "      background-color: #434B5C;\n",
              "      box-shadow: 0px 1px 3px 1px rgba(0, 0, 0, 0.15);\n",
              "      filter: drop-shadow(0px 1px 2px rgba(0, 0, 0, 0.3));\n",
              "      fill: #FFFFFF;\n",
              "    }\n",
              "  </style>\n",
              "\n",
              "      <script>\n",
              "        const buttonEl =\n",
              "          document.querySelector('#df-163aa831-f0f3-4780-9f11-da9d211e58dc button.colab-df-convert');\n",
              "        buttonEl.style.display =\n",
              "          google.colab.kernel.accessAllowed ? 'block' : 'none';\n",
              "\n",
              "        async function convertToInteractive(key) {\n",
              "          const element = document.querySelector('#df-163aa831-f0f3-4780-9f11-da9d211e58dc');\n",
              "          const dataTable =\n",
              "            await google.colab.kernel.invokeFunction('convertToInteractive',\n",
              "                                                     [key], {});\n",
              "          if (!dataTable) return;\n",
              "\n",
              "          const docLinkHtml = 'Like what you see? Visit the ' +\n",
              "            '<a target=\"_blank\" href=https://colab.research.google.com/notebooks/data_table.ipynb>data table notebook</a>'\n",
              "            + ' to learn more about interactive tables.';\n",
              "          element.innerHTML = '';\n",
              "          dataTable['output_type'] = 'display_data';\n",
              "          await google.colab.output.renderOutput(dataTable, element);\n",
              "          const docLink = document.createElement('div');\n",
              "          docLink.innerHTML = docLinkHtml;\n",
              "          element.appendChild(docLink);\n",
              "        }\n",
              "      </script>\n",
              "    </div>\n",
              "  </div>\n",
              "  "
            ]
          },
          "metadata": {},
          "execution_count": 27
        }
      ]
    },
    {
      "cell_type": "code",
      "source": [
        "test = test_annotations[['Data_type', 'file_path', 'Label', 'x1', 'y1', 'x2', 'y2']].copy()"
      ],
      "metadata": {
        "id": "N1HJZVXNM7js"
      },
      "execution_count": null,
      "outputs": []
    },
    {
      "cell_type": "code",
      "source": [
        "print(test.shape)\n",
        "test.head()"
      ],
      "metadata": {
        "colab": {
          "base_uri": "https://localhost:8080/",
          "height": 224
        },
        "outputId": "29cdcaa7-d6f1-4a9a-9daf-8e3293a5a939",
        "id": "knfQvsUAM7js"
      },
      "execution_count": null,
      "outputs": [
        {
          "output_type": "stream",
          "name": "stdout",
          "text": [
            "(37, 7)\n"
          ]
        },
        {
          "output_type": "execute_result",
          "data": {
            "text/plain": [
              "  Data_type                                          file_path Label  \\\n",
              "0      TEST  /content/drive/MyDrive/Naveen Images/Test/Dogs...   Dog   \n",
              "1      TEST  /content/drive/MyDrive/Naveen Images/Test/Dogs...   Dog   \n",
              "2      TEST  /content/drive/MyDrive/Naveen Images/Test/Dogs...   Dog   \n",
              "3      TEST  /content/drive/MyDrive/Naveen Images/Test/Dogs...   Dog   \n",
              "4      TEST  /content/drive/MyDrive/Naveen Images/Test/Dogs...   Dog   \n",
              "\n",
              "         x1        y1        x2        y2  \n",
              "0  0.501563  0.462500  0.526563  0.521875  \n",
              "1  0.516406  0.472917  0.554688  0.517708  \n",
              "2  0.585938  0.454167  0.619531  0.511458  \n",
              "3  0.246875  0.464583  0.296875  0.558333  \n",
              "4  0.160938  0.447917  0.203906  0.517708  "
            ],
            "text/html": [
              "\n",
              "  <div id=\"df-836f29b8-1991-49f0-bd7c-2dbd4a8445b3\">\n",
              "    <div class=\"colab-df-container\">\n",
              "      <div>\n",
              "<style scoped>\n",
              "    .dataframe tbody tr th:only-of-type {\n",
              "        vertical-align: middle;\n",
              "    }\n",
              "\n",
              "    .dataframe tbody tr th {\n",
              "        vertical-align: top;\n",
              "    }\n",
              "\n",
              "    .dataframe thead th {\n",
              "        text-align: right;\n",
              "    }\n",
              "</style>\n",
              "<table border=\"1\" class=\"dataframe\">\n",
              "  <thead>\n",
              "    <tr style=\"text-align: right;\">\n",
              "      <th></th>\n",
              "      <th>Data_type</th>\n",
              "      <th>file_path</th>\n",
              "      <th>Label</th>\n",
              "      <th>x1</th>\n",
              "      <th>y1</th>\n",
              "      <th>x2</th>\n",
              "      <th>y2</th>\n",
              "    </tr>\n",
              "  </thead>\n",
              "  <tbody>\n",
              "    <tr>\n",
              "      <th>0</th>\n",
              "      <td>TEST</td>\n",
              "      <td>/content/drive/MyDrive/Naveen Images/Test/Dogs...</td>\n",
              "      <td>Dog</td>\n",
              "      <td>0.501563</td>\n",
              "      <td>0.462500</td>\n",
              "      <td>0.526563</td>\n",
              "      <td>0.521875</td>\n",
              "    </tr>\n",
              "    <tr>\n",
              "      <th>1</th>\n",
              "      <td>TEST</td>\n",
              "      <td>/content/drive/MyDrive/Naveen Images/Test/Dogs...</td>\n",
              "      <td>Dog</td>\n",
              "      <td>0.516406</td>\n",
              "      <td>0.472917</td>\n",
              "      <td>0.554688</td>\n",
              "      <td>0.517708</td>\n",
              "    </tr>\n",
              "    <tr>\n",
              "      <th>2</th>\n",
              "      <td>TEST</td>\n",
              "      <td>/content/drive/MyDrive/Naveen Images/Test/Dogs...</td>\n",
              "      <td>Dog</td>\n",
              "      <td>0.585938</td>\n",
              "      <td>0.454167</td>\n",
              "      <td>0.619531</td>\n",
              "      <td>0.511458</td>\n",
              "    </tr>\n",
              "    <tr>\n",
              "      <th>3</th>\n",
              "      <td>TEST</td>\n",
              "      <td>/content/drive/MyDrive/Naveen Images/Test/Dogs...</td>\n",
              "      <td>Dog</td>\n",
              "      <td>0.246875</td>\n",
              "      <td>0.464583</td>\n",
              "      <td>0.296875</td>\n",
              "      <td>0.558333</td>\n",
              "    </tr>\n",
              "    <tr>\n",
              "      <th>4</th>\n",
              "      <td>TEST</td>\n",
              "      <td>/content/drive/MyDrive/Naveen Images/Test/Dogs...</td>\n",
              "      <td>Dog</td>\n",
              "      <td>0.160938</td>\n",
              "      <td>0.447917</td>\n",
              "      <td>0.203906</td>\n",
              "      <td>0.517708</td>\n",
              "    </tr>\n",
              "  </tbody>\n",
              "</table>\n",
              "</div>\n",
              "      <button class=\"colab-df-convert\" onclick=\"convertToInteractive('df-836f29b8-1991-49f0-bd7c-2dbd4a8445b3')\"\n",
              "              title=\"Convert this dataframe to an interactive table.\"\n",
              "              style=\"display:none;\">\n",
              "        \n",
              "  <svg xmlns=\"http://www.w3.org/2000/svg\" height=\"24px\"viewBox=\"0 0 24 24\"\n",
              "       width=\"24px\">\n",
              "    <path d=\"M0 0h24v24H0V0z\" fill=\"none\"/>\n",
              "    <path d=\"M18.56 5.44l.94 2.06.94-2.06 2.06-.94-2.06-.94-.94-2.06-.94 2.06-2.06.94zm-11 1L8.5 8.5l.94-2.06 2.06-.94-2.06-.94L8.5 2.5l-.94 2.06-2.06.94zm10 10l.94 2.06.94-2.06 2.06-.94-2.06-.94-.94-2.06-.94 2.06-2.06.94z\"/><path d=\"M17.41 7.96l-1.37-1.37c-.4-.4-.92-.59-1.43-.59-.52 0-1.04.2-1.43.59L10.3 9.45l-7.72 7.72c-.78.78-.78 2.05 0 2.83L4 21.41c.39.39.9.59 1.41.59.51 0 1.02-.2 1.41-.59l7.78-7.78 2.81-2.81c.8-.78.8-2.07 0-2.86zM5.41 20L4 18.59l7.72-7.72 1.47 1.35L5.41 20z\"/>\n",
              "  </svg>\n",
              "      </button>\n",
              "      \n",
              "  <style>\n",
              "    .colab-df-container {\n",
              "      display:flex;\n",
              "      flex-wrap:wrap;\n",
              "      gap: 12px;\n",
              "    }\n",
              "\n",
              "    .colab-df-convert {\n",
              "      background-color: #E8F0FE;\n",
              "      border: none;\n",
              "      border-radius: 50%;\n",
              "      cursor: pointer;\n",
              "      display: none;\n",
              "      fill: #1967D2;\n",
              "      height: 32px;\n",
              "      padding: 0 0 0 0;\n",
              "      width: 32px;\n",
              "    }\n",
              "\n",
              "    .colab-df-convert:hover {\n",
              "      background-color: #E2EBFA;\n",
              "      box-shadow: 0px 1px 2px rgba(60, 64, 67, 0.3), 0px 1px 3px 1px rgba(60, 64, 67, 0.15);\n",
              "      fill: #174EA6;\n",
              "    }\n",
              "\n",
              "    [theme=dark] .colab-df-convert {\n",
              "      background-color: #3B4455;\n",
              "      fill: #D2E3FC;\n",
              "    }\n",
              "\n",
              "    [theme=dark] .colab-df-convert:hover {\n",
              "      background-color: #434B5C;\n",
              "      box-shadow: 0px 1px 3px 1px rgba(0, 0, 0, 0.15);\n",
              "      filter: drop-shadow(0px 1px 2px rgba(0, 0, 0, 0.3));\n",
              "      fill: #FFFFFF;\n",
              "    }\n",
              "  </style>\n",
              "\n",
              "      <script>\n",
              "        const buttonEl =\n",
              "          document.querySelector('#df-836f29b8-1991-49f0-bd7c-2dbd4a8445b3 button.colab-df-convert');\n",
              "        buttonEl.style.display =\n",
              "          google.colab.kernel.accessAllowed ? 'block' : 'none';\n",
              "\n",
              "        async function convertToInteractive(key) {\n",
              "          const element = document.querySelector('#df-836f29b8-1991-49f0-bd7c-2dbd4a8445b3');\n",
              "          const dataTable =\n",
              "            await google.colab.kernel.invokeFunction('convertToInteractive',\n",
              "                                                     [key], {});\n",
              "          if (!dataTable) return;\n",
              "\n",
              "          const docLinkHtml = 'Like what you see? Visit the ' +\n",
              "            '<a target=\"_blank\" href=https://colab.research.google.com/notebooks/data_table.ipynb>data table notebook</a>'\n",
              "            + ' to learn more about interactive tables.';\n",
              "          element.innerHTML = '';\n",
              "          dataTable['output_type'] = 'display_data';\n",
              "          await google.colab.output.renderOutput(dataTable, element);\n",
              "          const docLink = document.createElement('div');\n",
              "          docLink.innerHTML = docLinkHtml;\n",
              "          element.appendChild(docLink);\n",
              "        }\n",
              "      </script>\n",
              "    </div>\n",
              "  </div>\n",
              "  "
            ]
          },
          "metadata": {},
          "execution_count": 29
        }
      ]
    },
    {
      "cell_type": "code",
      "source": [
        "data = pd.concat([train, test])"
      ],
      "metadata": {
        "id": "EDLPtJzfOFIb"
      },
      "execution_count": null,
      "outputs": []
    },
    {
      "cell_type": "code",
      "source": [
        "print(data.shape)\n",
        "data.head()"
      ],
      "metadata": {
        "colab": {
          "base_uri": "https://localhost:8080/",
          "height": 224
        },
        "id": "2jKyIDUJON9g",
        "outputId": "8832e74d-9593-4f83-d353-a7af9686c86a"
      },
      "execution_count": null,
      "outputs": [
        {
          "output_type": "stream",
          "name": "stdout",
          "text": [
            "(182, 7)\n"
          ]
        },
        {
          "output_type": "execute_result",
          "data": {
            "text/plain": [
              "  Data_type                                          file_path Label  \\\n",
              "0     TRAIN  /content/drive/MyDrive/Naveen Images/Train/Dog...   Dog   \n",
              "1     TRAIN  /content/drive/MyDrive/Naveen Images/Train/Dog...   Dog   \n",
              "2     TRAIN  /content/drive/MyDrive/Naveen Images/Train/Dog...   Dog   \n",
              "3     TRAIN  /content/drive/MyDrive/Naveen Images/Train/Dog...   Dog   \n",
              "4     TRAIN  /content/drive/MyDrive/Naveen Images/Train/Dog...   Dog   \n",
              "\n",
              "         x1        y1        x2        y2  \n",
              "0  0.031250  0.062222  0.964286  0.968889  \n",
              "1  0.184466  0.079755  0.728155  0.987730  \n",
              "2  0.287625  0.011905  0.675585  1.000000  \n",
              "3  0.160000  0.021858  0.810909  0.983607  \n",
              "4  0.032000  0.045822  0.880000  0.991914  "
            ],
            "text/html": [
              "\n",
              "  <div id=\"df-a1a96ca2-f21f-40f8-93af-2d8d63ccb0ba\">\n",
              "    <div class=\"colab-df-container\">\n",
              "      <div>\n",
              "<style scoped>\n",
              "    .dataframe tbody tr th:only-of-type {\n",
              "        vertical-align: middle;\n",
              "    }\n",
              "\n",
              "    .dataframe tbody tr th {\n",
              "        vertical-align: top;\n",
              "    }\n",
              "\n",
              "    .dataframe thead th {\n",
              "        text-align: right;\n",
              "    }\n",
              "</style>\n",
              "<table border=\"1\" class=\"dataframe\">\n",
              "  <thead>\n",
              "    <tr style=\"text-align: right;\">\n",
              "      <th></th>\n",
              "      <th>Data_type</th>\n",
              "      <th>file_path</th>\n",
              "      <th>Label</th>\n",
              "      <th>x1</th>\n",
              "      <th>y1</th>\n",
              "      <th>x2</th>\n",
              "      <th>y2</th>\n",
              "    </tr>\n",
              "  </thead>\n",
              "  <tbody>\n",
              "    <tr>\n",
              "      <th>0</th>\n",
              "      <td>TRAIN</td>\n",
              "      <td>/content/drive/MyDrive/Naveen Images/Train/Dog...</td>\n",
              "      <td>Dog</td>\n",
              "      <td>0.031250</td>\n",
              "      <td>0.062222</td>\n",
              "      <td>0.964286</td>\n",
              "      <td>0.968889</td>\n",
              "    </tr>\n",
              "    <tr>\n",
              "      <th>1</th>\n",
              "      <td>TRAIN</td>\n",
              "      <td>/content/drive/MyDrive/Naveen Images/Train/Dog...</td>\n",
              "      <td>Dog</td>\n",
              "      <td>0.184466</td>\n",
              "      <td>0.079755</td>\n",
              "      <td>0.728155</td>\n",
              "      <td>0.987730</td>\n",
              "    </tr>\n",
              "    <tr>\n",
              "      <th>2</th>\n",
              "      <td>TRAIN</td>\n",
              "      <td>/content/drive/MyDrive/Naveen Images/Train/Dog...</td>\n",
              "      <td>Dog</td>\n",
              "      <td>0.287625</td>\n",
              "      <td>0.011905</td>\n",
              "      <td>0.675585</td>\n",
              "      <td>1.000000</td>\n",
              "    </tr>\n",
              "    <tr>\n",
              "      <th>3</th>\n",
              "      <td>TRAIN</td>\n",
              "      <td>/content/drive/MyDrive/Naveen Images/Train/Dog...</td>\n",
              "      <td>Dog</td>\n",
              "      <td>0.160000</td>\n",
              "      <td>0.021858</td>\n",
              "      <td>0.810909</td>\n",
              "      <td>0.983607</td>\n",
              "    </tr>\n",
              "    <tr>\n",
              "      <th>4</th>\n",
              "      <td>TRAIN</td>\n",
              "      <td>/content/drive/MyDrive/Naveen Images/Train/Dog...</td>\n",
              "      <td>Dog</td>\n",
              "      <td>0.032000</td>\n",
              "      <td>0.045822</td>\n",
              "      <td>0.880000</td>\n",
              "      <td>0.991914</td>\n",
              "    </tr>\n",
              "  </tbody>\n",
              "</table>\n",
              "</div>\n",
              "      <button class=\"colab-df-convert\" onclick=\"convertToInteractive('df-a1a96ca2-f21f-40f8-93af-2d8d63ccb0ba')\"\n",
              "              title=\"Convert this dataframe to an interactive table.\"\n",
              "              style=\"display:none;\">\n",
              "        \n",
              "  <svg xmlns=\"http://www.w3.org/2000/svg\" height=\"24px\"viewBox=\"0 0 24 24\"\n",
              "       width=\"24px\">\n",
              "    <path d=\"M0 0h24v24H0V0z\" fill=\"none\"/>\n",
              "    <path d=\"M18.56 5.44l.94 2.06.94-2.06 2.06-.94-2.06-.94-.94-2.06-.94 2.06-2.06.94zm-11 1L8.5 8.5l.94-2.06 2.06-.94-2.06-.94L8.5 2.5l-.94 2.06-2.06.94zm10 10l.94 2.06.94-2.06 2.06-.94-2.06-.94-.94-2.06-.94 2.06-2.06.94z\"/><path d=\"M17.41 7.96l-1.37-1.37c-.4-.4-.92-.59-1.43-.59-.52 0-1.04.2-1.43.59L10.3 9.45l-7.72 7.72c-.78.78-.78 2.05 0 2.83L4 21.41c.39.39.9.59 1.41.59.51 0 1.02-.2 1.41-.59l7.78-7.78 2.81-2.81c.8-.78.8-2.07 0-2.86zM5.41 20L4 18.59l7.72-7.72 1.47 1.35L5.41 20z\"/>\n",
              "  </svg>\n",
              "      </button>\n",
              "      \n",
              "  <style>\n",
              "    .colab-df-container {\n",
              "      display:flex;\n",
              "      flex-wrap:wrap;\n",
              "      gap: 12px;\n",
              "    }\n",
              "\n",
              "    .colab-df-convert {\n",
              "      background-color: #E8F0FE;\n",
              "      border: none;\n",
              "      border-radius: 50%;\n",
              "      cursor: pointer;\n",
              "      display: none;\n",
              "      fill: #1967D2;\n",
              "      height: 32px;\n",
              "      padding: 0 0 0 0;\n",
              "      width: 32px;\n",
              "    }\n",
              "\n",
              "    .colab-df-convert:hover {\n",
              "      background-color: #E2EBFA;\n",
              "      box-shadow: 0px 1px 2px rgba(60, 64, 67, 0.3), 0px 1px 3px 1px rgba(60, 64, 67, 0.15);\n",
              "      fill: #174EA6;\n",
              "    }\n",
              "\n",
              "    [theme=dark] .colab-df-convert {\n",
              "      background-color: #3B4455;\n",
              "      fill: #D2E3FC;\n",
              "    }\n",
              "\n",
              "    [theme=dark] .colab-df-convert:hover {\n",
              "      background-color: #434B5C;\n",
              "      box-shadow: 0px 1px 3px 1px rgba(0, 0, 0, 0.15);\n",
              "      filter: drop-shadow(0px 1px 2px rgba(0, 0, 0, 0.3));\n",
              "      fill: #FFFFFF;\n",
              "    }\n",
              "  </style>\n",
              "\n",
              "      <script>\n",
              "        const buttonEl =\n",
              "          document.querySelector('#df-a1a96ca2-f21f-40f8-93af-2d8d63ccb0ba button.colab-df-convert');\n",
              "        buttonEl.style.display =\n",
              "          google.colab.kernel.accessAllowed ? 'block' : 'none';\n",
              "\n",
              "        async function convertToInteractive(key) {\n",
              "          const element = document.querySelector('#df-a1a96ca2-f21f-40f8-93af-2d8d63ccb0ba');\n",
              "          const dataTable =\n",
              "            await google.colab.kernel.invokeFunction('convertToInteractive',\n",
              "                                                     [key], {});\n",
              "          if (!dataTable) return;\n",
              "\n",
              "          const docLinkHtml = 'Like what you see? Visit the ' +\n",
              "            '<a target=\"_blank\" href=https://colab.research.google.com/notebooks/data_table.ipynb>data table notebook</a>'\n",
              "            + ' to learn more about interactive tables.';\n",
              "          element.innerHTML = '';\n",
              "          dataTable['output_type'] = 'display_data';\n",
              "          await google.colab.output.renderOutput(dataTable, element);\n",
              "          const docLink = document.createElement('div');\n",
              "          docLink.innerHTML = docLinkHtml;\n",
              "          element.appendChild(docLink);\n",
              "        }\n",
              "      </script>\n",
              "    </div>\n",
              "  </div>\n",
              "  "
            ]
          },
          "metadata": {},
          "execution_count": 31
        }
      ]
    },
    {
      "cell_type": "code",
      "source": [
        "data['rand1'] = np.NaN\n",
        "data['rand2'] = np.NaN"
      ],
      "metadata": {
        "id": "3dEZvRYMUo7N"
      },
      "execution_count": null,
      "outputs": []
    },
    {
      "cell_type": "code",
      "source": [
        "data.head()"
      ],
      "metadata": {
        "colab": {
          "base_uri": "https://localhost:8080/",
          "height": 206
        },
        "id": "jyqlAOc7UvwC",
        "outputId": "c512d953-c79b-4a4d-dee5-c0b5b79c16ee"
      },
      "execution_count": null,
      "outputs": [
        {
          "output_type": "execute_result",
          "data": {
            "text/plain": [
              "  Data_type                                          file_path Label  \\\n",
              "0     TRAIN  /content/drive/MyDrive/Naveen Images/Train/Dog...   Dog   \n",
              "1     TRAIN  /content/drive/MyDrive/Naveen Images/Train/Dog...   Dog   \n",
              "2     TRAIN  /content/drive/MyDrive/Naveen Images/Train/Dog...   Dog   \n",
              "3     TRAIN  /content/drive/MyDrive/Naveen Images/Train/Dog...   Dog   \n",
              "4     TRAIN  /content/drive/MyDrive/Naveen Images/Train/Dog...   Dog   \n",
              "\n",
              "         x1        y1        x2        y2  rand1  rand2  \n",
              "0  0.031250  0.062222  0.964286  0.968889    NaN    NaN  \n",
              "1  0.184466  0.079755  0.728155  0.987730    NaN    NaN  \n",
              "2  0.287625  0.011905  0.675585  1.000000    NaN    NaN  \n",
              "3  0.160000  0.021858  0.810909  0.983607    NaN    NaN  \n",
              "4  0.032000  0.045822  0.880000  0.991914    NaN    NaN  "
            ],
            "text/html": [
              "\n",
              "  <div id=\"df-117d1d07-6631-44ea-86fa-6ced65daf274\">\n",
              "    <div class=\"colab-df-container\">\n",
              "      <div>\n",
              "<style scoped>\n",
              "    .dataframe tbody tr th:only-of-type {\n",
              "        vertical-align: middle;\n",
              "    }\n",
              "\n",
              "    .dataframe tbody tr th {\n",
              "        vertical-align: top;\n",
              "    }\n",
              "\n",
              "    .dataframe thead th {\n",
              "        text-align: right;\n",
              "    }\n",
              "</style>\n",
              "<table border=\"1\" class=\"dataframe\">\n",
              "  <thead>\n",
              "    <tr style=\"text-align: right;\">\n",
              "      <th></th>\n",
              "      <th>Data_type</th>\n",
              "      <th>file_path</th>\n",
              "      <th>Label</th>\n",
              "      <th>x1</th>\n",
              "      <th>y1</th>\n",
              "      <th>x2</th>\n",
              "      <th>y2</th>\n",
              "      <th>rand1</th>\n",
              "      <th>rand2</th>\n",
              "    </tr>\n",
              "  </thead>\n",
              "  <tbody>\n",
              "    <tr>\n",
              "      <th>0</th>\n",
              "      <td>TRAIN</td>\n",
              "      <td>/content/drive/MyDrive/Naveen Images/Train/Dog...</td>\n",
              "      <td>Dog</td>\n",
              "      <td>0.031250</td>\n",
              "      <td>0.062222</td>\n",
              "      <td>0.964286</td>\n",
              "      <td>0.968889</td>\n",
              "      <td>NaN</td>\n",
              "      <td>NaN</td>\n",
              "    </tr>\n",
              "    <tr>\n",
              "      <th>1</th>\n",
              "      <td>TRAIN</td>\n",
              "      <td>/content/drive/MyDrive/Naveen Images/Train/Dog...</td>\n",
              "      <td>Dog</td>\n",
              "      <td>0.184466</td>\n",
              "      <td>0.079755</td>\n",
              "      <td>0.728155</td>\n",
              "      <td>0.987730</td>\n",
              "      <td>NaN</td>\n",
              "      <td>NaN</td>\n",
              "    </tr>\n",
              "    <tr>\n",
              "      <th>2</th>\n",
              "      <td>TRAIN</td>\n",
              "      <td>/content/drive/MyDrive/Naveen Images/Train/Dog...</td>\n",
              "      <td>Dog</td>\n",
              "      <td>0.287625</td>\n",
              "      <td>0.011905</td>\n",
              "      <td>0.675585</td>\n",
              "      <td>1.000000</td>\n",
              "      <td>NaN</td>\n",
              "      <td>NaN</td>\n",
              "    </tr>\n",
              "    <tr>\n",
              "      <th>3</th>\n",
              "      <td>TRAIN</td>\n",
              "      <td>/content/drive/MyDrive/Naveen Images/Train/Dog...</td>\n",
              "      <td>Dog</td>\n",
              "      <td>0.160000</td>\n",
              "      <td>0.021858</td>\n",
              "      <td>0.810909</td>\n",
              "      <td>0.983607</td>\n",
              "      <td>NaN</td>\n",
              "      <td>NaN</td>\n",
              "    </tr>\n",
              "    <tr>\n",
              "      <th>4</th>\n",
              "      <td>TRAIN</td>\n",
              "      <td>/content/drive/MyDrive/Naveen Images/Train/Dog...</td>\n",
              "      <td>Dog</td>\n",
              "      <td>0.032000</td>\n",
              "      <td>0.045822</td>\n",
              "      <td>0.880000</td>\n",
              "      <td>0.991914</td>\n",
              "      <td>NaN</td>\n",
              "      <td>NaN</td>\n",
              "    </tr>\n",
              "  </tbody>\n",
              "</table>\n",
              "</div>\n",
              "      <button class=\"colab-df-convert\" onclick=\"convertToInteractive('df-117d1d07-6631-44ea-86fa-6ced65daf274')\"\n",
              "              title=\"Convert this dataframe to an interactive table.\"\n",
              "              style=\"display:none;\">\n",
              "        \n",
              "  <svg xmlns=\"http://www.w3.org/2000/svg\" height=\"24px\"viewBox=\"0 0 24 24\"\n",
              "       width=\"24px\">\n",
              "    <path d=\"M0 0h24v24H0V0z\" fill=\"none\"/>\n",
              "    <path d=\"M18.56 5.44l.94 2.06.94-2.06 2.06-.94-2.06-.94-.94-2.06-.94 2.06-2.06.94zm-11 1L8.5 8.5l.94-2.06 2.06-.94-2.06-.94L8.5 2.5l-.94 2.06-2.06.94zm10 10l.94 2.06.94-2.06 2.06-.94-2.06-.94-.94-2.06-.94 2.06-2.06.94z\"/><path d=\"M17.41 7.96l-1.37-1.37c-.4-.4-.92-.59-1.43-.59-.52 0-1.04.2-1.43.59L10.3 9.45l-7.72 7.72c-.78.78-.78 2.05 0 2.83L4 21.41c.39.39.9.59 1.41.59.51 0 1.02-.2 1.41-.59l7.78-7.78 2.81-2.81c.8-.78.8-2.07 0-2.86zM5.41 20L4 18.59l7.72-7.72 1.47 1.35L5.41 20z\"/>\n",
              "  </svg>\n",
              "      </button>\n",
              "      \n",
              "  <style>\n",
              "    .colab-df-container {\n",
              "      display:flex;\n",
              "      flex-wrap:wrap;\n",
              "      gap: 12px;\n",
              "    }\n",
              "\n",
              "    .colab-df-convert {\n",
              "      background-color: #E8F0FE;\n",
              "      border: none;\n",
              "      border-radius: 50%;\n",
              "      cursor: pointer;\n",
              "      display: none;\n",
              "      fill: #1967D2;\n",
              "      height: 32px;\n",
              "      padding: 0 0 0 0;\n",
              "      width: 32px;\n",
              "    }\n",
              "\n",
              "    .colab-df-convert:hover {\n",
              "      background-color: #E2EBFA;\n",
              "      box-shadow: 0px 1px 2px rgba(60, 64, 67, 0.3), 0px 1px 3px 1px rgba(60, 64, 67, 0.15);\n",
              "      fill: #174EA6;\n",
              "    }\n",
              "\n",
              "    [theme=dark] .colab-df-convert {\n",
              "      background-color: #3B4455;\n",
              "      fill: #D2E3FC;\n",
              "    }\n",
              "\n",
              "    [theme=dark] .colab-df-convert:hover {\n",
              "      background-color: #434B5C;\n",
              "      box-shadow: 0px 1px 3px 1px rgba(0, 0, 0, 0.15);\n",
              "      filter: drop-shadow(0px 1px 2px rgba(0, 0, 0, 0.3));\n",
              "      fill: #FFFFFF;\n",
              "    }\n",
              "  </style>\n",
              "\n",
              "      <script>\n",
              "        const buttonEl =\n",
              "          document.querySelector('#df-117d1d07-6631-44ea-86fa-6ced65daf274 button.colab-df-convert');\n",
              "        buttonEl.style.display =\n",
              "          google.colab.kernel.accessAllowed ? 'block' : 'none';\n",
              "\n",
              "        async function convertToInteractive(key) {\n",
              "          const element = document.querySelector('#df-117d1d07-6631-44ea-86fa-6ced65daf274');\n",
              "          const dataTable =\n",
              "            await google.colab.kernel.invokeFunction('convertToInteractive',\n",
              "                                                     [key], {});\n",
              "          if (!dataTable) return;\n",
              "\n",
              "          const docLinkHtml = 'Like what you see? Visit the ' +\n",
              "            '<a target=\"_blank\" href=https://colab.research.google.com/notebooks/data_table.ipynb>data table notebook</a>'\n",
              "            + ' to learn more about interactive tables.';\n",
              "          element.innerHTML = '';\n",
              "          dataTable['output_type'] = 'display_data';\n",
              "          await google.colab.output.renderOutput(dataTable, element);\n",
              "          const docLink = document.createElement('div');\n",
              "          docLink.innerHTML = docLinkHtml;\n",
              "          element.appendChild(docLink);\n",
              "        }\n",
              "      </script>\n",
              "    </div>\n",
              "  </div>\n",
              "  "
            ]
          },
          "metadata": {},
          "execution_count": 33
        }
      ]
    },
    {
      "cell_type": "code",
      "source": [
        "data = data[['Data_type', 'file_path', 'Label', 'x1', 'y1', 'rand1', 'rand2', 'x2', 'y2']]"
      ],
      "metadata": {
        "id": "s4JDLhrtUzIw"
      },
      "execution_count": null,
      "outputs": []
    },
    {
      "cell_type": "code",
      "source": [
        "data.head()"
      ],
      "metadata": {
        "colab": {
          "base_uri": "https://localhost:8080/",
          "height": 206
        },
        "id": "ypX2tL6DVClL",
        "outputId": "c989872f-76c3-47ed-fb7d-63e1cac077ca"
      },
      "execution_count": null,
      "outputs": [
        {
          "output_type": "execute_result",
          "data": {
            "text/plain": [
              "  Data_type                                          file_path Label  \\\n",
              "0     TRAIN  /content/drive/MyDrive/Naveen Images/Train/Dog...   Dog   \n",
              "1     TRAIN  /content/drive/MyDrive/Naveen Images/Train/Dog...   Dog   \n",
              "2     TRAIN  /content/drive/MyDrive/Naveen Images/Train/Dog...   Dog   \n",
              "3     TRAIN  /content/drive/MyDrive/Naveen Images/Train/Dog...   Dog   \n",
              "4     TRAIN  /content/drive/MyDrive/Naveen Images/Train/Dog...   Dog   \n",
              "\n",
              "         x1        y1  rand1  rand2        x2        y2  \n",
              "0  0.031250  0.062222    NaN    NaN  0.964286  0.968889  \n",
              "1  0.184466  0.079755    NaN    NaN  0.728155  0.987730  \n",
              "2  0.287625  0.011905    NaN    NaN  0.675585  1.000000  \n",
              "3  0.160000  0.021858    NaN    NaN  0.810909  0.983607  \n",
              "4  0.032000  0.045822    NaN    NaN  0.880000  0.991914  "
            ],
            "text/html": [
              "\n",
              "  <div id=\"df-17ef67e9-3746-452c-bf4e-c62e0836af56\">\n",
              "    <div class=\"colab-df-container\">\n",
              "      <div>\n",
              "<style scoped>\n",
              "    .dataframe tbody tr th:only-of-type {\n",
              "        vertical-align: middle;\n",
              "    }\n",
              "\n",
              "    .dataframe tbody tr th {\n",
              "        vertical-align: top;\n",
              "    }\n",
              "\n",
              "    .dataframe thead th {\n",
              "        text-align: right;\n",
              "    }\n",
              "</style>\n",
              "<table border=\"1\" class=\"dataframe\">\n",
              "  <thead>\n",
              "    <tr style=\"text-align: right;\">\n",
              "      <th></th>\n",
              "      <th>Data_type</th>\n",
              "      <th>file_path</th>\n",
              "      <th>Label</th>\n",
              "      <th>x1</th>\n",
              "      <th>y1</th>\n",
              "      <th>rand1</th>\n",
              "      <th>rand2</th>\n",
              "      <th>x2</th>\n",
              "      <th>y2</th>\n",
              "    </tr>\n",
              "  </thead>\n",
              "  <tbody>\n",
              "    <tr>\n",
              "      <th>0</th>\n",
              "      <td>TRAIN</td>\n",
              "      <td>/content/drive/MyDrive/Naveen Images/Train/Dog...</td>\n",
              "      <td>Dog</td>\n",
              "      <td>0.031250</td>\n",
              "      <td>0.062222</td>\n",
              "      <td>NaN</td>\n",
              "      <td>NaN</td>\n",
              "      <td>0.964286</td>\n",
              "      <td>0.968889</td>\n",
              "    </tr>\n",
              "    <tr>\n",
              "      <th>1</th>\n",
              "      <td>TRAIN</td>\n",
              "      <td>/content/drive/MyDrive/Naveen Images/Train/Dog...</td>\n",
              "      <td>Dog</td>\n",
              "      <td>0.184466</td>\n",
              "      <td>0.079755</td>\n",
              "      <td>NaN</td>\n",
              "      <td>NaN</td>\n",
              "      <td>0.728155</td>\n",
              "      <td>0.987730</td>\n",
              "    </tr>\n",
              "    <tr>\n",
              "      <th>2</th>\n",
              "      <td>TRAIN</td>\n",
              "      <td>/content/drive/MyDrive/Naveen Images/Train/Dog...</td>\n",
              "      <td>Dog</td>\n",
              "      <td>0.287625</td>\n",
              "      <td>0.011905</td>\n",
              "      <td>NaN</td>\n",
              "      <td>NaN</td>\n",
              "      <td>0.675585</td>\n",
              "      <td>1.000000</td>\n",
              "    </tr>\n",
              "    <tr>\n",
              "      <th>3</th>\n",
              "      <td>TRAIN</td>\n",
              "      <td>/content/drive/MyDrive/Naveen Images/Train/Dog...</td>\n",
              "      <td>Dog</td>\n",
              "      <td>0.160000</td>\n",
              "      <td>0.021858</td>\n",
              "      <td>NaN</td>\n",
              "      <td>NaN</td>\n",
              "      <td>0.810909</td>\n",
              "      <td>0.983607</td>\n",
              "    </tr>\n",
              "    <tr>\n",
              "      <th>4</th>\n",
              "      <td>TRAIN</td>\n",
              "      <td>/content/drive/MyDrive/Naveen Images/Train/Dog...</td>\n",
              "      <td>Dog</td>\n",
              "      <td>0.032000</td>\n",
              "      <td>0.045822</td>\n",
              "      <td>NaN</td>\n",
              "      <td>NaN</td>\n",
              "      <td>0.880000</td>\n",
              "      <td>0.991914</td>\n",
              "    </tr>\n",
              "  </tbody>\n",
              "</table>\n",
              "</div>\n",
              "      <button class=\"colab-df-convert\" onclick=\"convertToInteractive('df-17ef67e9-3746-452c-bf4e-c62e0836af56')\"\n",
              "              title=\"Convert this dataframe to an interactive table.\"\n",
              "              style=\"display:none;\">\n",
              "        \n",
              "  <svg xmlns=\"http://www.w3.org/2000/svg\" height=\"24px\"viewBox=\"0 0 24 24\"\n",
              "       width=\"24px\">\n",
              "    <path d=\"M0 0h24v24H0V0z\" fill=\"none\"/>\n",
              "    <path d=\"M18.56 5.44l.94 2.06.94-2.06 2.06-.94-2.06-.94-.94-2.06-.94 2.06-2.06.94zm-11 1L8.5 8.5l.94-2.06 2.06-.94-2.06-.94L8.5 2.5l-.94 2.06-2.06.94zm10 10l.94 2.06.94-2.06 2.06-.94-2.06-.94-.94-2.06-.94 2.06-2.06.94z\"/><path d=\"M17.41 7.96l-1.37-1.37c-.4-.4-.92-.59-1.43-.59-.52 0-1.04.2-1.43.59L10.3 9.45l-7.72 7.72c-.78.78-.78 2.05 0 2.83L4 21.41c.39.39.9.59 1.41.59.51 0 1.02-.2 1.41-.59l7.78-7.78 2.81-2.81c.8-.78.8-2.07 0-2.86zM5.41 20L4 18.59l7.72-7.72 1.47 1.35L5.41 20z\"/>\n",
              "  </svg>\n",
              "      </button>\n",
              "      \n",
              "  <style>\n",
              "    .colab-df-container {\n",
              "      display:flex;\n",
              "      flex-wrap:wrap;\n",
              "      gap: 12px;\n",
              "    }\n",
              "\n",
              "    .colab-df-convert {\n",
              "      background-color: #E8F0FE;\n",
              "      border: none;\n",
              "      border-radius: 50%;\n",
              "      cursor: pointer;\n",
              "      display: none;\n",
              "      fill: #1967D2;\n",
              "      height: 32px;\n",
              "      padding: 0 0 0 0;\n",
              "      width: 32px;\n",
              "    }\n",
              "\n",
              "    .colab-df-convert:hover {\n",
              "      background-color: #E2EBFA;\n",
              "      box-shadow: 0px 1px 2px rgba(60, 64, 67, 0.3), 0px 1px 3px 1px rgba(60, 64, 67, 0.15);\n",
              "      fill: #174EA6;\n",
              "    }\n",
              "\n",
              "    [theme=dark] .colab-df-convert {\n",
              "      background-color: #3B4455;\n",
              "      fill: #D2E3FC;\n",
              "    }\n",
              "\n",
              "    [theme=dark] .colab-df-convert:hover {\n",
              "      background-color: #434B5C;\n",
              "      box-shadow: 0px 1px 3px 1px rgba(0, 0, 0, 0.15);\n",
              "      filter: drop-shadow(0px 1px 2px rgba(0, 0, 0, 0.3));\n",
              "      fill: #FFFFFF;\n",
              "    }\n",
              "  </style>\n",
              "\n",
              "      <script>\n",
              "        const buttonEl =\n",
              "          document.querySelector('#df-17ef67e9-3746-452c-bf4e-c62e0836af56 button.colab-df-convert');\n",
              "        buttonEl.style.display =\n",
              "          google.colab.kernel.accessAllowed ? 'block' : 'none';\n",
              "\n",
              "        async function convertToInteractive(key) {\n",
              "          const element = document.querySelector('#df-17ef67e9-3746-452c-bf4e-c62e0836af56');\n",
              "          const dataTable =\n",
              "            await google.colab.kernel.invokeFunction('convertToInteractive',\n",
              "                                                     [key], {});\n",
              "          if (!dataTable) return;\n",
              "\n",
              "          const docLinkHtml = 'Like what you see? Visit the ' +\n",
              "            '<a target=\"_blank\" href=https://colab.research.google.com/notebooks/data_table.ipynb>data table notebook</a>'\n",
              "            + ' to learn more about interactive tables.';\n",
              "          element.innerHTML = '';\n",
              "          dataTable['output_type'] = 'display_data';\n",
              "          await google.colab.output.renderOutput(dataTable, element);\n",
              "          const docLink = document.createElement('div');\n",
              "          docLink.innerHTML = docLinkHtml;\n",
              "          element.appendChild(docLink);\n",
              "        }\n",
              "      </script>\n",
              "    </div>\n",
              "  </div>\n",
              "  "
            ]
          },
          "metadata": {},
          "execution_count": 35
        }
      ]
    },
    {
      "cell_type": "code",
      "source": [
        "data.to_csv('/content/drive/MyDrive/Naveen Images/Annotations/data.csv', header=False, index=False)"
      ],
      "metadata": {
        "id": "BwgmrGgMOeoQ"
      },
      "execution_count": null,
      "outputs": []
    },
    {
      "cell_type": "code",
      "source": [
        "!pip install -q --use-deprecated=legacy-resolver tflite-model-maker\n",
        "!pip install -q pycocotools"
      ],
      "metadata": {
        "colab": {
          "base_uri": "https://localhost:8080/"
        },
        "id": "ndVUrmy0Nd1M",
        "outputId": "c7455509-b731-4b9d-f365-5d057c9b8901"
      },
      "execution_count": null,
      "outputs": [
        {
          "output_type": "stream",
          "name": "stdout",
          "text": [
            "\u001b[K     |████████████████████████████████| 616 kB 5.3 MB/s \n",
            "\u001b[K     |████████████████████████████████| 596 kB 45.7 MB/s \n",
            "\u001b[K     |████████████████████████████████| 840 kB 42.2 MB/s \n",
            "\u001b[K     |████████████████████████████████| 3.4 MB 35.6 MB/s \n",
            "\u001b[K     |████████████████████████████████| 6.4 MB 39.9 MB/s \n",
            "\u001b[K     |████████████████████████████████| 1.2 MB 42.2 MB/s \n",
            "\u001b[K     |████████████████████████████████| 1.1 MB 50.1 MB/s \n",
            "\u001b[K     |████████████████████████████████| 87 kB 6.8 MB/s \n",
            "\u001b[K     |████████████████████████████████| 77 kB 6.3 MB/s \n",
            "\u001b[K     |████████████████████████████████| 1.1 MB 36.1 MB/s \n",
            "\u001b[K     |████████████████████████████████| 237 kB 53.8 MB/s \n",
            "\u001b[K     |████████████████████████████████| 120 kB 53.1 MB/s \n",
            "\u001b[K     |████████████████████████████████| 99 kB 9.3 MB/s \n",
            "\u001b[K     |████████████████████████████████| 47.8 MB 1.6 MB/s \n",
            "\u001b[K     |████████████████████████████████| 352 kB 51.2 MB/s \n",
            "\u001b[K     |████████████████████████████████| 462 kB 43.1 MB/s \n",
            "\u001b[K     |████████████████████████████████| 25.3 MB 1.6 MB/s \n",
            "\u001b[K     |████████████████████████████████| 213 kB 53.2 MB/s \n",
            "\u001b[?25h  Building wheel for fire (setup.py) ... \u001b[?25l\u001b[?25hdone\n",
            "  Building wheel for py-cpuinfo (setup.py) ... \u001b[?25l\u001b[?25hdone\n"
          ]
        }
      ]
    },
    {
      "cell_type": "code",
      "source": [
        "import numpy as np\n",
        "import os\n",
        "\n",
        "from tflite_model_maker.config import QuantizationConfig\n",
        "from tflite_model_maker.config import ExportFormat\n",
        "from tflite_model_maker import model_spec\n",
        "from tflite_model_maker import object_detector\n",
        "\n",
        "import tensorflow as tf\n",
        "assert tf.__version__.startswith('2')\n",
        "\n",
        "tf.get_logger().setLevel('ERROR')\n",
        "from absl import logging\n",
        "logging.set_verbosity(logging.ERROR)"
      ],
      "metadata": {
        "id": "6NPABJ7PNjV0"
      },
      "execution_count": null,
      "outputs": []
    },
    {
      "cell_type": "code",
      "source": [
        "spec = model_spec.get('efficientdet_lite0')"
      ],
      "metadata": {
        "id": "BaXA23sCN0ce"
      },
      "execution_count": null,
      "outputs": []
    },
    {
      "cell_type": "code",
      "source": [
        "data = pd.read_csv('/content/drive/MyDrive/Naveen Images/Annotations/data.csv')\n",
        "data.head()"
      ],
      "metadata": {
        "colab": {
          "base_uri": "https://localhost:8080/",
          "height": 374
        },
        "id": "gXWaMcv_PeMH",
        "outputId": "ad7fb09b-ce0c-48ca-a9b6-a922ea5ae78d"
      },
      "execution_count": null,
      "outputs": [
        {
          "output_type": "execute_result",
          "data": {
            "text/plain": [
              "   TRAIN /content/drive/MyDrive/Naveen Images/Train/Dogs/image_28.jpeg  Dog  \\\n",
              "0  TRAIN  /content/drive/MyDrive/Naveen Images/Train/Dog...             Dog   \n",
              "1  TRAIN  /content/drive/MyDrive/Naveen Images/Train/Dog...             Dog   \n",
              "2  TRAIN  /content/drive/MyDrive/Naveen Images/Train/Dog...             Dog   \n",
              "3  TRAIN  /content/drive/MyDrive/Naveen Images/Train/Dog...             Dog   \n",
              "4  TRAIN  /content/drive/MyDrive/Naveen Images/Train/Dog...             Dog   \n",
              "\n",
              "    0.03125  0.06222222222222222  Unnamed: 5  Unnamed: 6  0.9642857142857143  \\\n",
              "0  0.184466             0.079755         NaN         NaN            0.728155   \n",
              "1  0.287625             0.011905         NaN         NaN            0.675585   \n",
              "2  0.160000             0.021858         NaN         NaN            0.810909   \n",
              "3  0.032000             0.045822         NaN         NaN            0.880000   \n",
              "4  0.145833             0.125000         NaN         NaN            0.504167   \n",
              "\n",
              "   0.9688888888888889  \n",
              "0            0.987730  \n",
              "1            1.000000  \n",
              "2            0.983607  \n",
              "3            0.991914  \n",
              "4            0.516667  "
            ],
            "text/html": [
              "\n",
              "  <div id=\"df-6603f1bb-2de9-4a0c-9b84-5eb3c1e14b0c\">\n",
              "    <div class=\"colab-df-container\">\n",
              "      <div>\n",
              "<style scoped>\n",
              "    .dataframe tbody tr th:only-of-type {\n",
              "        vertical-align: middle;\n",
              "    }\n",
              "\n",
              "    .dataframe tbody tr th {\n",
              "        vertical-align: top;\n",
              "    }\n",
              "\n",
              "    .dataframe thead th {\n",
              "        text-align: right;\n",
              "    }\n",
              "</style>\n",
              "<table border=\"1\" class=\"dataframe\">\n",
              "  <thead>\n",
              "    <tr style=\"text-align: right;\">\n",
              "      <th></th>\n",
              "      <th>TRAIN</th>\n",
              "      <th>/content/drive/MyDrive/Naveen Images/Train/Dogs/image_28.jpeg</th>\n",
              "      <th>Dog</th>\n",
              "      <th>0.03125</th>\n",
              "      <th>0.06222222222222222</th>\n",
              "      <th>Unnamed: 5</th>\n",
              "      <th>Unnamed: 6</th>\n",
              "      <th>0.9642857142857143</th>\n",
              "      <th>0.9688888888888889</th>\n",
              "    </tr>\n",
              "  </thead>\n",
              "  <tbody>\n",
              "    <tr>\n",
              "      <th>0</th>\n",
              "      <td>TRAIN</td>\n",
              "      <td>/content/drive/MyDrive/Naveen Images/Train/Dog...</td>\n",
              "      <td>Dog</td>\n",
              "      <td>0.184466</td>\n",
              "      <td>0.079755</td>\n",
              "      <td>NaN</td>\n",
              "      <td>NaN</td>\n",
              "      <td>0.728155</td>\n",
              "      <td>0.987730</td>\n",
              "    </tr>\n",
              "    <tr>\n",
              "      <th>1</th>\n",
              "      <td>TRAIN</td>\n",
              "      <td>/content/drive/MyDrive/Naveen Images/Train/Dog...</td>\n",
              "      <td>Dog</td>\n",
              "      <td>0.287625</td>\n",
              "      <td>0.011905</td>\n",
              "      <td>NaN</td>\n",
              "      <td>NaN</td>\n",
              "      <td>0.675585</td>\n",
              "      <td>1.000000</td>\n",
              "    </tr>\n",
              "    <tr>\n",
              "      <th>2</th>\n",
              "      <td>TRAIN</td>\n",
              "      <td>/content/drive/MyDrive/Naveen Images/Train/Dog...</td>\n",
              "      <td>Dog</td>\n",
              "      <td>0.160000</td>\n",
              "      <td>0.021858</td>\n",
              "      <td>NaN</td>\n",
              "      <td>NaN</td>\n",
              "      <td>0.810909</td>\n",
              "      <td>0.983607</td>\n",
              "    </tr>\n",
              "    <tr>\n",
              "      <th>3</th>\n",
              "      <td>TRAIN</td>\n",
              "      <td>/content/drive/MyDrive/Naveen Images/Train/Dog...</td>\n",
              "      <td>Dog</td>\n",
              "      <td>0.032000</td>\n",
              "      <td>0.045822</td>\n",
              "      <td>NaN</td>\n",
              "      <td>NaN</td>\n",
              "      <td>0.880000</td>\n",
              "      <td>0.991914</td>\n",
              "    </tr>\n",
              "    <tr>\n",
              "      <th>4</th>\n",
              "      <td>TRAIN</td>\n",
              "      <td>/content/drive/MyDrive/Naveen Images/Train/Dog...</td>\n",
              "      <td>Dog</td>\n",
              "      <td>0.145833</td>\n",
              "      <td>0.125000</td>\n",
              "      <td>NaN</td>\n",
              "      <td>NaN</td>\n",
              "      <td>0.504167</td>\n",
              "      <td>0.516667</td>\n",
              "    </tr>\n",
              "  </tbody>\n",
              "</table>\n",
              "</div>\n",
              "      <button class=\"colab-df-convert\" onclick=\"convertToInteractive('df-6603f1bb-2de9-4a0c-9b84-5eb3c1e14b0c')\"\n",
              "              title=\"Convert this dataframe to an interactive table.\"\n",
              "              style=\"display:none;\">\n",
              "        \n",
              "  <svg xmlns=\"http://www.w3.org/2000/svg\" height=\"24px\"viewBox=\"0 0 24 24\"\n",
              "       width=\"24px\">\n",
              "    <path d=\"M0 0h24v24H0V0z\" fill=\"none\"/>\n",
              "    <path d=\"M18.56 5.44l.94 2.06.94-2.06 2.06-.94-2.06-.94-.94-2.06-.94 2.06-2.06.94zm-11 1L8.5 8.5l.94-2.06 2.06-.94-2.06-.94L8.5 2.5l-.94 2.06-2.06.94zm10 10l.94 2.06.94-2.06 2.06-.94-2.06-.94-.94-2.06-.94 2.06-2.06.94z\"/><path d=\"M17.41 7.96l-1.37-1.37c-.4-.4-.92-.59-1.43-.59-.52 0-1.04.2-1.43.59L10.3 9.45l-7.72 7.72c-.78.78-.78 2.05 0 2.83L4 21.41c.39.39.9.59 1.41.59.51 0 1.02-.2 1.41-.59l7.78-7.78 2.81-2.81c.8-.78.8-2.07 0-2.86zM5.41 20L4 18.59l7.72-7.72 1.47 1.35L5.41 20z\"/>\n",
              "  </svg>\n",
              "      </button>\n",
              "      \n",
              "  <style>\n",
              "    .colab-df-container {\n",
              "      display:flex;\n",
              "      flex-wrap:wrap;\n",
              "      gap: 12px;\n",
              "    }\n",
              "\n",
              "    .colab-df-convert {\n",
              "      background-color: #E8F0FE;\n",
              "      border: none;\n",
              "      border-radius: 50%;\n",
              "      cursor: pointer;\n",
              "      display: none;\n",
              "      fill: #1967D2;\n",
              "      height: 32px;\n",
              "      padding: 0 0 0 0;\n",
              "      width: 32px;\n",
              "    }\n",
              "\n",
              "    .colab-df-convert:hover {\n",
              "      background-color: #E2EBFA;\n",
              "      box-shadow: 0px 1px 2px rgba(60, 64, 67, 0.3), 0px 1px 3px 1px rgba(60, 64, 67, 0.15);\n",
              "      fill: #174EA6;\n",
              "    }\n",
              "\n",
              "    [theme=dark] .colab-df-convert {\n",
              "      background-color: #3B4455;\n",
              "      fill: #D2E3FC;\n",
              "    }\n",
              "\n",
              "    [theme=dark] .colab-df-convert:hover {\n",
              "      background-color: #434B5C;\n",
              "      box-shadow: 0px 1px 3px 1px rgba(0, 0, 0, 0.15);\n",
              "      filter: drop-shadow(0px 1px 2px rgba(0, 0, 0, 0.3));\n",
              "      fill: #FFFFFF;\n",
              "    }\n",
              "  </style>\n",
              "\n",
              "      <script>\n",
              "        const buttonEl =\n",
              "          document.querySelector('#df-6603f1bb-2de9-4a0c-9b84-5eb3c1e14b0c button.colab-df-convert');\n",
              "        buttonEl.style.display =\n",
              "          google.colab.kernel.accessAllowed ? 'block' : 'none';\n",
              "\n",
              "        async function convertToInteractive(key) {\n",
              "          const element = document.querySelector('#df-6603f1bb-2de9-4a0c-9b84-5eb3c1e14b0c');\n",
              "          const dataTable =\n",
              "            await google.colab.kernel.invokeFunction('convertToInteractive',\n",
              "                                                     [key], {});\n",
              "          if (!dataTable) return;\n",
              "\n",
              "          const docLinkHtml = 'Like what you see? Visit the ' +\n",
              "            '<a target=\"_blank\" href=https://colab.research.google.com/notebooks/data_table.ipynb>data table notebook</a>'\n",
              "            + ' to learn more about interactive tables.';\n",
              "          element.innerHTML = '';\n",
              "          dataTable['output_type'] = 'display_data';\n",
              "          await google.colab.output.renderOutput(dataTable, element);\n",
              "          const docLink = document.createElement('div');\n",
              "          docLink.innerHTML = docLinkHtml;\n",
              "          element.appendChild(docLink);\n",
              "        }\n",
              "      </script>\n",
              "    </div>\n",
              "  </div>\n",
              "  "
            ]
          },
          "metadata": {},
          "execution_count": 41
        }
      ]
    },
    {
      "cell_type": "code",
      "source": [
        "train_data, validation_data, test_data = object_detector.DataLoader.from_csv('/content/drive/MyDrive/Naveen Images/Annotations/data.csv')"
      ],
      "metadata": {
        "id": "TdZz4h4zN76o"
      },
      "execution_count": null,
      "outputs": []
    },
    {
      "cell_type": "code",
      "source": [
        "model = object_detector.create(train_data, model_spec=spec, batch_size=8, train_whole_model=True, validation_data=test_data)"
      ],
      "metadata": {
        "colab": {
          "base_uri": "https://localhost:8080/"
        },
        "id": "cWXAyPcUPPW2",
        "outputId": "165f96c5-eaee-40f7-d389-65b4a633177e"
      },
      "execution_count": null,
      "outputs": [
        {
          "output_type": "stream",
          "name": "stdout",
          "text": [
            "Epoch 1/50\n",
            "11/11 [==============================] - 61s 1s/step - det_loss: 1.7809 - cls_loss: 1.1422 - box_loss: 0.0128 - reg_l2_loss: 0.0634 - loss: 1.8443 - learning_rate: 0.0090 - gradient_norm: 1.2006 - val_det_loss: 1.7062 - val_cls_loss: 1.1225 - val_box_loss: 0.0117 - val_reg_l2_loss: 0.0634 - val_loss: 1.7696\n",
            "Epoch 2/50\n",
            "11/11 [==============================] - 9s 807ms/step - det_loss: 1.6735 - cls_loss: 1.1149 - box_loss: 0.0112 - reg_l2_loss: 0.0634 - loss: 1.7368 - learning_rate: 0.0100 - gradient_norm: 1.2978 - val_det_loss: 1.5651 - val_cls_loss: 1.0518 - val_box_loss: 0.0103 - val_reg_l2_loss: 0.0634 - val_loss: 1.6284\n",
            "Epoch 3/50\n",
            "11/11 [==============================] - 9s 809ms/step - det_loss: 1.5120 - cls_loss: 1.0216 - box_loss: 0.0098 - reg_l2_loss: 0.0634 - loss: 1.5753 - learning_rate: 0.0099 - gradient_norm: 1.8238 - val_det_loss: 1.3486 - val_cls_loss: 0.8949 - val_box_loss: 0.0091 - val_reg_l2_loss: 0.0634 - val_loss: 1.4120\n",
            "Epoch 4/50\n",
            "11/11 [==============================] - 9s 859ms/step - det_loss: 1.2897 - cls_loss: 0.8693 - box_loss: 0.0084 - reg_l2_loss: 0.0634 - loss: 1.3531 - learning_rate: 0.0099 - gradient_norm: 3.0446 - val_det_loss: 1.1967 - val_cls_loss: 0.7738 - val_box_loss: 0.0085 - val_reg_l2_loss: 0.0634 - val_loss: 1.2601\n",
            "Epoch 5/50\n",
            "11/11 [==============================] - 16s 2s/step - det_loss: 1.1670 - cls_loss: 0.7695 - box_loss: 0.0079 - reg_l2_loss: 0.0634 - loss: 1.2304 - learning_rate: 0.0098 - gradient_norm: 2.6398 - val_det_loss: 1.1431 - val_cls_loss: 0.7361 - val_box_loss: 0.0081 - val_reg_l2_loss: 0.0634 - val_loss: 1.2065\n",
            "Epoch 6/50\n",
            "11/11 [==============================] - 9s 808ms/step - det_loss: 0.9744 - cls_loss: 0.6372 - box_loss: 0.0067 - reg_l2_loss: 0.0634 - loss: 1.0378 - learning_rate: 0.0097 - gradient_norm: 2.5071 - val_det_loss: 1.0887 - val_cls_loss: 0.6791 - val_box_loss: 0.0082 - val_reg_l2_loss: 0.0634 - val_loss: 1.1521\n",
            "Epoch 7/50\n",
            "11/11 [==============================] - 9s 862ms/step - det_loss: 0.8748 - cls_loss: 0.5709 - box_loss: 0.0061 - reg_l2_loss: 0.0634 - loss: 0.9383 - learning_rate: 0.0096 - gradient_norm: 2.5361 - val_det_loss: 1.0084 - val_cls_loss: 0.6500 - val_box_loss: 0.0072 - val_reg_l2_loss: 0.0634 - val_loss: 1.0718\n",
            "Epoch 8/50\n",
            "11/11 [==============================] - 9s 823ms/step - det_loss: 0.8454 - cls_loss: 0.5498 - box_loss: 0.0059 - reg_l2_loss: 0.0634 - loss: 0.9088 - learning_rate: 0.0094 - gradient_norm: 2.9323 - val_det_loss: 1.1193 - val_cls_loss: 0.7132 - val_box_loss: 0.0081 - val_reg_l2_loss: 0.0635 - val_loss: 1.1827\n",
            "Epoch 9/50\n",
            "11/11 [==============================] - 9s 808ms/step - det_loss: 0.7683 - cls_loss: 0.5040 - box_loss: 0.0053 - reg_l2_loss: 0.0635 - loss: 0.8317 - learning_rate: 0.0093 - gradient_norm: 3.1465 - val_det_loss: 1.1294 - val_cls_loss: 0.7400 - val_box_loss: 0.0078 - val_reg_l2_loss: 0.0635 - val_loss: 1.1929\n",
            "Epoch 10/50\n",
            "11/11 [==============================] - 10s 978ms/step - det_loss: 0.7644 - cls_loss: 0.5043 - box_loss: 0.0052 - reg_l2_loss: 0.0635 - loss: 0.8279 - learning_rate: 0.0091 - gradient_norm: 3.4687 - val_det_loss: 1.0622 - val_cls_loss: 0.7026 - val_box_loss: 0.0072 - val_reg_l2_loss: 0.0635 - val_loss: 1.1257\n",
            "Epoch 11/50\n",
            "11/11 [==============================] - 9s 843ms/step - det_loss: 0.7284 - cls_loss: 0.4952 - box_loss: 0.0047 - reg_l2_loss: 0.0635 - loss: 0.7919 - learning_rate: 0.0089 - gradient_norm: 3.4660 - val_det_loss: 0.8746 - val_cls_loss: 0.5718 - val_box_loss: 0.0061 - val_reg_l2_loss: 0.0635 - val_loss: 0.9381\n",
            "Epoch 12/50\n",
            "11/11 [==============================] - 9s 819ms/step - det_loss: 0.6602 - cls_loss: 0.4190 - box_loss: 0.0048 - reg_l2_loss: 0.0635 - loss: 0.7237 - learning_rate: 0.0087 - gradient_norm: 3.6915 - val_det_loss: 0.8387 - val_cls_loss: 0.5470 - val_box_loss: 0.0058 - val_reg_l2_loss: 0.0635 - val_loss: 0.9022\n",
            "Epoch 13/50\n",
            "11/11 [==============================] - 9s 819ms/step - det_loss: 0.6414 - cls_loss: 0.4062 - box_loss: 0.0047 - reg_l2_loss: 0.0635 - loss: 0.7050 - learning_rate: 0.0085 - gradient_norm: 4.5488 - val_det_loss: 0.9035 - val_cls_loss: 0.5918 - val_box_loss: 0.0062 - val_reg_l2_loss: 0.0636 - val_loss: 0.9671\n",
            "Epoch 14/50\n",
            "11/11 [==============================] - 9s 818ms/step - det_loss: 0.5952 - cls_loss: 0.3791 - box_loss: 0.0043 - reg_l2_loss: 0.0636 - loss: 0.6588 - learning_rate: 0.0082 - gradient_norm: 3.2754 - val_det_loss: 0.8408 - val_cls_loss: 0.5375 - val_box_loss: 0.0061 - val_reg_l2_loss: 0.0636 - val_loss: 0.9044\n",
            "Epoch 15/50\n",
            "11/11 [==============================] - 10s 981ms/step - det_loss: 0.6008 - cls_loss: 0.3857 - box_loss: 0.0043 - reg_l2_loss: 0.0636 - loss: 0.6644 - learning_rate: 0.0080 - gradient_norm: 4.2625 - val_det_loss: 0.7747 - val_cls_loss: 0.4857 - val_box_loss: 0.0058 - val_reg_l2_loss: 0.0636 - val_loss: 0.8383\n",
            "Epoch 16/50\n",
            "11/11 [==============================] - 9s 835ms/step - det_loss: 0.6273 - cls_loss: 0.3965 - box_loss: 0.0046 - reg_l2_loss: 0.0636 - loss: 0.6909 - learning_rate: 0.0077 - gradient_norm: 4.5025 - val_det_loss: 0.7516 - val_cls_loss: 0.4793 - val_box_loss: 0.0054 - val_reg_l2_loss: 0.0636 - val_loss: 0.8152\n",
            "Epoch 17/50\n",
            "11/11 [==============================] - 9s 812ms/step - det_loss: 0.5673 - cls_loss: 0.3683 - box_loss: 0.0040 - reg_l2_loss: 0.0636 - loss: 0.6310 - learning_rate: 0.0075 - gradient_norm: 4.0245 - val_det_loss: 0.8295 - val_cls_loss: 0.5235 - val_box_loss: 0.0061 - val_reg_l2_loss: 0.0636 - val_loss: 0.8932\n",
            "Epoch 18/50\n",
            "11/11 [==============================] - 9s 813ms/step - det_loss: 0.5793 - cls_loss: 0.3640 - box_loss: 0.0043 - reg_l2_loss: 0.0637 - loss: 0.6430 - learning_rate: 0.0072 - gradient_norm: 3.6128 - val_det_loss: 0.7883 - val_cls_loss: 0.5499 - val_box_loss: 0.0048 - val_reg_l2_loss: 0.0637 - val_loss: 0.8520\n",
            "Epoch 19/50\n",
            "11/11 [==============================] - 9s 816ms/step - det_loss: 0.5226 - cls_loss: 0.3344 - box_loss: 0.0038 - reg_l2_loss: 0.0637 - loss: 0.5863 - learning_rate: 0.0069 - gradient_norm: 3.8074 - val_det_loss: 0.7054 - val_cls_loss: 0.4830 - val_box_loss: 0.0044 - val_reg_l2_loss: 0.0637 - val_loss: 0.7690\n",
            "Epoch 20/50\n",
            "11/11 [==============================] - 11s 1s/step - det_loss: 0.4965 - cls_loss: 0.3286 - box_loss: 0.0034 - reg_l2_loss: 0.0637 - loss: 0.5602 - learning_rate: 0.0066 - gradient_norm: 3.5242 - val_det_loss: 0.7734 - val_cls_loss: 0.5192 - val_box_loss: 0.0051 - val_reg_l2_loss: 0.0637 - val_loss: 0.8371\n",
            "Epoch 21/50\n",
            "11/11 [==============================] - 9s 804ms/step - det_loss: 0.4944 - cls_loss: 0.3221 - box_loss: 0.0034 - reg_l2_loss: 0.0637 - loss: 0.5581 - learning_rate: 0.0063 - gradient_norm: 3.3114 - val_det_loss: 0.7230 - val_cls_loss: 0.4891 - val_box_loss: 0.0047 - val_reg_l2_loss: 0.0637 - val_loss: 0.7867\n",
            "Epoch 22/50\n",
            "11/11 [==============================] - 9s 807ms/step - det_loss: 0.4783 - cls_loss: 0.3168 - box_loss: 0.0032 - reg_l2_loss: 0.0637 - loss: 0.5421 - learning_rate: 0.0060 - gradient_norm: 3.2441 - val_det_loss: 0.7048 - val_cls_loss: 0.4491 - val_box_loss: 0.0051 - val_reg_l2_loss: 0.0637 - val_loss: 0.7685\n",
            "Epoch 23/50\n",
            "11/11 [==============================] - 9s 820ms/step - det_loss: 0.5047 - cls_loss: 0.3202 - box_loss: 0.0037 - reg_l2_loss: 0.0637 - loss: 0.5684 - learning_rate: 0.0056 - gradient_norm: 3.9215 - val_det_loss: 0.7265 - val_cls_loss: 0.4730 - val_box_loss: 0.0051 - val_reg_l2_loss: 0.0637 - val_loss: 0.7903\n",
            "Epoch 24/50\n",
            "11/11 [==============================] - 9s 869ms/step - det_loss: 0.5059 - cls_loss: 0.3246 - box_loss: 0.0036 - reg_l2_loss: 0.0637 - loss: 0.5697 - learning_rate: 0.0053 - gradient_norm: 3.5395 - val_det_loss: 0.8863 - val_cls_loss: 0.5915 - val_box_loss: 0.0059 - val_reg_l2_loss: 0.0637 - val_loss: 0.9501\n",
            "Epoch 25/50\n",
            "11/11 [==============================] - 10s 981ms/step - det_loss: 0.4468 - cls_loss: 0.2893 - box_loss: 0.0032 - reg_l2_loss: 0.0638 - loss: 0.5105 - learning_rate: 0.0050 - gradient_norm: 3.6192 - val_det_loss: 0.8803 - val_cls_loss: 0.5992 - val_box_loss: 0.0056 - val_reg_l2_loss: 0.0638 - val_loss: 0.9441\n",
            "Epoch 26/50\n",
            "11/11 [==============================] - 9s 814ms/step - det_loss: 0.4406 - cls_loss: 0.2843 - box_loss: 0.0031 - reg_l2_loss: 0.0638 - loss: 0.5044 - learning_rate: 0.0047 - gradient_norm: 3.7804 - val_det_loss: 0.8827 - val_cls_loss: 0.5935 - val_box_loss: 0.0058 - val_reg_l2_loss: 0.0638 - val_loss: 0.9465\n",
            "Epoch 27/50\n",
            "11/11 [==============================] - 9s 803ms/step - det_loss: 0.4421 - cls_loss: 0.2960 - box_loss: 0.0029 - reg_l2_loss: 0.0638 - loss: 0.5058 - learning_rate: 0.0044 - gradient_norm: 3.9663 - val_det_loss: 0.7985 - val_cls_loss: 0.5578 - val_box_loss: 0.0048 - val_reg_l2_loss: 0.0638 - val_loss: 0.8622\n",
            "Epoch 28/50\n",
            "11/11 [==============================] - 9s 862ms/step - det_loss: 0.4817 - cls_loss: 0.3157 - box_loss: 0.0033 - reg_l2_loss: 0.0638 - loss: 0.5454 - learning_rate: 0.0040 - gradient_norm: 3.9372 - val_det_loss: 0.7492 - val_cls_loss: 0.5182 - val_box_loss: 0.0046 - val_reg_l2_loss: 0.0638 - val_loss: 0.8130\n",
            "Epoch 29/50\n",
            "11/11 [==============================] - 9s 816ms/step - det_loss: 0.4346 - cls_loss: 0.2846 - box_loss: 0.0030 - reg_l2_loss: 0.0638 - loss: 0.4984 - learning_rate: 0.0037 - gradient_norm: 4.0384 - val_det_loss: 0.7034 - val_cls_loss: 0.4674 - val_box_loss: 0.0047 - val_reg_l2_loss: 0.0638 - val_loss: 0.7671\n",
            "Epoch 30/50\n",
            "11/11 [==============================] - 10s 976ms/step - det_loss: 0.4431 - cls_loss: 0.2841 - box_loss: 0.0032 - reg_l2_loss: 0.0638 - loss: 0.5068 - learning_rate: 0.0034 - gradient_norm: 3.7021 - val_det_loss: 0.7464 - val_cls_loss: 0.5180 - val_box_loss: 0.0046 - val_reg_l2_loss: 0.0638 - val_loss: 0.8102\n",
            "Epoch 31/50\n",
            "11/11 [==============================] - 9s 825ms/step - det_loss: 0.4402 - cls_loss: 0.2688 - box_loss: 0.0034 - reg_l2_loss: 0.0638 - loss: 0.5040 - learning_rate: 0.0031 - gradient_norm: 3.2309 - val_det_loss: 0.7259 - val_cls_loss: 0.5016 - val_box_loss: 0.0045 - val_reg_l2_loss: 0.0638 - val_loss: 0.7897\n",
            "Epoch 32/50\n",
            "11/11 [==============================] - 9s 821ms/step - det_loss: 0.4176 - cls_loss: 0.2748 - box_loss: 0.0029 - reg_l2_loss: 0.0638 - loss: 0.4814 - learning_rate: 0.0028 - gradient_norm: 3.3283 - val_det_loss: 0.6882 - val_cls_loss: 0.4662 - val_box_loss: 0.0044 - val_reg_l2_loss: 0.0638 - val_loss: 0.7520\n",
            "Epoch 33/50\n",
            "11/11 [==============================] - 9s 867ms/step - det_loss: 0.4033 - cls_loss: 0.2657 - box_loss: 0.0028 - reg_l2_loss: 0.0638 - loss: 0.4671 - learning_rate: 0.0025 - gradient_norm: 3.1024 - val_det_loss: 0.6802 - val_cls_loss: 0.4553 - val_box_loss: 0.0045 - val_reg_l2_loss: 0.0638 - val_loss: 0.7440\n",
            "Epoch 34/50\n",
            "11/11 [==============================] - 9s 801ms/step - det_loss: 0.3800 - cls_loss: 0.2597 - box_loss: 0.0024 - reg_l2_loss: 0.0638 - loss: 0.4437 - learning_rate: 0.0023 - gradient_norm: 2.9808 - val_det_loss: 0.6690 - val_cls_loss: 0.4419 - val_box_loss: 0.0045 - val_reg_l2_loss: 0.0638 - val_loss: 0.7328\n",
            "Epoch 35/50\n",
            "11/11 [==============================] - 10s 959ms/step - det_loss: 0.3641 - cls_loss: 0.2431 - box_loss: 0.0024 - reg_l2_loss: 0.0638 - loss: 0.4279 - learning_rate: 0.0020 - gradient_norm: 2.6451 - val_det_loss: 0.6909 - val_cls_loss: 0.4543 - val_box_loss: 0.0047 - val_reg_l2_loss: 0.0638 - val_loss: 0.7547\n",
            "Epoch 36/50\n",
            "11/11 [==============================] - 9s 817ms/step - det_loss: 0.3653 - cls_loss: 0.2433 - box_loss: 0.0024 - reg_l2_loss: 0.0638 - loss: 0.4291 - learning_rate: 0.0018 - gradient_norm: 3.0812 - val_det_loss: 0.7092 - val_cls_loss: 0.4673 - val_box_loss: 0.0048 - val_reg_l2_loss: 0.0638 - val_loss: 0.7730\n",
            "Epoch 37/50\n",
            "11/11 [==============================] - 9s 875ms/step - det_loss: 0.3789 - cls_loss: 0.2465 - box_loss: 0.0026 - reg_l2_loss: 0.0638 - loss: 0.4427 - learning_rate: 0.0015 - gradient_norm: 3.0268 - val_det_loss: 0.7179 - val_cls_loss: 0.4808 - val_box_loss: 0.0047 - val_reg_l2_loss: 0.0638 - val_loss: 0.7817\n",
            "Epoch 38/50\n",
            "11/11 [==============================] - 9s 801ms/step - det_loss: 0.3702 - cls_loss: 0.2451 - box_loss: 0.0025 - reg_l2_loss: 0.0638 - loss: 0.4340 - learning_rate: 0.0013 - gradient_norm: 2.6998 - val_det_loss: 0.6995 - val_cls_loss: 0.4742 - val_box_loss: 0.0045 - val_reg_l2_loss: 0.0638 - val_loss: 0.7633\n",
            "Epoch 39/50\n",
            "11/11 [==============================] - 9s 819ms/step - det_loss: 0.3659 - cls_loss: 0.2492 - box_loss: 0.0023 - reg_l2_loss: 0.0638 - loss: 0.4297 - learning_rate: 0.0011 - gradient_norm: 2.8201 - val_det_loss: 0.6955 - val_cls_loss: 0.4681 - val_box_loss: 0.0045 - val_reg_l2_loss: 0.0638 - val_loss: 0.7593\n",
            "Epoch 40/50\n",
            "11/11 [==============================] - 10s 978ms/step - det_loss: 0.3846 - cls_loss: 0.2508 - box_loss: 0.0027 - reg_l2_loss: 0.0638 - loss: 0.4484 - learning_rate: 9.0130e-04 - gradient_norm: 2.5324 - val_det_loss: 0.6988 - val_cls_loss: 0.4686 - val_box_loss: 0.0046 - val_reg_l2_loss: 0.0638 - val_loss: 0.7626\n",
            "Epoch 41/50\n",
            "11/11 [==============================] - 9s 868ms/step - det_loss: 0.3566 - cls_loss: 0.2414 - box_loss: 0.0023 - reg_l2_loss: 0.0638 - loss: 0.4204 - learning_rate: 7.2635e-04 - gradient_norm: 2.9763 - val_det_loss: 0.6883 - val_cls_loss: 0.4560 - val_box_loss: 0.0046 - val_reg_l2_loss: 0.0638 - val_loss: 0.7521\n",
            "Epoch 42/50\n",
            "11/11 [==============================] - 9s 809ms/step - det_loss: 0.4083 - cls_loss: 0.2535 - box_loss: 0.0031 - reg_l2_loss: 0.0638 - loss: 0.4721 - learning_rate: 5.6896e-04 - gradient_norm: 3.4850 - val_det_loss: 0.6776 - val_cls_loss: 0.4457 - val_box_loss: 0.0046 - val_reg_l2_loss: 0.0638 - val_loss: 0.7414\n",
            "Epoch 43/50\n",
            "11/11 [==============================] - 9s 833ms/step - det_loss: 0.3660 - cls_loss: 0.2458 - box_loss: 0.0024 - reg_l2_loss: 0.0638 - loss: 0.4298 - learning_rate: 4.2978e-04 - gradient_norm: 3.3883 - val_det_loss: 0.6637 - val_cls_loss: 0.4333 - val_box_loss: 0.0046 - val_reg_l2_loss: 0.0638 - val_loss: 0.7275\n",
            "Epoch 44/50\n",
            "11/11 [==============================] - 9s 814ms/step - det_loss: 0.3400 - cls_loss: 0.2299 - box_loss: 0.0022 - reg_l2_loss: 0.0638 - loss: 0.4038 - learning_rate: 3.0938e-04 - gradient_norm: 2.9083 - val_det_loss: 0.6555 - val_cls_loss: 0.4272 - val_box_loss: 0.0046 - val_reg_l2_loss: 0.0638 - val_loss: 0.7193\n",
            "Epoch 45/50\n",
            "11/11 [==============================] - 11s 1s/step - det_loss: 0.3537 - cls_loss: 0.2302 - box_loss: 0.0025 - reg_l2_loss: 0.0638 - loss: 0.4175 - learning_rate: 2.0825e-04 - gradient_norm: 2.4113 - val_det_loss: 0.6516 - val_cls_loss: 0.4264 - val_box_loss: 0.0045 - val_reg_l2_loss: 0.0638 - val_loss: 0.7154\n",
            "Epoch 46/50\n",
            "11/11 [==============================] - 9s 824ms/step - det_loss: 0.3593 - cls_loss: 0.2351 - box_loss: 0.0025 - reg_l2_loss: 0.0638 - loss: 0.4231 - learning_rate: 1.2682e-04 - gradient_norm: 2.4276 - val_det_loss: 0.6496 - val_cls_loss: 0.4265 - val_box_loss: 0.0045 - val_reg_l2_loss: 0.0638 - val_loss: 0.7134\n",
            "Epoch 47/50\n",
            "11/11 [==============================] - 9s 808ms/step - det_loss: 0.3401 - cls_loss: 0.2249 - box_loss: 0.0023 - reg_l2_loss: 0.0638 - loss: 0.4039 - learning_rate: 6.5408e-05 - gradient_norm: 2.8875 - val_det_loss: 0.6473 - val_cls_loss: 0.4253 - val_box_loss: 0.0044 - val_reg_l2_loss: 0.0638 - val_loss: 0.7111\n",
            "Epoch 48/50\n",
            "11/11 [==============================] - 9s 830ms/step - det_loss: 0.3667 - cls_loss: 0.2476 - box_loss: 0.0024 - reg_l2_loss: 0.0638 - loss: 0.4305 - learning_rate: 2.4274e-05 - gradient_norm: 3.0487 - val_det_loss: 0.6450 - val_cls_loss: 0.4239 - val_box_loss: 0.0044 - val_reg_l2_loss: 0.0638 - val_loss: 0.7088\n",
            "Epoch 49/50\n",
            "11/11 [==============================] - 9s 816ms/step - det_loss: 0.3323 - cls_loss: 0.2204 - box_loss: 0.0022 - reg_l2_loss: 0.0638 - loss: 0.3961 - learning_rate: 3.5875e-06 - gradient_norm: 2.5254 - val_det_loss: 0.6410 - val_cls_loss: 0.4216 - val_box_loss: 0.0044 - val_reg_l2_loss: 0.0638 - val_loss: 0.7048\n",
            "Epoch 50/50\n",
            "11/11 [==============================] - 11s 1s/step - det_loss: 0.3661 - cls_loss: 0.2277 - box_loss: 0.0028 - reg_l2_loss: 0.0638 - loss: 0.4299 - learning_rate: 3.4319e-06 - gradient_norm: 2.6770 - val_det_loss: 0.6380 - val_cls_loss: 0.4195 - val_box_loss: 0.0044 - val_reg_l2_loss: 0.0638 - val_loss: 0.7018\n"
          ]
        }
      ]
    },
    {
      "cell_type": "code",
      "source": [
        "# Training loss and validation loss\n",
        "#loss = history.history['loss']\n",
        "#val_loss = history.history['val_loss']\n",
        "epochs = range(1, 51)\n",
        "\n",
        "plt.figure(figsize=(10, 5))\n",
        "plt.plot(epochs, loss, 'b',label='training_loss')\n",
        "plt.plot(epochs, val_loss, 'r', label='valid_loss')\n",
        "plt.xlabel('epochs')\n",
        "plt.legend()\n",
        "plt.show()"
      ],
      "metadata": {
        "colab": {
          "base_uri": "https://localhost:8080/",
          "height": 334
        },
        "outputId": "71581891-3dfd-401c-a58d-e5c748a0929e",
        "id": "qF409T5E5RKJ"
      },
      "execution_count": null,
      "outputs": [
        {
          "output_type": "display_data",
          "data": {
            "text/plain": [
              "<Figure size 720x360 with 1 Axes>"
            ],
            "image/png": "[encoded data removed]"
          },
          "metadata": {
            "needs_background": "light"
          }
        }
      ]
    },
    {
      "cell_type": "code",
      "source": [
        "model.evaluate(test_data)"
      ],
      "metadata": {
        "colab": {
          "base_uri": "https://localhost:8080/"
        },
        "id": "TvuB1dOkWV0w",
        "outputId": "7b2c05ac-195f-4750-82b2-4e3e08688538"
      },
      "execution_count": null,
      "outputs": [
        {
          "output_type": "stream",
          "name": "stdout",
          "text": [
            "\r1/1 [==============================] - 9s 9s/step\n",
            "\n"
          ]
        },
        {
          "output_type": "execute_result",
          "data": {
            "text/plain": [
              "{'AP': 0.47942576,\n",
              " 'AP50': 0.74249846,\n",
              " 'AP75': 0.60284466,\n",
              " 'AP_/Cow': 0.4508613,\n",
              " 'AP_/Deer': 0.46894196,\n",
              " 'AP_/Dog': 0.3779328,\n",
              " 'AP_/Leopard': 0.619967,\n",
              " 'APl': 0.62835765,\n",
              " 'APm': 0.15547068,\n",
              " 'APs': 0.5375963,\n",
              " 'ARl': 0.68666667,\n",
              " 'ARm': 0.2711111,\n",
              " 'ARmax1': 0.43903846,\n",
              " 'ARmax10': 0.5575,\n",
              " 'ARmax100': 0.5651923,\n",
              " 'ARs': 0.7}"
            ]
          },
          "metadata": {},
          "execution_count": 52
        }
      ]
    },
    {
      "cell_type": "code",
      "source": [
        "model.export(export_dir='/content/drive/MyDrive/Images/Models/object_detection_model.tflite')"
      ],
      "metadata": {
        "id": "37OgdlOwXy2E"
      },
      "execution_count": null,
      "outputs": []
    },
    {
      "cell_type": "code",
      "source": [
        "model_path = '/content/drive/MyDrive/Images/Models/object_detection_model.tflite/model.tflite'"
      ],
      "metadata": {
        "id": "HE_7ng7jYaip"
      },
      "execution_count": null,
      "outputs": []
    },
    {
      "cell_type": "code",
      "source": [
        "model.evaluate_tflite(model_path, test_data)"
      ],
      "metadata": {
        "colab": {
          "base_uri": "https://localhost:8080/"
        },
        "id": "9z1ba7NOYIRf",
        "outputId": "eac02f63-0b10-4fb3-e856-d357d49289f4"
      },
      "execution_count": null,
      "outputs": [
        {
          "output_type": "stream",
          "name": "stdout",
          "text": [
            "24/24 [==============================] - 66s 3s/step\n",
            "\n"
          ]
        },
        {
          "output_type": "execute_result",
          "data": {
            "text/plain": [
              "{'AP': 0.46135384,\n",
              " 'AP50': 0.7314863,\n",
              " 'AP75': 0.53069305,\n",
              " 'AP_/Cow': 0.44859782,\n",
              " 'AP_/Deer': 0.40919378,\n",
              " 'AP_/Dog': 0.38168317,\n",
              " 'AP_/Leopard': 0.6059406,\n",
              " 'APl': 0.56075495,\n",
              " 'APm': 0.14983499,\n",
              " 'APs': 0.7019802,\n",
              " 'ARl': 0.5758333,\n",
              " 'ARm': 0.17777778,\n",
              " 'ARmax1': 0.42040065,\n",
              " 'ARmax10': 0.48626602,\n",
              " 'ARmax100': 0.4901122,\n",
              " 'ARs': 0.7}"
            ]
          },
          "metadata": {},
          "execution_count": 55
        }
      ]
    },
    {
      "cell_type": "code",
      "source": [
        "!pip show opencv-python-headless"
      ],
      "metadata": {
        "colab": {
          "base_uri": "https://localhost:8080/"
        },
        "id": "FiE2p2zxaJr2",
        "outputId": "cedc6d6b-241f-4832-f935-1fcc24f1b631"
      },
      "execution_count": null,
      "outputs": [
        {
          "output_type": "stream",
          "name": "stdout",
          "text": [
            "Name: opencv-python-headless\n",
            "Version: 4.1.1.26\n",
            "Summary: Wrapper package for OpenCV python bindings.\n",
            "Home-page: https://github.com/skvark/opencv-python\n",
            "Author: None\n",
            "Author-email: None\n",
            "License: MIT\n",
            "Location: /usr/local/lib/python3.7/dist-packages\n",
            "Requires: numpy\n",
            "Required-by: tf-models-official\n"
          ]
        }
      ]
    },
    {
      "cell_type": "code",
      "source": [
        "!pip show opencv-python"
      ],
      "metadata": {
        "colab": {
          "base_uri": "https://localhost:8080/"
        },
        "id": "Kd9a4Luxar97",
        "outputId": "d6bb8218-5467-40e4-9918-778e08ef65ba"
      },
      "execution_count": null,
      "outputs": [
        {
          "output_type": "stream",
          "name": "stdout",
          "text": [
            "Name: opencv-python\n",
            "Version: 4.1.1.26\n",
            "Summary: Wrapper package for OpenCV python bindings.\n",
            "Home-page: https://github.com/skvark/opencv-python\n",
            "Author: None\n",
            "Author-email: None\n",
            "License: MIT\n",
            "Location: /usr/local/lib/python3.7/dist-packages\n",
            "Requires: numpy\n",
            "Required-by: imgaug, dopamine-rl, albumentations\n"
          ]
        }
      ]
    },
    {
      "cell_type": "code",
      "source": [
        "!pip uninstall opencv-python\n",
        "!pip install opencv-python==4.1.1.26y\n",
        "!pip uninstall opencv-python-headless\n",
        "!pip install opencv-python-headless==4.1.1.26"
      ],
      "metadata": {
        "id": "gYBIQXW_a7Am"
      },
      "execution_count": null,
      "outputs": []
    },
    {
      "cell_type": "code",
      "source": [
        "import cv2\n",
        "\n",
        "from PIL import Image\n",
        "\n",
        "model_path = '/content/drive/MyDrive/Images/Models/object_detection_model.tflite'\n",
        "\n",
        "# Load the labels into a list\n",
        "classes = ['???'] * model.model_spec.config.num_classes\n",
        "label_map = model.model_spec.config.label_map\n",
        "for label_id, label_name in label_map.as_dict().items():\n",
        "  classes[label_id-1] = label_name\n",
        "\n",
        "# Define a list of colors for visualization\n",
        "COLORS = np.random.randint(0, 255, size=(len(classes), 3), dtype=np.uint8)\n",
        "\n",
        "def preprocess_image(image_path, input_size):\n",
        "  \"\"\"Preprocess the input image to feed to the TFLite model\"\"\"\n",
        "  img = tf.io.read_file(image_path)\n",
        "  img = tf.io.decode_image(img, channels=3)\n",
        "  img = tf.image.convert_image_dtype(img, tf.uint8)\n",
        "  original_image = img\n",
        "  resized_img = tf.image.resize(img, input_size)\n",
        "  resized_img = resized_img[tf.newaxis, :]\n",
        "  resized_img = tf.cast(resized_img, dtype=tf.uint8)\n",
        "  return resized_img, original_image\n",
        "\n",
        "\n",
        "def detect_objects(interpreter, image, threshold):\n",
        "  \"\"\"Returns a list of detection results, each a dictionary of object info.\"\"\"\n",
        "\n",
        "  signature_fn = interpreter.get_signature_runner()\n",
        "\n",
        "  # Feed the input image to the model\n",
        "  output = signature_fn(images=image)\n",
        "\n",
        "  # Get all outputs from the model\n",
        "  count = int(np.squeeze(output['output_0']))\n",
        "  scores = np.squeeze(output['output_1'])\n",
        "  classes = np.squeeze(output['output_2'])\n",
        "  boxes = np.squeeze(output['output_3'])\n",
        "\n",
        "  results = []\n",
        "  for i in range(count):\n",
        "    if scores[i] >= threshold:\n",
        "      result = {\n",
        "        'bounding_box': boxes[i],\n",
        "        'class_id': classes[i],\n",
        "        'score': scores[i]\n",
        "      }\n",
        "      results.append(result)\n",
        "  return results\n",
        "\n",
        "\n",
        "def run_odt_and_draw_results(image_path, interpreter, threshold=0.5):\n",
        "  \"\"\"Run object detection on the input image and draw the detection results\"\"\"\n",
        "  # Load the input shape required by the model\n",
        "  _, input_height, input_width, _ = interpreter.get_input_details()[0]['shape']\n",
        "\n",
        "  # Load the input image and preprocess it\n",
        "  preprocessed_image, original_image = preprocess_image(\n",
        "      image_path,\n",
        "      (input_height, input_width)\n",
        "    )\n",
        "\n",
        "  # Run object detection on the input image\n",
        "  results = detect_objects(interpreter, preprocessed_image, threshold=threshold)\n",
        "\n",
        "  # Plot the detection results on the input image\n",
        "  original_image_np = original_image.numpy().astype(np.uint8)\n",
        "  for obj in results:\n",
        "    # Convert the object bounding box from relative coordinates to absolute\n",
        "    # coordinates based on the original image resolution\n",
        "    ymin, xmin, ymax, xmax = obj['bounding_box']\n",
        "    xmin = int(xmin * original_image_np.shape[1])\n",
        "    xmax = int(xmax * original_image_np.shape[1])\n",
        "    ymin = int(ymin * original_image_np.shape[0])\n",
        "    ymax = int(ymax * original_image_np.shape[0])\n",
        "\n",
        "    # Find the class index of the current object\n",
        "    class_id = int(obj['class_id'])\n",
        "\n",
        "    # Draw the bounding box and label on the image\n",
        "    color = [int(c) for c in COLORS[class_id]]\n",
        "    cv2.rectangle(original_image_np, (xmin, ymin), (xmax, ymax), color, 2)\n",
        "    # Make adjustments to make the label visible for all objects\n",
        "    y = ymin - 15 if ymin - 15 > 15 else ymin + 15\n",
        "    label = \"{}: {:.0f}%\".format(classes[class_id], obj['score'] * 100)\n",
        "    cv2.putText(original_image_np, label, (xmin, y),\n",
        "        cv2.FONT_HERSHEY_SIMPLEX, 0.5, color, 2)\n",
        "\n",
        "  # Return the final image\n",
        "  original_uint8 = original_image_np.astype(np.uint8)\n",
        "  return original_uint8"
      ],
      "metadata": {
        "id": "TQO74XLlYg7d"
      },
      "execution_count": null,
      "outputs": []
    },
    {
      "cell_type": "code",
      "source": [
        "INPUT_IMAGE_URL = \"/content/drive/MyDrive/Images/Train/Dogs/image_1.jpeg\"\n",
        "DETECTION_THRESHOLD = 0.3\n",
        "\n",
        "TEMP_FILE = '/content/drive/MyDrive/Images/Train/Dogs/image_1.jpeg'\n",
        "\n",
        "!wget -q -O $TEMP_FILE $INPUT_IMAGE_URL\n",
        "im = Image.open(TEMP_FILE)\n",
        "im.thumbnail((512, 512), Image.ANTIALIAS)\n",
        "im.save(TEMP_FILE, 'JPEG')\n",
        "\n",
        "# Load the TFLite model\n",
        "interpreter = tf.lite.Interpreter(model_path=model_path)\n",
        "interpreter.allocate_tensors()\n",
        "\n",
        "# Run inference and draw detection result on the local copy of the original file\n",
        "detection_result_image = run_odt_and_draw_results(\n",
        "    TEMP_FILE,\n",
        "    interpreter,\n",
        "    threshold=DETECTION_THRESHOLD\n",
        ")\n",
        "\n",
        "# Show the detection result\n",
        "Image.fromarray(detection_result_image)"
      ],
      "metadata": {
        "colab": {
          "base_uri": "https://localhost:8080/",
          "height": 305
        },
        "id": "CjyWTx7_ZHfC",
        "outputId": "448b4246-2e88-4704-9ce8-eca47cc0c069"
      },
      "execution_count": null,
      "outputs": [
        {
          "output_type": "execute_result",
          "data": {
            "text/plain": [
              "<PIL.Image.Image image mode=RGB size=512x288 at 0x7F69DE75D410>"
            ],
            "image/png": "[encoded data removed]"
          },
          "metadata": {},
          "execution_count": 69
        }
      ]
    }
  ]
}